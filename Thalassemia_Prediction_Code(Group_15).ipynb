{
  "nbformat": 4,
  "nbformat_minor": 0,
  "metadata": {
    "colab": {
      "provenance": []
    },
    "kernelspec": {
      "name": "python3",
      "display_name": "Python 3"
    },
    "language_info": {
      "name": "python"
    }
  },
  "cells": [
    {
      "cell_type": "markdown",
      "source": [
        "# **IMPORTING LIBRARIES**\n"
      ],
      "metadata": {
        "id": "6lHFxju1wFkv"
      }
    },
    {
      "cell_type": "code",
      "source": [
        "import pandas as pd\n"
      ],
      "metadata": {
        "id": "IweAz9f2wOvq"
      },
      "execution_count": null,
      "outputs": []
    },
    {
      "cell_type": "code",
      "source": [
        "\n",
        "import numpy as np\n",
        "\n",
        "from sklearn.metrics import roc_auc_score, roc_curve, auc\n",
        "from sklearn.model_selection import train_test_split\n",
        "from imblearn.over_sampling import SMOTE\n",
        "from sklearn import metrics\n",
        "from scipy import interp\n",
        "\n",
        "from sklearn.ensemble import RandomForestClassifier\n",
        "from sklearn.neighbors import KNeighborsClassifier\n",
        "from sklearn.linear_model import LogisticRegression\n",
        "from sklearn.naive_bayes import GaussianNB\n",
        "from sklearn.svm import SVC\n",
        "from sklearn import tree\n",
        "\n",
        "import matplotlib.pyplot as plt\n",
        "%matplotlib inline"
      ],
      "metadata": {
        "id": "srrLtwNfIdzC"
      },
      "execution_count": null,
      "outputs": []
    },
    {
      "cell_type": "markdown",
      "source": [
        "# **IMPORTING DATASET**\n",
        "\n"
      ],
      "metadata": {
        "id": "918WF7ZjwMDp"
      }
    },
    {
      "cell_type": "code",
      "source": [
        "from google.colab import files\n",
        "files.upload()"
      ],
      "metadata": {
        "colab": {
          "base_uri": "https://localhost:8080/",
          "height": 1000
        },
        "id": "Juc9Ig82yguI",
        "outputId": "79b7aac5-194f-4914-a44a-8ffe0b81f49a"
      },
      "execution_count": null,
      "outputs": [
        {
          "output_type": "display_data",
          "data": {
            "text/plain": [
              "<IPython.core.display.HTML object>"
            ],
            "text/html": [
              "\n",
              "     <input type=\"file\" id=\"files-7e0244e1-60de-4411-aea0-39eca5d74f07\" name=\"files[]\" multiple disabled\n",
              "        style=\"border:none\" />\n",
              "     <output id=\"result-7e0244e1-60de-4411-aea0-39eca5d74f07\">\n",
              "      Upload widget is only available when the cell has been executed in the\n",
              "      current browser session. Please rerun this cell to enable.\n",
              "      </output>\n",
              "      <script>// Copyright 2017 Google LLC\n",
              "//\n",
              "// Licensed under the Apache License, Version 2.0 (the \"License\");\n",
              "// you may not use this file except in compliance with the License.\n",
              "// You may obtain a copy of the License at\n",
              "//\n",
              "//      http://www.apache.org/licenses/LICENSE-2.0\n",
              "//\n",
              "// Unless required by applicable law or agreed to in writing, software\n",
              "// distributed under the License is distributed on an \"AS IS\" BASIS,\n",
              "// WITHOUT WARRANTIES OR CONDITIONS OF ANY KIND, either express or implied.\n",
              "// See the License for the specific language governing permissions and\n",
              "// limitations under the License.\n",
              "\n",
              "/**\n",
              " * @fileoverview Helpers for google.colab Python module.\n",
              " */\n",
              "(function(scope) {\n",
              "function span(text, styleAttributes = {}) {\n",
              "  const element = document.createElement('span');\n",
              "  element.textContent = text;\n",
              "  for (const key of Object.keys(styleAttributes)) {\n",
              "    element.style[key] = styleAttributes[key];\n",
              "  }\n",
              "  return element;\n",
              "}\n",
              "\n",
              "// Max number of bytes which will be uploaded at a time.\n",
              "const MAX_PAYLOAD_SIZE = 100 * 1024;\n",
              "\n",
              "function _uploadFiles(inputId, outputId) {\n",
              "  const steps = uploadFilesStep(inputId, outputId);\n",
              "  const outputElement = document.getElementById(outputId);\n",
              "  // Cache steps on the outputElement to make it available for the next call\n",
              "  // to uploadFilesContinue from Python.\n",
              "  outputElement.steps = steps;\n",
              "\n",
              "  return _uploadFilesContinue(outputId);\n",
              "}\n",
              "\n",
              "// This is roughly an async generator (not supported in the browser yet),\n",
              "// where there are multiple asynchronous steps and the Python side is going\n",
              "// to poll for completion of each step.\n",
              "// This uses a Promise to block the python side on completion of each step,\n",
              "// then passes the result of the previous step as the input to the next step.\n",
              "function _uploadFilesContinue(outputId) {\n",
              "  const outputElement = document.getElementById(outputId);\n",
              "  const steps = outputElement.steps;\n",
              "\n",
              "  const next = steps.next(outputElement.lastPromiseValue);\n",
              "  return Promise.resolve(next.value.promise).then((value) => {\n",
              "    // Cache the last promise value to make it available to the next\n",
              "    // step of the generator.\n",
              "    outputElement.lastPromiseValue = value;\n",
              "    return next.value.response;\n",
              "  });\n",
              "}\n",
              "\n",
              "/**\n",
              " * Generator function which is called between each async step of the upload\n",
              " * process.\n",
              " * @param {string} inputId Element ID of the input file picker element.\n",
              " * @param {string} outputId Element ID of the output display.\n",
              " * @return {!Iterable<!Object>} Iterable of next steps.\n",
              " */\n",
              "function* uploadFilesStep(inputId, outputId) {\n",
              "  const inputElement = document.getElementById(inputId);\n",
              "  inputElement.disabled = false;\n",
              "\n",
              "  const outputElement = document.getElementById(outputId);\n",
              "  outputElement.innerHTML = '';\n",
              "\n",
              "  const pickedPromise = new Promise((resolve) => {\n",
              "    inputElement.addEventListener('change', (e) => {\n",
              "      resolve(e.target.files);\n",
              "    });\n",
              "  });\n",
              "\n",
              "  const cancel = document.createElement('button');\n",
              "  inputElement.parentElement.appendChild(cancel);\n",
              "  cancel.textContent = 'Cancel upload';\n",
              "  const cancelPromise = new Promise((resolve) => {\n",
              "    cancel.onclick = () => {\n",
              "      resolve(null);\n",
              "    };\n",
              "  });\n",
              "\n",
              "  // Wait for the user to pick the files.\n",
              "  const files = yield {\n",
              "    promise: Promise.race([pickedPromise, cancelPromise]),\n",
              "    response: {\n",
              "      action: 'starting',\n",
              "    }\n",
              "  };\n",
              "\n",
              "  cancel.remove();\n",
              "\n",
              "  // Disable the input element since further picks are not allowed.\n",
              "  inputElement.disabled = true;\n",
              "\n",
              "  if (!files) {\n",
              "    return {\n",
              "      response: {\n",
              "        action: 'complete',\n",
              "      }\n",
              "    };\n",
              "  }\n",
              "\n",
              "  for (const file of files) {\n",
              "    const li = document.createElement('li');\n",
              "    li.append(span(file.name, {fontWeight: 'bold'}));\n",
              "    li.append(span(\n",
              "        `(${file.type || 'n/a'}) - ${file.size} bytes, ` +\n",
              "        `last modified: ${\n",
              "            file.lastModifiedDate ? file.lastModifiedDate.toLocaleDateString() :\n",
              "                                    'n/a'} - `));\n",
              "    const percent = span('0% done');\n",
              "    li.appendChild(percent);\n",
              "\n",
              "    outputElement.appendChild(li);\n",
              "\n",
              "    const fileDataPromise = new Promise((resolve) => {\n",
              "      const reader = new FileReader();\n",
              "      reader.onload = (e) => {\n",
              "        resolve(e.target.result);\n",
              "      };\n",
              "      reader.readAsArrayBuffer(file);\n",
              "    });\n",
              "    // Wait for the data to be ready.\n",
              "    let fileData = yield {\n",
              "      promise: fileDataPromise,\n",
              "      response: {\n",
              "        action: 'continue',\n",
              "      }\n",
              "    };\n",
              "\n",
              "    // Use a chunked sending to avoid message size limits. See b/62115660.\n",
              "    let position = 0;\n",
              "    do {\n",
              "      const length = Math.min(fileData.byteLength - position, MAX_PAYLOAD_SIZE);\n",
              "      const chunk = new Uint8Array(fileData, position, length);\n",
              "      position += length;\n",
              "\n",
              "      const base64 = btoa(String.fromCharCode.apply(null, chunk));\n",
              "      yield {\n",
              "        response: {\n",
              "          action: 'append',\n",
              "          file: file.name,\n",
              "          data: base64,\n",
              "        },\n",
              "      };\n",
              "\n",
              "      let percentDone = fileData.byteLength === 0 ?\n",
              "          100 :\n",
              "          Math.round((position / fileData.byteLength) * 100);\n",
              "      percent.textContent = `${percentDone}% done`;\n",
              "\n",
              "    } while (position < fileData.byteLength);\n",
              "  }\n",
              "\n",
              "  // All done.\n",
              "  yield {\n",
              "    response: {\n",
              "      action: 'complete',\n",
              "    }\n",
              "  };\n",
              "}\n",
              "\n",
              "scope.google = scope.google || {};\n",
              "scope.google.colab = scope.google.colab || {};\n",
              "scope.google.colab._files = {\n",
              "  _uploadFiles,\n",
              "  _uploadFilesContinue,\n",
              "};\n",
              "})(self);\n",
              "</script> "
            ]
          },
          "metadata": {}
        },
        {
          "output_type": "stream",
          "name": "stdout",
          "text": [
            "Saving thalassemia_dataset.csv to thalassemia_dataset (4).csv\n"
          ]
        },
        {
          "output_type": "execute_result",
          "data": {
            "text/plain": [
              "{'thalassemia_dataset (4).csv': b'Patient ID,Name,Age,Sex,Hb A,Hb F,Hb E,Hb A2,Target_Class\\r\\n69,Gani,24,Male,94,0,0,6,Normal\\r\\n70,Mehjabeen,19,Female,97,0,0,3,Normal\\r\\n71,Sadia,21,Female,96.5,0,0,3.5,Normal\\r\\n72,Marzia,22,Female,96.9,0,0,3.1,Normal\\r\\n73,Saikat,25,Male,96.6,0,0,3.4,Normal\\r\\n74,Sojib,25,Male,96.8,0,0,3.2,Normal\\r\\n75,Saiful,24,Male,96.8,0,0,3.2,Normal\\r\\n76,Fhmida,25,Female,96.5,0,0,3.5,Normal\\r\\n77,Monir,25,Male,93.3,0,0,6.7,Normal\\r\\n78,Sumi,21,Female,65.3,0,30,4.7,E trait\\r\\n79,Sabiha,21,Female,96.8,0,0,3.2,Normal\\r\\n80,Toma,23,Female,97.1,0,0,2.9,Normal\\r\\n81,Rafi,23,Female,96.7,0,0,3.3,Normal\\r\\n82,Jannatul,24,Female,96.6,0,0,3.4,Normal\\r\\n83,Akhi,25,Female,97,0,0,3,Normal\\r\\n84,Tonu,25,Female,96.7,0,0,3.3,Normal\\r\\n85,Tangina,25,Female,97,0,0,3,Normal\\r\\n86,Juthi,25,Female,97.1,0,0,2.9,Normal\\r\\n87,Saima,20,Female,97.2,0,0,2.8,Normal\\r\\n88,Jasim,26,Male,96.7,0,0,3.3,Normal\\r\\n89,Dipti,24,Female,96.5,0,0,3.5,Normal\\r\\n90,Murad,26,Male,96.7,0,0,3.3,Normal\\r\\n91,Anik,25,Male,96.5,0,0,3.5,Normal\\r\\n92,Aldin,24,Male,96.6,0,0,3.4,Normal\\r\\n93,Trishna,25,Female,96.7,0,0,3.3,Normal\\r\\n94,Hasina,24,Female,96.5,0,0,3.5,Normal\\r\\n95,Omar,25,Male,96.7,0,0,3.3,Normal\\r\\n97,Mrinmoy,23,Male,96.6,0,0,3.4,Normal\\r\\n98,Mirza,23,Male,96.6,0,0,3.4,Normal\\r\\n99,Ananya,23,Female,96.7,0,0,3.3,Normal\\r\\n77,Monir,25,Male,91.4,0,0,8.6,Normal\\r\\n96,Suchona,24,Female,97.1,0,0,2.9,Normal\\r\\nM20,Roxana,31,Female,92,0,0,8,Normal\\r\\nM21,Nazrul,42,Male,61.1,,35,3.9,Normal\\r\\n100,Dola,24,Female,96.5,0,0,3.5,Normal\\r\\n101,Sushmita,23,Female,96.6,0,0,3.4,Normal\\r\\n102,Yousuf,24,Male,59.8,0,35.7,4.5,E trait\\r\\n103,Shamima,24,Female,96.7,0,0,3.3,Normal\\r\\n104,Nafija,23,Female,56.7,0,38.3,5,E trait\\r\\n105,Khadiza,23,Female,96.4,0,0,3.6,Normal\\r\\n106,Thaufikur,24,Male,96.7,0,0,3.3,Normal\\r\\n107,Arifa,23,Female,96.6,0,0,3.4,Normal\\r\\n108,Shakil,23,Male,57.6,0,37.5,4.9,E trait\\r\\n109,Ikramul,26,Male,96.7,0,0,3.3,Normal\\r\\n110,Sukanta,25,Male,96.7,0,0,3.3,Normal\\r\\n111,Anup,25,Male,96.6,0,0,3.4,Normal\\r\\n112,Oahida,25,Female,96.5,0,0,3.5,Normal\\r\\n113,Topu,21,Male,96.6,0,0,3.4,Normal\\r\\n114,Shakil,24,Male,96.8,0,0,3.2,Normal\\r\\n115,Sultana,24,Male,96.6,0,0,3.4,Normal\\r\\n116,Tanzimul,23,Male,96.7,0,0,3.3,Normal\\r\\n117,Aktaruzzaman,24,Male,96.6,0,0,3.4,Normal\\r\\n118,Abdullah,21,Male,96.7,0,0,3.3,Normal\\r\\n119,Tareq,23,Male,96.8,0,0,3.2,Normal\\r\\n120,Maruf,23,Male,96.8,0,0,3.2,Normal\\r\\n121,Ramzan,22,Male,96.6,0,0,3.4,Normal\\r\\n122,Shifa,21,Female,96.7,0,0,3.3,Normal\\r\\n123,Sultana,26,Female,55.8,0,38.9,5.3,E trait\\r\\n124,Shyma,24,Female,61.1,0,33.5,5.4,E trait\\r\\n125,Tania,23,Female,96.5,0,0,3.5,Normal\\r\\n126,Arpon,25,Male,96.9,0,0,3.1,Normal\\r\\n127,Kamran,20,Male,97.2,0,0,2.8,Normal\\r\\n128,Imran,23,Male,97.3,0,0,2.7,Normal\\r\\n129,Tohura,22,Female,97.3,0,0,2.7,Normal\\r\\n130,Safayet,22,Male,97.1,0,0,2.9,Normal\\r\\n131,Takdeer,22,Male,97.7,0,0,2.3,Normal\\r\\n132,Sanjida,21,Female,97.4,0,0,2.6,Normal\\r\\n133,Ayesha,22,Female,97.4,0,0,2.6,Normal\\r\\n134,Torikul,23,Male,97.3,0,0,2.7,Normal\\r\\n135,Mahjabin,25,Female,71.5,0,25.1,3.4,E trait\\r\\n145,Ashikur,25,Male,97,0,0,3,Normal\\r\\n144,Maimuna,10,Female,95.9,1.6,0,2.5,Beta trait\\r\\n143,Momotaj,22,Female,98.4,0,0,1.6,Normal\\r\\n142,Fazlul,26,Male,97.1,0,0,2.9,Normal\\r\\n141,Ruma,20,Female,97.7,0,0,2.3,Normal\\r\\n140,Israt,22,Female,96.8,0,0,3.2,Normal\\r\\n139,Israt,23,Female,97.2,0,0,2.8,Normal\\r\\n138,Farhin,24,Female,97.6,0,0,2.4,Normal\\r\\n137,Jannatul,21,Female,97.7,0,0,2.3,Normal\\r\\n136,Shohanur,23,Male,97.7,0,0,2.3,Normal\\r\\nM22,Mwherun,40,Female,97.3,0,0,2.7,Normal\\r\\nM23,Selim,37,Male,77,0,19.7,3.3,E trait\\r\\nM24,Forhad,62,Male,96.7,0,0,3.3,Normal\\r\\nM25,Alamgir,29,Male,97.3,0,0,2.7,Normal\\r\\n146,Shathi,24,Female,97.2,0,0,2.8,Normal\\r\\n147,Rokeya,24,Female,96.8,0,0,3.2,Normal\\r\\n148,Mahmodur,25,Male,96.6,0,0,3.4,Normal\\r\\n149,Shila,22,Female,97.9,0,0,2.1,Normal\\r\\n150,Afsana,23,Female,97.1,0,0,2.9,Normal\\r\\n151,Richita,21,Female,96.6,0,0,3.4,Normal\\r\\n152,Tozammal,25,Male,96.6,0,0,3.4,Normal\\r\\n153,Farjana,24,Female,96.8,0,0,3.2,Normal\\r\\n154,Rarhana,23,Female,97.1,0,0,2.9,Normal\\r\\n155,Istiaq,24,Male,97.4,0,0,2.6,Normal\\r\\n156,Mahafuza,25,Female,97.3,0,0,2.7,Normal\\r\\n157,Sara,23,Female,96.9,0,0,3.1,Normal\\r\\n158,Al-Amin,19,Male,96.7,0,0,3.3,Normal\\r\\n159,Nadima,22,Female,96.7,0,0,3.3,Normal\\r\\n160,Edris Ali,27,Male,96.6,0,0,3.4,Normal\\r\\n161,Aysha,20,Female,96.6,0,0,3.4,Normal\\r\\n162,Shahnaj,22,Female,0.8,0,0,99.2,Normal\\r\\n164,Shithi,23,Female,71.2,0,24.8,4,E trait\\r\\n165,Fatema,22,Female,97.9,0,0,2.1,Normal\\r\\n166,Mahamuda,22,Female,64.8,0,31.1,4.1,E trait\\r\\n167,Fatima,22,Female,96.7,0,0,3.3,Normal\\r\\nM23,Selim,37,Male,73.6,0,22.2,4.2,E trait\\r\\n162,Shahnaj,22,Female,96.5,0,0,3.5,Normal\\r\\n163,Eate,21,Female,97.4,0,0,2.6,Normal\\r\\n168,Arifa,22,Female,68,0,28,4,E trait\\r\\n169,Monisha,22,Female,97,0,0,3,Normal\\r\\n170,Rakib,29,Male,96.8,0,0,3.2,Normal\\r\\n171,Amena,23,Female,96.8,0,0,3.2,Normal\\r\\n172,Arafat,23,Male,97.4,0,0,2.6,Normal\\r\\n173,Ahad,25,Male,97.1,0,0,2.9,Normal\\r\\n174,Rasel,24,Male,97.4,0,0,2.6,Normal\\r\\n175,Reza,23,Female,96.7,0,0,3.3,Normal\\r\\n176,Sharaban,23,Female,97.8,0,0,2.2,Normal\\r\\n177,Seiam,19,Male,96.7,0,0,3.3,Normal\\r\\n178,Rani,23,Female,96.9,0,0,3.1,Normal\\r\\n179,Nisat,23,Female,96.9,0,0,3.1,Normal\\r\\n180,Shompa,21,Female,67.7,0,28.3,4,E trait\\r\\n181,Arifur,25,Male,97,0,0,3,Normal\\r\\n182,Tahmid,21,Male,97.1,0,0,2.9,Normal\\r\\n183,Alamgir,21,Male,96.6,0,0,3.4,Normal\\r\\n184,Rowshan,22,Male,69.1,0,27.3,3.6,E trait\\r\\n185,Tanzil,24,Male,97,0,0,3,Normal\\r\\n186,Himu,22,Male,67.6,0,28,4.4,Normal\\r\\n187,Afrina,22,Female,96.6,0,0,3.4,Normal\\r\\n188,Kamran,22,Male,69.2,0,26.9,3.9,E trait\\r\\n189,Mehedi,25,Male,96.8,0,0,3.2,Normal\\r\\n190,Nila,24,Female,96.7,0,0,3.3,Normal\\r\\nM189,Israt,34,Female,97.4,0,0,2.6,Normal\\r\\nM190,Alif,1,Male,83.3,11.9,0,4.8,Beta trait\\r\\nM194,Dabashis,24,Male,97.7,0,0,2.3,Normal\\r\\nM195,Shajeda,22,Male,97.6,0,0,2.4,Normal\\r\\nM192,Jahid,45,Male,95.4,0,0,4.6,Normal\\r\\nM196,Hasibul,18,Male,97.7,0,0,2.3,Normal\\r\\nM198,Tashfia,4,Female,91.2,6.2,0,2.6,Beta trait\\r\\nM199,Moreom,22,Female,97.7,0,0,2.3,Normal\\r\\nM200,Shahria,4,Male,90.1,6.6,0,3.3,Beta trait\\r\\nM201,Champa,20,Female,95.3,0,0,4.7,Normal\\r\\nM202,Rizaul,28,Male,50.3,0,44,5.7,E trait\\r\\nM203,Nizam,3,Male,82.6,3.9,10.2,3.3,E trait\\r\\nM205,Sabina,24,Female,98.3,0,0,1.7,Normal\\r\\nM204,Alif,8,Male,86.1,10.7,0,3.2,Normal\\r\\nM206,Juyel,23,Male,97,0,0,3,Normal\\r\\nM208,Protap,55,Male,71.2,0,24.9,3.9,E trait\\r\\nM209,Somapto,24,Male,0,19.3,72.6,8.1,E trait\\r\\n5102,Sazzad,22,Male,72.1,0,24.9,3,E trait\\r\\n5104,Jibon,22,Male,71.6,0,25.1,3.3,E trait\\r\\n5106,Sakhawat,21,Male,97.2,0,0,2.8,Normal\\r\\n5107,Kabir,23,Male,97.2,0,0,2.8,Normal\\r\\n5108,Jahirul,23,Male,72,0,24.5,3.5,E trait\\r\\n5109,Suhail,23,Male,71.3,0,25.3,3.4,E trait\\r\\n5110,Ranbiul,23,Male,97.3,0,0,2.7,Normal\\r\\n5111,Sarwar,22,Male,97.5,0,0,2.5,Normal\\r\\n5112,Mahmud,23,Male,97,0,0,3,Normal\\r\\n5113,Boni,20,Male,71.8,0,24.8,3.4,E trait\\r\\n5114,Mofassol,25,Male,97.3,0,0,2.7,Normal\\r\\n5115,Ivy,23,Male,97.6,0,0,2.4,Normal\\r\\n5116,Ratul,21,Male,97.4,0,0,2.6,Normal\\r\\n5117,Mitu,23,Female,97.3,0,0,2.7,Normal\\r\\n5101,Iqbal,22,Male,97.5,0,0,2.5,Normal\\r\\n5102,Sazzad,22,Male,71,0,25.5,3.5,E trait\\r\\n5103,Biswajit,23,Male,97.6,0,0,2.4,Normal\\r\\n5105,Hamidur,22,Male,97.4,0,0,2.6,Normal\\r\\n5118,Jalil,23,Male,97.4,0,0,2.6,Normal\\r\\n5119,Tania,24,Female,97.6,0,0,2.4,Normal\\r\\nM210,Shirin,40,Female,98.3,0,0,1.7,Normal\\r\\nM211,Arafat,13,Male,67.8,2.9,25,4.3,E trait\\r\\nM213,Rubina,24,Female,97.6,0,0,2.4,Normal\\r\\nM214,Borna,24,Female,97.3,0,0,2.7,Normal\\r\\nM215,Sabina,25,Female,97.7,0,0,2.3,Normal\\r\\nM216,Razena,23,Female,97.6,0,0,2.4,Normal\\r\\nM217,Rabiul,26,Male,97.4,0,0,25.6,Normal\\r\\nM218,Afsana,27,Female,97.6,0,0,2.4,Normal\\r\\nM219,Sarmina,23,Female,97.4,0,0,2.4,Normal\\r\\nM220,Jannat,22,Female,97.5,0,0,2.5,Normal\\r\\n5309,Marjana,23,Female,97.8,0,0,2.2,Normal\\r\\nM212,Sagorika,27,Female,97.3,0,0,2.7,Normal\\r\\nM221,Imrul,9,Male,0,43.1,51.4,5.5,E trait\\r\\nM224,Nizam,3,Male,68.5,11.8,16,3.7,E trait\\r\\nM223,Arafat,13,Male,39.2,18.2,37.5,5.1,E trait\\r\\nM222,Kairul,14,Male,0,26.6,66.9,6.5,E trait\\r\\n5391,Anamika,25,Female,97.1,0,0,2.9,Normal\\r\\nM225,Rabindranath,37,Male,97.5,0,0,2.5,Normal\\r\\nM226,Khuk Mia,35,Male,95.1,0,0,4.9,Normal\\r\\nM227,Samima,30,Female,95,0,0,5,Normal\\r\\nM228,Kawser,25,Male,97.3,0,0,2.7,Normal\\r\\nM229,Addi,3,Male,71.9,24.1,0,4,E trait\\r\\n5343,Ajay,25,Male,97.4,0,0,2.6,Normal\\r\\n5345,Shohanur,24,Male,97.7,0,0,2.3,Normal\\r\\n5347,Sayma,23,Female,97,0,0,3,Normal\\r\\n5349,Shamim,19,Male,97.4,0,0,2.6,Normal\\r\\n5350,Mehedi,25,Male,97.4,0,0,2.6,Normal\\r\\n5351,Salma,24,Female,97.3,0,0,2.7,Normal\\r\\n5352,Sobuj,24,Male,97.4,0,0,2.6,Normal\\r\\n5353,Habibur,24,Male,71.3,0,25.7,3,E trait\\r\\n5354,Fatiha,24,Female,97.6,0,0,2.4,Normal\\r\\n5355,Sultana,46,Female,97.6,0,0,2.4,Normal\\r\\n5356,Redwan,26,Male,97.6,0,0,2.4,Normal\\r\\n5357,Mojahidul,24,Male,97.5,0,0,2.5,Normal\\r\\n5358,Saiful,24,Male,97.4,0,0,2.6,Normal\\r\\n5359,Dhipak,27,Male,97.3,0,0,2.7,Normal\\r\\n5360,Mahmudur,25,Male,72.6,0,23.6,3.8,E trait\\r\\n5361,Nahid,24,Male,97.8,0,0,2.2,Normal\\r\\n5362,Sujan,24,Male,97.4,0,0,2.6,Normal\\r\\n5363,Parvaz,25,Male,97.1,0,0,2.9,Normal\\r\\n5364,Puja,25,Female,74.8,0,21.9,3.3,E trait\\r\\n5365,Jibon,24,Male,70.9,0,25.7,3.4,E trait\\r\\n5366,Ferdiousi,24,Female,97.3,0,0,2.7,Normal\\r\\n5367,Saima,25,Female,97.6,0,0,2.4,Normal\\r\\n5368,Rashedul,24,Male,97.2,0,0,2.8,Normal\\r\\n5369,Aktaruzzaman,24,Male,97.4,0,0,2.6,Normal\\r\\n5370,Sultana,24,Female,97.4,0,0,2.6,Normal\\r\\n5371,Debashis,26,Male,97.3,0,0,2.7,Normal\\r\\n5372,Shilpi,26,Female,97.1,0,0,2.9,Normal\\r\\n5373,Saumik,27,Male,97.3,0,0,2.7,Normal\\r\\n5374,Nabi,25,Male,97.6,0,0,2.4,Normal\\r\\n5375,Apurba,24,Male,97.1,0,0,2.9,Normal\\r\\n5376,Jim,24,Female,96.8,0,0,3.2,Normal\\r\\n5377,Papri,24,Female,97.2,0,0,2.8,Normal\\r\\n5378,Sanjoy,25,Male,98.2,0,0,1.8,Normal\\r\\n5379,Zahid,25,Male,97.9,0,0,2.1,Normal\\r\\n5380,Niloy,27,Male,97.4,0,0,2.6,Normal\\r\\n5381,Ratan,27,Male,97.3,0,0,2.7,Normal\\r\\n5382,Abhishak,27,Male,97.3,0,0,2.7,Normal\\r\\n5383,Piyas,25,Male,97.4,0,0,2.6,Normal\\r\\n5384,Mourin,23,Female,97.3,0,0,2.7,Normal\\r\\n5385,Dina,21,Female,97.5,0,0,2.5,Normal\\r\\n5386,Maria,17,Female,97.5,0,0,2.5,Normal\\r\\n5387,Sohag,23,Male,72.2,0,24.5,3.3,E trait\\r\\n5388,Shahid,24,Male,74.1,0,22.3,3.6,E trait\\r\\n5389,Reza,26,Male,97.1,0,0,2.9,Normal\\r\\n5390,Tawhidul,24,Male,97.6,0,0,2.4,Normal\\r\\n5304,Laila,26,Female,97.3,0,0,2.7,Normal\\r\\n5315,Arif,23,Male,97.4,0,0,2.6,Normal\\r\\n5333,Forhad,24,Male,97.4,0,0,2.6,Normal\\r\\n5308,Toma,20,Female,71,0,25.7,3.3,E trait\\r\\n5344,Masud,26,Female,97.7,0,0,2.3,Normal\\r\\n5346,Tareq,22,Male,97.6,0,0,2.4,Normal\\r\\n5348,Ali,28,Male,97.1,0,0,2.9,Normal\\r\\n5316,Kawsar,25,Male,97.1,0,0,2.9,Normal\\r\\n5318,Evana,23,Female,97.2,0,0,2.8,Normal\\r\\n5317,Rabbi,28,Male,97.5,0,0,2.5,Normal\\r\\n5319,Mamun,20,Male,97.5,0,0,2.5,Normal\\r\\n5320,Tanjila,26,Female,97.5,0,0,2.5,Normal\\r\\n5321,Shariful,26,Male,97.6,0,0,2.4,Normal\\r\\n5322,Shariful,24,Male,97.4,0,0,2.6,Normal\\r\\n5323,Mahbub,23,Male,71.6,0,25.1,3.3,E trait\\r\\n5324,Naosad,25,Male,97,0,0,3,Normal\\r\\n5325,Sathi,23,Female,97.3,0,0,2.7,Normal\\r\\n5326,Alif,24,Male,97.4,0,0,2.6,Normal\\r\\n5327,Atiqur,25,Male,97.5,0,0,2.5,Normal\\r\\n5328,Arafat,24,Male,97.3,0,0,2.7,Normal\\r\\n5329,Kamran,22,Male,97.7,0,0,2.3,Normal\\r\\n5330,Naimul,27,Male,97.3,0,0,2.7,Normal\\r\\n5332,Hedayet,23,Male,97.6,0,0,2.4,Normal\\r\\n5334,Rakibul,23,Male,97.9,0,0,2.1,Normal\\r\\n5335,Anaratul,23,Female,97.6,0,0,2.4,Normal\\r\\n5336,Asadullah,27,Male,96.9,0,0,3.1,Normal\\r\\n5337,Rahaman,22,Male,97.2,0,0,2.8,Normal\\r\\n5338,Tanjina,21,Female,97.5,0,0,2.5,Normal\\r\\n5339,Mostakim,22,Male,97.6,0,0,2.4,Normal\\r\\n5340,Ismail,21,Male,97.5,0,0,2.5,Normal\\r\\n5341,Ashik,24,Male,97.6,0,0,2.4,Normal\\r\\n5342,Ferdous,22,Male,97.5,0,0,2.5,Normal\\r\\n5362,Waliar,28,Male,97.6,0,0,2.4,Normal\\r\\n5263,Ritu,23,Female,97.6,0,0,2.4,Normal\\r\\n5264,Fahmida,23,Female,97.4,0,0,2.6,Normal\\r\\n5265,Sadia,24,Female,98.3,0,0,1.7,Normal\\r\\n5266,Shamim,26,Male,73.8,0,23.4,2.8,E trait\\r\\n5267,Sadekul,25,Male,97.6,0,0,2.4,Normal\\r\\n5268,Dalil,27,Male,97.8,0,0,2.2,Normal\\r\\n5269,Priyanka,21,Female,97.2,0,0,2.8,Normal\\r\\n5270,Kana,21,Female,97.3,0,0,2.7,Normal\\r\\n5271,Sumaiyah,21,Female,97.7,0,0,2.3,Normal\\r\\n5272,Rezwana,20,Female,97.5,0,0,2.5,Normal\\r\\n5273,Sharmin,21,Female,97.7,0,0,2.3,Normal\\r\\n5274,Dola,20,Female,97,0,0,3,Normal\\r\\n5275,Emon,22,Male,97.4,0,0,2.6,Normal\\r\\n5276,Mumin,23,Male,97.3,0,0,2.7,Normal\\r\\n5277,Ikram,20,Male,97.1,0,0,2.9,Normal\\r\\n5278,Naimur,21,Male,97.6,0,0,2.4,Normal\\r\\n5279,Tonmoy,21,Male,97.6,0,0,2.4,Normal\\r\\n5280,Sohel,26,Male,72.5,0,24.1,3.4,E trait\\r\\n5281,Sarafat,21,Male,97.4,0,0,2.6,Normal\\r\\n5282,Manik,21,Male,97.3,0,0,2.7,Normal\\r\\n5283,Asha,19,Female,97.7,0,0,2.3,Normal\\r\\n5284,Rostom,23,Male,80.4,0,15.9,3.7,E trait\\r\\n5285,Hasan,20,Male,97.4,0,0,2.6,Normal\\r\\n5286,Sunzida,20,Female,97.5,0,0,2.5,Normal\\r\\n5287,Fatima,19,Female,97.6,0,0,2.4,Normal\\r\\n5288,Sohag,19,Male,97.6,0,0,2.4,Normal\\r\\n5289,Saikot,19,Male,97.3,0,0,2.7,Normal\\r\\n5290,Zerin,22,Female,97.1,0,0,2.9,Normal\\r\\n5291,Monir,26,Male,96.9,0,0,3.1,Normal\\r\\n5292,Jamil,20,Male,98,0,0,2,Normal\\r\\n5293,Kamrul,20,Male,97.4,0,0,2.6,Normal\\r\\n5294,Elias,23,Male,71.4,0,24.6,4,E trait\\r\\n5295,Nur-A-Aliahi,23,Male,97.2,0,0,2.8,Normal\\r\\n5296,Sagir,25,Male,94.8,0,0,5.2,Normal\\r\\n5297,Afridy,21,Male,97.3,0,0,2.7,Normal\\r\\n5298,Saha,21,Female,97.7,0,0,2.3,Normal\\r\\n5299,Rahat,21,Male,71.1,0,25.5,3.4,E trait\\r\\n5300,Alamgir,21,Female,98.1,0,0,1.9,Normal\\r\\n5301,Osman,22,Male,97.6,0,0,2.4,Normal\\r\\n5302,Mostofa,26,Male,97.8,0,0,2.2,Normal\\r\\n5303,Morshedul,25,Male,97.5,0,0,2.5,Normal\\r\\n5305,Dipak,21,Male,74.1,0,22.5,3.4,Normal\\r\\n5307,Mizan,21,Male,97.9,0,0,2.1,Normal\\r\\n5310,Keya,25,Female,97.6,0,0,2.4,Normal\\r\\n5311,Jerin,20,Female,97.6,0,0,2.4,Normal\\r\\n5312,Shilpi,24,Female,97.2,0,0,2.8,Normal\\r\\n5313,Jewel,23,Male,97.3,0,0,2.7,Normal\\r\\n5314,Imran,23,Male,97.4,0,0,2.6,Normal\\r\\n5198,Mahanudul,25,Male,90.7,3.5,0,5.8,Beta trait\\r\\n5210,Kabir,23,Male,97.3,0,0,2.7,Normal\\r\\n5211,Mohaimnul,25,Male,72.7,0,23.9,3.4,E trait\\r\\n5212,Ahahnaz,25,Female,97.6,0,0,2.4,Normal\\r\\n5213,Rani,25,Female,97.8,0,0,2.2,Normal\\r\\n5214,Rashid,24,Male,98.6,0,0,1.4,Normal\\r\\n5215,Moeenuddin,24,Male,97.3,0,0,2.7,Normal\\r\\n5216,Tanzila,24,Female,96.8,0,0,3.2,Normal\\r\\n5217,Afsana,23,Female,73.6,0,23.2,3.2,E trait\\r\\n5218,Galib,24,Male,97.4,0,0,2.6,Normal\\r\\n5219,Faruq,22,Male,97.3,0,0,2.7,Normal\\r\\n5220,Shahina,22,Female,73,0,23.2,3.8,E trait\\r\\n5221,Tania,23,Female,97.5,0,0,2.5,Normal\\r\\n5222,Diba,23,Female,97.8,0,0,2.2,Normal\\r\\n5223,Sumon,23,Male,95.3,0,0,4.7,Beta trait\\r\\n5224,Nahian,23,Male,97.6,0,0,2.4,Normal\\r\\n5225,Rupa,25,Female,71.4,0,25.5,3.1,E trait\\r\\n5226,Taebum,25,Female,97.4,0,0,2.6,Normal\\r\\n5227,Anamul,23,Male,97.3,0,0,2.7,Normal\\r\\n5228,Shakil,28,Male,97.2,0,0,2.8,Normal\\r\\n5229,Shahadat,23,Male,97.3,0,0,2.7,Normal\\r\\n5230,Galib,22,Male,97.3,0,0,2.7,Normal\\r\\n5231,Samanza,24,Male,97.7,0,0,2.3,Normal\\r\\n5232,Masud,24,Male,96.9,0,0,3.1,Normal\\r\\n5233,Mehedy,24,Male,97.5,0,0,2.5,Normal\\r\\n5234,Mitu,26,Female,97.5,0,0,2.5,Normal\\r\\n5235,Tasnim,23,Female,73,0,23.6,3.4,E trait\\r\\n5236,Jahanggir,24,Male,97.2,0,0,2.8,Normal\\r\\n5237,Mahbubur,25,Male,97.4,0,0,2.6,Normal\\r\\n5238,Arafat,26,Male,97.7,0,0,2.3,Normal\\r\\n5239,Mamun,25,Male,97.9,0,0,2.1,Normal\\r\\n5240,Ezaz,25,Male,97.3,0,0,2.7,Normal\\r\\n5241,Rejaul,27,Male,97.4,0,0,2.6,Normal\\r\\n5242,Priya,25,Female,97.3,0,0,2.7,Normal\\r\\n5243,Rafia,26,Female,97.4,0,0,2.6,Normal\\r\\n5244,Shakil,21,Male,97.8,0,0,2.2,Normal\\r\\n5245,Nasir,22,Male,97.5,0,0,2.5,Normal\\r\\n5246,Azizul,24,Male,94.8,0,0,5.2,Beta trait\\r\\n5247,Smrity,24,Female,97.6,0,0,2.4,Normal\\r\\n5248,Tarikul,25,Male,72,0,24.5,3.5,E trait\\r\\n5249,Masud,22,Male,97.5,0,0,2.5,Normal\\r\\n5250,Rhythem,25,Male,97.6,0,0,2.4,Normal\\r\\n5251,Mostafizur,23,Male,97.4,0,0,2.6,Normal\\r\\n5252,Nasiruddin,23,Male,97.2,0,0,2.8,Normal\\r\\n5253,Faysal,21,Male,97.2,0,0,2.8,Normal\\r\\n5254,Zia,25,Male,97.4,0,0,2.6,Normal\\r\\n5255,Sanjida,21,Female,97.6,0,0,2.4,Normal\\r\\n5256,Jannatul,21,Female,97.4,0,0,2.6,Normal\\r\\n5257,Afrina,20,Female,97.4,0,0,2.6,Normal\\r\\n5258,Siam,25,Male,97.6,0,0,2.4,Normal\\r\\n5259,Hayatullah,25,Male,97.4,0,0,2.6,Normal\\r\\n5260,Farid,24,Male,97.1,0,0,2.9,Normal\\r\\n5261,Nuymul,24,Male,72.3,0,24.3,3.4,E trait\\r\\n5204,Afrin,24,Female,98,0,0,2,Normal\\r\\n5205,Anisha,4,Female,97.8,0,0,2.2,Normal\\r\\n5206,Afroze,26,Female,97.9,0,0,2.1,Normal\\r\\n5207,Monika,23,Female,97.1,0,0,2.9,Normal\\r\\n5208,Shafin,23,Male,57.1,,39.8,3.1,D trait\\r\\n5209,Zahid,22,Male,72.4,0,24,3.6,E trait\\r\\n5152,Himel,24,Male,97.4,0,0,2.6,Normal\\r\\n5153,Ayrin,19,Female,97.9,0,0,2.1,Normal\\r\\n5154,Shahida,22,Female,72.9,0,23.9,3.2,E trait\\r\\n5155,Hriday,24,Male,97.2,0,0,2.8,Normal\\r\\n5156,Afsana,24,Female,97.7,0,0,2.3,Normal\\r\\n5157,Shahriar,25,Male,96.9,0,0,3.1,Normal\\r\\n5158,Estiak,25,Male,97.2,0,0,2.8,Normal\\r\\n5159,Ummekulsum,23,Female,97.6,0,0,2.4,Normal\\r\\n5160,Rubina,25,Female,97.5,0,0,2.5,Normal\\r\\n5161,Mimi,23,Female,72.5,0,24.1,3.4,E trait\\r\\n5162,Razzak,25,Male,97.1,0,0,2.9,Normal\\r\\n5163,Saiful,24,Male,97.5,0,0,2.5,Normal\\r\\n5164,Muntasir,18,Male,97.4,0,0,2.6,Normal\\r\\n5165,Shain,23,Male,97.6,0,0,2.4,Normal\\r\\n5166,Khairul,22,Male,98.1,0,0,1.9,Normal\\r\\n5167,Shahin,23,Male,97.1,0,0,2.9,Normal\\r\\n5168,Afsana,22,Female,97.5,0,0,2.5,Normal\\r\\n5169,Iqbal,22,Male,97.4,0,0,2.6,Normal\\r\\n5170,Shamim,22,Male,97.9,0,0,2.1,Normal\\r\\n5171,Shahariar,22,Male,74,0,22.5,3.5,E trait\\r\\n5172,Sarafat,23,Male,97.7,0,0,2.3,Normal\\r\\n5173,Tapti,21,Female,73.7,0,23.1,3.2,E trait\\r\\n5174,Maksuda,20,Female,72.8,0,24,3.2,E trait\\r\\n5175,Rafiqul,25,Male,97.4,0,0,2.6,Normal\\r\\n5176,Tarek,25,Male,97.3,0,0,2.7,Normal\\r\\n5177,Suma,23,Female,97.1,0,0,2.9,Normal\\r\\n5178,Nigar,24,Female,98.6,0,0,1.4,Normal\\r\\n5179,Atia,22,Female,97.7,0,0,2.3,Normal\\r\\n5180,Moudud,25,Male,97.6,0,0,2.4,Normal\\r\\n5181,Sharika,25,Female,97.5,0,0,2.5,Normal\\r\\n5182,Belal,23,Male,97.3,0,0,2.7,Normal\\r\\n5183,Khalilur,25,Male,97.3,0,0,2.7,Normal\\r\\n5184,Musaddekur,23,Male,97.4,0,0,2.6,Normal\\r\\n5185,Sheuly,19,Female,97.9,0,0,2.1,Normal\\r\\n5186,Sumita,23,Female,97.5,0,0,2.5,Normal\\r\\n5187,Nadia,22,Female,98,0,0,2,Normal\\r\\n5188,Tarhana,22,Female,98.1,0,0,1.9,Normal\\r\\n5189,Towhidur,20,Male,97.4,0,0,2.6,Normal\\r\\n5190,Shakawat,24,Male,96.9,0,0,3.1,Normal\\r\\n5191,Nazim,23,Male,97.6,0,0,2.4,Normal\\r\\n5192,Raju,23,Male,97.9,0,0,2.1,Normal\\r\\n5193,Sakib,21,Male,97.5,0,0,2.5,Normal\\r\\n5194,Yeasir,20,Male,98,0,0,2,Normal\\r\\n5195,Sohel,22,Male,97.4,0,0,2.6,Normal\\r\\n5196,Shorna,22,Female,97.3,0,0,2.7,Normal\\r\\n5197,Nusrat,24,Female,97.6,0,0,2.4,Normal\\r\\n5198,Mahmudul,25,Male,91.3,2.9,0,5.8,Beta trait\\r\\n5199,Jannatul,22,Female,71.9,0,24.7,3.4,E trait\\r\\n5200,Aminul,24,Male,97.3,0,0,2.7,Normal\\r\\n5201,Nafisa,24,Female,97.4,0,0,2.6,Normal\\r\\n5202,Esha,23,Female,97.5,0,0,2.5,Normal\\r\\n5203,Tareq,25,Male,97.4,0,0,2.6,Normal\\r\\n5120,Rasidul,25,Male,97.4,0,0,2.6,Normal\\r\\n5121,Mehruma,23,Female,97.8,0,0,2.2,Normal\\r\\n5122,Tania,22,Female,70.1,0,26.6,3.3,E trait\\r\\n5123,Aminul,21,Male,96.7,0,0,3.3,Normal\\r\\n5124,Biplob,20,Male,97.9,0,0,2.1,Normal\\r\\n5125,Oakil,22,Male,97.4,0,0,2.6,Normal\\r\\n5126,Ashikur,23,Male,97.2,0,0,2.8,Normal\\r\\n5127,Anamul,23,Male,97.3,0,0,2.7,Normal\\r\\n5128,Mariam,23,Female,97.8,0,0,2.2,Normal\\r\\n5129,Tamanna,23,Female,71.9,0,24.9,3.2,E trait\\r\\n5130,Sumaiya,22,Female,97.3,0,0,2.7,Normal\\r\\n5131,Suhi,22,Female,98,0,0,2,Normal\\r\\n5132,Tanvir,28,Male,98.3,0,0,1.7,Normal\\r\\n5133,Roy,23,Male,86.1,0,11.3,2.6,E trait\\r\\n5134,Mojammel,23,Male,97.2,0,0,2.8,Normal\\r\\n5135,Farhad,23,Male,97.5,0,0,2.5,Normal\\r\\n5136,Thahidul,25,Male,97.5,0,0,2.5,Normal\\r\\n5137,Tohedur,24,Male,97.1,0,0,2.9,Normal\\r\\n5138,Fayzul,23,Male,97.7,0,0,2.3,Normal\\r\\n5139,Uzzal,21,Male,97.7,0,0,2.3,Normal\\r\\n5140,Natem,24,Male,97.7,0,0,2.3,Normal\\r\\n5141,Alkama,23,Male,97.1,0,0,2.9,Normal\\r\\n5142,Tanjina,25,Female,97.9,0,0,2.1,Normal\\r\\n5143,Romana,22,Female,97.7,0,0,2.3,Normal\\r\\n5144,Naeem,21,Male,97.5,0,0,2.5,Normal\\r\\n5145,Fatema,22,Female,98,0,0,2,Normal\\r\\n5146,Monni,23,Female,69.9,0,28.5,1.6,E trait\\r\\n5147,Sultana,23,Female,97.8,0,0,2.2,Normal\\r\\n5148,Fariha,23,Female,98.1,0,0,1.9,Normal\\r\\n5149,Foysal,24,Male,97.6,0,0,2.4,Normal\\r\\n5150,Sumaiya,23,Female,97.5,0,0,2.5,Normal\\r\\n5151,Nayem,24,Male,97.8,0,0,2.2,Normal\\r\\n5102,Sazzad,22,Male,72.1,0,24.9,3,E trait\\r\\n5104,Jibon,22,Male,71.6,0,25.1,3.3,E trait\\r\\n5106,Musa,21,Male,97.2,0,0,2.8,Normal\\r\\n5107,Kabir,23,Male,97.2,0,0,2.8,Normal\\r\\n5108,Jahirul,23,Male,72,0,24.5,3.5,E trait\\r\\n5109,Ayub,23,Male,71.3,0,25.3,3.4,E trait\\r\\n5110,Rabiul,23,Male,97.3,0,0,2.7,Normal\\r\\n5111,Sarwar,22,Male,97.5,0,0,2.5,Normal\\r\\n5112,Mahmudul,23,Male,97,0,0,3,Normal\\r\\n5113,Boni,20,Male,71.8,0,24.8,3.4,E trait\\r\\n5114,Mofassol,25,Male,97.3,0,0,2.7,Normal\\r\\n5115,Ivy,23,Female,97.6,0,0,2.4,Normal\\r\\n5116,Ratul,21,Male,97.4,0,0,2.6,Normal\\r\\n5117,Mitu,23,Female,97.3,0,0,2.7,Normal\\r\\n5101,Iqbal,22,Male,97.5,0,0,2.5,Normal\\r\\n5102,Sazzad,22,Male,71,0,25.5,3.5,E trait\\r\\n5103,Biswajit,23,Male,97.6,0,0,2.4,Normal\\r\\n5105,Hamidur,22,Male,97.4,0,0,2.6,Normal\\r\\n5118,Jalil,23,Male,97.4,0,0,2.6,Normal\\r\\n5119,Tania,24,Female,97.6,0,0,2.4,Normal\\r\\nM210,Shirin,40,Female,98.3,0,0,1.7,Normal\\r\\nM211,Arafat,13,Male,67.8,2.9,25,4.3,E trait\\r\\nM208,Protap,55,Male,71.2,0,24.9,3.9,E trait\\r\\nM209,Somapto,24,Male,0,19.3,72.6,8.1,E beta\\r\\nM205,Sabina,24,Female,98.3,0,0,1.7,Normal\\r\\nM204,Alif,8,Male,86.1,10.7,0,3.2,HPFH\\r\\nM206,Juyel,23,Male,97,0,0,3,Normal\\r\\nM200,Shahria,4,Male,90.1,0,6.6,3.3,HPFH\\r\\nM201,Champa,20,Female,95.3,0,0,4.7,Beta trait\\r\\nM202,Rizaul,28,Male,50.3,0,44,5.7,E trait\\r\\nM203,Nizam,3,Male,82.6,3.9,10.2,3.3,Normal\\r\\nM198,Tashfia,4,Female,91.2,6.2,0,2.6,HPFH\\r\\nM199,Moreom,22,Female,97.7,0,0,2.3,Normal\\r\\nM194,Dabashis,24,Male,97.7,0,0,2.3,Normal\\r\\nM195,Shajeda,22,Female,97.6,0,0,2.4,Normal\\r\\nM192,Jahid,45,Male,95.4,0,0,4.6,Beta trait\\r\\nM196,Hasibul,18,Male,97.7,0,0,2.3,Normal\\r\\nM189,Israt,34,Female,97.4,0,0,2.6,Normal\\r\\nM190,Alif,1,Male,83.3,11.9,0,4.8,Beta trait\\r\\nM184,Jolil,33,Male,97,0,0,3,Normal\\r\\nM185,Tahrima,17,Female,97.3,0,0,2.7,Normal\\r\\nM186,Dipu,22,Male,97.1,0,0,2.9,Normal\\r\\nM187,Monika,28,Female,97.6,0,0,2.4,Normal\\r\\nM188,Subroto,37,Male,97.2,0,0,2.8,Normal\\r\\nM180,Tashfya,3,Female,92.9,1.1,0,6,Beta trait\\r\\nM181,Rupa,27,Female,94.3,0,0,5.7,Beta trait\\r\\nM182,Rezaul,40,Male,71.3,0,25.5,3.2,E trait\\r\\nM183,Urmi,22,Female,97.1,0,0,2.9,Normal\\r\\nM178,Razia,20,Female,97.8,0,0,2.2,Normal\\r\\nM179,Ferdoush,23,Male,97.5,0,0,2.5,Normal\\r\\nM173,Begum,56,Female,97.5,0,0,2.5,Normal\\r\\nM175,Sabana,20,Female,70.8,0,25.5,3.7,E trait\\r\\nM176,Rony,26,Male,95.3,0,0,4.7,Beta trait\\r\\nM160,Queen,30,Female,97.1,0,0,2.9,Normal\\r\\nM162,Mahamud,14,Male,71.7,0,24.7,3.6,E trait\\r\\nM163,Fatema,6,Female,94.6,0,0,5.4,Beta trait\\r\\nM167,Hafsa,3,Female,96.9,0,0,3.1,Normal\\r\\nM161,Moniruzzaman,43,Male,71.9,0,24.5,3.6,E trait\\r\\nM165,Rafiqul,43,Male,97.6,0,0,2.4,Normal\\r\\nM166,Raisa,1,Female,98.2,0,0,1.8,Normal\\r\\nM164,Raita,11,Female,71.4,0,25.3,3.3,E trait\\r\\nM158,Dhasomi,28,Female,96.3,1,0,2.7,Normal\\r\\nM159,Mondol,7,Female,96.6,1.2,0,2.2,Normal\\r\\nM154,Sakila,20,Female,71.3,0,25,3.7,E trait\\r\\nM156,Farjana,27,Female,97.1,0,0,2.9,Normal\\r\\nM155,Nazrul,28,Male,94.4,0,0,5.6,Beta trait\\r\\nM153,Khodeza,18,Female,97.2,0,0,2.8,Normal\\r\\nM149,Karan,12,Male,97.1,0,0,2.9,Normal\\r\\nM150,Nurul,60,Male,97.8,0,0,2.2,Normal\\r\\nM151,Tofajjal,22,Male,97.9,0,0,2.1,Normal\\r\\nM152,Jahid,20,Male,97.2,0,0,2.8,Normal\\r\\nM148,Mustakin,5,Male,97.2,0,0,2.8,Normal\\r\\nM147,Sailembosh,34,Male,97.2,0,0,2.8,Normal\\r\\nM145,Khadiza,8,Female,83.8,0,13.1,3.1,E trait\\r\\nM144,Julia,20,Female,97.3,0,0,2.7,Normal\\r\\nM137,Sabbir,19,Male,97.9,0,0,2.1,Normal\\r\\nM138,Sarmin,17,Female,48.4,0,48.2,3.4,E trait\\r\\nM139,Obydul,45,Male,94.3,0,0,5.7,Normal\\r\\nM140,Meherun,33,Female,75.3,0,23.5,1.2,E trait\\r\\nM137,Sabbir,19,Male,97.5,0,0,2.5,Normal\\r\\nM138,Sarmin,17,Female,49.3,0,47.6,3.1,E beta\\r\\nM136,Rumpa,29,Female,97.3,0,0,2.7,Normal\\r\\nM135,Aminul,34,Male,95.3,0,0,4.7,Beta trait\\r\\nM128,Dile,30,Female,72.2,24.6,,3.2,Beta trait\\r\\nM129,Shake,32,Male,71.3,0,25.3,3.4,E trait\\r\\nM130,Solaiman,65,Male,94.1,0,0,5.9,Beta trait\\r\\nM131,Sahida,20,Female,50.5,10.1,34.7,4.7,E beta\\r\\nM132,Salma,35,Female,98.2,0,0,1.8,Normal\\r\\nM133,Shahinur,22,Female,97.5,0,0,2.5,Normal\\r\\nM128,Dile,30,Female,72.4,0,24.3,3.3,E trait\\r\\nM134,Taslima,48,Female,97.7,0,0,2.3,Normal\\r\\nM135,Aka,13,Female,53,1.6,40,5.4,E beta\\r\\nM125,Habib,25,Male,97.4,0,0,2.6,Normal\\r\\nM126,Nisha,12,Female,96.8,0,0.6,2.6,Normal\\r\\nM127,Rinku,23,Female,97.6,0,0,2.4,Normal\\r\\nM124,Ovijeet,20,Male,97.5,0,0,2.5,Normal\\r\\nM122,Monika,23,Female,97,0,0,3,Normal\\r\\nM123,Abdul,21,Male,96.4,0.6,0,3,Normal\\r\\nM118,Rubel,29,Male,72,3.2,24.8,0,E trait\\r\\nM119,Mehedil,38,Male,97.9,0,0,2.1,Normal\\r\\nM120,Shompa,30,Female,98.2,0,0,1.8,Normal\\r\\nM121,Atika,24,Female,97.2,0,0,2.8,Normal\\r\\nM111,Ripon,36,Male,94.9,0,0,5.1,Beta trait\\r\\nM112,Amir,8,Male,93,2.6,0,4.4,Beta trait\\r\\nM113,Daizy,29,Female,57.1,0,39.5,3.4,E trait\\r\\nM114,Lum,17,Female,97.5,0,0,2.5,Normal\\r\\nM116,Lavlu,34,Male,97,0,0,3,Normal\\r\\nM117,Daizy,29,Female,56.3,0,40.3,3.4,E beta\\r\\nM106,Ariful,29,Male,97.5,0,0,2.5,Normal\\r\\nM107,Emdadul,20,Male,97.3,0,0,2.7,Normal\\r\\nM108,Tonni,27,Female,72.1,0,24.5,3.4,E trait\\r\\nM109,Jahidul,32,Male,97.3,0,0,2.7,Normal\\r\\nM110,Dipali,18,Female,97.4,0,0,2.6,Normal\\r\\n5,Rafi,20,Male,71.9,0,24.8,3.3,E trait\\r\\nM106,Nurjahan,20,Female,8,12.4,73,6.6,E trait\\r\\nM105,Saima,30,Female,95.5,0,0,4.5,Beta trait\\r\\nM102,Sohag,30,Male,97.4,0,0,2.6,Normal\\r\\nM103,Sadia,20,Female,97.3,0,0,2.7,Normal\\r\\nM104,Komola,23,Female,97.2,0,0,2.8,Normal\\r\\nM100,Mitu,24,Female,97.7,0,0,2.3,Normal\\r\\nM101,Nusrat,3,Female,97.9,0,0,2.1,Normal\\r\\nG249,Suraiya,22,Female,97.5,0,0,2.5,Normal\\r\\nG250,Sakib,20,Male,96.9,0,0,3.1,Normal\\r\\nG251,Ratul,18,Male,97.5,0,0,2.5,Normal\\r\\nG252,Faisal,19,Male,69.2,0,26.8,4,E trait\\r\\nG253,Monir,21,Male,97.1,0,0,2.9,Normal\\r\\nG254,Rehana,26,Female,97.6,0,0,2.4,Normal\\r\\nG255,Juthi,25,Female,97.1,0,0,2.9,Normal\\r\\nG256,Meena,21,Female,97.9,0,0,2.1,Normal\\r\\nG257,Shefaly,28,Female,97.5,0,0,2.5,Normal\\r\\nG258,Ataullah,30,Male,97.1,0,0,2.9,Normal\\r\\nG259,Sharmin,22,Female,97.7,0,0,2.3,Normal\\r\\nG260,Rejaul,28,Male,97.5,0,0,2.5,Normal\\r\\nG261,Khaleda,18,Female,57.9,0,39.1,3,D trait\\r\\nG262,Samina,22,Female,97.5,0,0,2.5,Normal\\r\\nG263,Hossain,30,Male,97,0,0,3,Normal\\r\\nG264,Delowar,26,Male,69.5,0,26.5,4,E trait\\r\\nG265,Jakir,23,Male,96.6,0,0,3.4,Normal\\r\\nG215,Sakib,24,Male,96.9,0,0,3.1,Normal\\r\\nG193,Monjuara,19,Female,96.2,1,0,0,Normal\\r\\nG194,Shapna,18,Female,97.2,0,0,2.8,Normal\\r\\nG195,Robiul,26,Male,97.2,0,0,2.8,Normal\\r\\nG196,Zahid,24,Male,96.9,0,0,3.1,Normal\\r\\nG197,Rubina,18,Female,97.9,0,0,2.1,Normal\\r\\nG198,Liton,25,Male,96.9,0,0,3.1,Normal\\r\\nG199,Mahmudur,24,Male,70.8,0,25.2,4,E trait\\r\\nG200,Shohag,28,Male,71.3,0,24.7,4,E trait\\r\\nG201,Amena,18,Female,97.7,0,0,2.3,Normal\\r\\nG202,Farzana,21,Female,97.5,0,0,2.5,Normal\\r\\nG203,Liza,18,Female,73.2,0,24.4,2.4,E trait\\r\\nG204,Kurshid,32,Male,97.9,0,0,2.1,Normal\\r\\nG205,Sarmin,25,Female,74.6,0,21.3,4.1,E trait\\r\\nG206,Jahangir,18,Male,68.8,0,27.1,4.1,E trait\\r\\nG207,Mojibur,20,Male,97.2,0,0,2.8,Normal\\r\\nG208,Sabbir,20,Male,96.8,0,0,3.2,Normal\\r\\nG209,Yasmin,18,Female,98.2,0,0,1.8,Normal\\r\\nG210,Shahid,18,Male,69.5,0,26.5,4,E trait\\r\\nG211,Momotaj,19,Female,98.5,0,0,1.5,Normal\\r\\nG212,Khadija,19,Female,97.1,0,0,2.9,Normal\\r\\nG213,Sadia,19,Female,97.3,0,0,2.7,Normal\\r\\nG214,Shanto,20,Male,96.9,0,0,3.1,Normal\\r\\nG167,Mamun,27,Male,97.1,0,0,2.9,Normal\\r\\nG168,Rabeya,20,Female,97.6,0,0,2.4,Normal\\r\\nG169,Amena,18,Female,97,0,0,3,Normal\\r\\nG170,Kulsum,21,Female,97.1,0,0,2.9,Normal\\r\\nG171,Kobita,22,Female,97.1,0,0,2.9,Normal\\r\\nG172,Alefnur,23,Male,71.1,0,25,3.9,E trait\\r\\nG173,Ruma,18,Female,98.1,0,0,1.9,Normal\\r\\nG174,Lima,18,Female,97.3,0,0,2.7,Normal\\r\\nG175,Plabon,30,Male,97.1,0,0,2.9,Normal\\r\\nG176,Champa,18,Female,97.3,0,0,2.7,Normal\\r\\nG177,Mahbub,30,Male,96.9,0,0,3.1,Normal\\r\\nG178,Khalil,24,Male,97.4,0,0,2.6,Normal\\r\\nG179,Sagor,25,Male,97.2,0,0,2.8,Normal\\r\\nG180,Dipok,24,Male,97,0,0,3,Normal\\r\\nG181,Mojnu,24,Male,97.3,0,0,2.7,Normal\\r\\nG182,Sompa,20,Female,97.3,0,0,2.7,Normal\\r\\nG183,Imran,19,Male,96.7,0,0,3.3,Normal\\r\\nG184,Musfiqa,25,Female,97,0,0,3,Normal\\r\\nG185,Arif,21,Male,96.7,0,0,3.3,Normal\\r\\nG186,Bulbul,23,Male,96.8,0,0,3.2,Normal\\r\\nG187,Kamal,19,Male,97.2,0,0,2.8,Normal\\r\\nG188,Sumon,26,Male,96.9,0,0,3.1,Normal\\r\\nG189,Sabbir,26,Male,96.9,0,0,3.1,Normal\\r\\nG190,Hossain,18,Male,97.2,0,0,2.8,Normal\\r\\nG191,Naim,22,Male,97,0,0,3,Normal\\r\\nG192,Rajib,19,Male,97.2,0,0,2.8,Normal\\r\\nG124,Lavly,22,Female,97.2,0,0,2.8,Normal\\r\\nG125,Khadija,19,Female,68.1,1.1,27.4,3.4,E trait\\r\\nG126,Rabaya,19,Female,97.1,0,0,2.9,Normal\\r\\nG127,Ashamoni,18,Female,98.1,0,0,1.9,Normal\\r\\nG128,Lalto,22,Male,97.1,0,0,2.9,Normal\\r\\nG129,Rahat,18,Male,97.8,0,0,2.2,Normal\\r\\nG130,Ripa,20,Male,72.5,0,24.8,2.7,E trait\\r\\nG131,Shanaj,19,Female,71.9,0,25.1,3,E trait\\r\\nG132,Tapon,25,Male,70.5,0,26.2,3.3,E trait\\r\\nG133,Kaiser,28,Male,97.1,0,0,2.9,Normal\\r\\nG134,Rajob,26,Male,97,0,0,3,Normal\\r\\nG135,Uzzal,32,Male,97.1,0,0,2.9,Normal\\r\\nG136,Eiti,19,Female,94.7,0.4,0,4.9,Beta Thalassemia\\r\\nG137,Sahadat,24,Male,97.1,0,0,2.9,Normal\\r\\nG138,Pappo,19,Male,97,0,0,3,Normal\\r\\nG139,Tanvir,19,Male,97,0,0,3,Normal\\r\\nG140,Tazul,29,Male,97,0,0,3,Normal\\r\\nG141,Shawon,24,Male,97.2,0,0,2.8,Normal\\r\\nG142,Lavlu,42,Male,97.4,0,0,2.6,Normal\\r\\nG143,Tutul,47,Male,97,0,0,3,Normal\\r\\nG144,Rajiya,20,Female,97.4,0,0,2.6,Normal\\r\\nG145,Sharmin,19,Female,97.8,0,0,2.2,Normal\\r\\nG146,Shathy,20,Female,97.1,0,0,2.9,Normal\\r\\nG147,Shamim,40,Male,98,0,0,2,Normal\\r\\nG148,Ekbal,25,Male,96.8,0,0,3.2,Normal\\r\\nG149,Ripon,20,Male,97.1,0,0,2.9,Normal\\r\\nG150,Nupur,18,Female,70.2,0,26.1,3.7,E trait\\r\\nG151,Ferdouse,20,Female,97.2,0,0,2.8,Normal\\r\\nG152,Bithy,20,Female,97,0,0,3,Normal\\r\\nG153,Sima,22,Female,72.1,0,24.4,3.5,E trait\\r\\nG154,parvin,24,Female,97.4,0,0,2.6,Normal\\r\\nG155,Sabina,21,Female,97.3,0,0,2.7,Normal\\r\\nG156,Monirul,24,Male,97.3,0,0,2.7,Normal\\r\\nG157,Sahidul,22,Male,97,0,0,3,Normal\\r\\nG470,Shipra,29,Female,97.1,0,0,2.9,Normal\\r\\nG471,Sumon,22,Male,97.2,0,0,2.8,Normal\\r\\nG472,Bayezid,18,Male,97.5,0,0,2.5,Normal\\r\\nG473,Tamim,20,Male,97.1,0,0,2.9,Normal\\r\\nG474,Mubashir,19,Male,70.6,0,26,3.4,E trait\\r\\nG475,Hanif,25,Male,96.9,0,0,3.1,Normal\\r\\nG476,Sharif,20,Male,97.2,0,0,2.8,Normal\\r\\nG477,Shofiqul,25,Male,96.8,0,0,3.2,Normal\\r\\nG478,Hasna,18,Female,97.6,0,0,2.4,Normal\\r\\nG479,Lipi,19,Male,97.1,0,0,2.9,Normal\\r\\nG480,Jannatun,18,Female,97,0,0,3.8,Normal\\r\\nG481,Rojob,20,Female,97.3,0,0,2.7,Normal\\r\\nG483,Anjuara,18,Female,68.4,0.4,27.1,4.1,E trait\\r\\nG484,Monir,31,Male,97.2,0,0,2.8,Normal\\r\\nG485,Ruma,20,Female,70,0,26.1,3.9,E trait\\r\\nG486,Ibrahim,20,Male,97,0,0,3,Normal\\r\\nG487,Shirin,19,Female,97.2,0,0,2.8,Normal\\r\\nG488,Shirin,25,Female,97.1,0,0,2.9,Normal\\r\\nG489,Foisal,19,Male,97,0,0,3,Normal\\r\\nG490,Aditto,21,Male,97.5,0,0,2.5,Normal\\r\\nG491,Ali,19,Male,96.8,0,0,3.2,Normal\\r\\nG492,Raju,19,Male,97.8,0,0,2.2,Normal\\r\\nG493,Hafiza,22,Female,96.8,0,0,3.2,Normal\\r\\nG494,Mehedi,19,Male,97.4,0,0,2.6,Normal\\r\\nG495,Saifullah,23,Male,97.1,0,0,2.9,Normal\\r\\nG496,Sojib,23,Male,97.3,0,0,2.7,Normal\\r\\nG497,Shakil,23,Male,68.9,0,27.7,3.4,E trait\\r\\nG498,Sabina,19,Female,96.7,0,0,3.3,Normal\\r\\nM43,Suborna,28,Female,97.7,0,0,2.3,Normal\\r\\nM44,Tahia,2,Female,96.8,0,0,3.2,Normal\\r\\nM45,Mahia,7,Female,96.4,0.4,0,3.2,Normal\\r\\nG433,Jilkon,23,Male,97.1,0,0,2.9,Normal\\r\\nG482,Khadija,20,Female,97.9,0,0,2.1,Normal\\r\\n475,Nasir,22,Male,96.8,0,0,3.2,Normal\\r\\n476,Rabin,21,Male,97.3,0,0,2.7,Normal\\r\\n477,Molla,29,Male,96.7,0,0,3.3,Normal\\r\\n478,Amirul,20,Male,97.1,0,0,2.9,Normal\\r\\n479,Umaid,21,Male,97.4,0,0,2.6,Normal\\r\\n480,Nourin,22,Female,97.1,0,0,2.9,Normal\\r\\n482,Yeasin,20,Male,98.4,0,0,1.6,Normal\\r\\n483,Monirul,21,Male,97.5,0,0,2.5,Normal\\r\\n484,Yeamin,22,Male,97.3,0,0,2.7,Normal\\r\\n485,Towfiqur,26,Male,97.4,0,0,2.6,Normal\\r\\n486,Sojib,23,Male,97.4,0,0,3,Normal\\r\\n487,Rajib,28,Male,69.6,0,26.6,3.8,E trait\\r\\n488,Farhan,23,Male,97,0,0,3,Normal\\r\\n489,Shahadat,24,Male,97.2,0,0,2.8,Normal\\r\\n490,Mohona,21,Female,71.5,0,25.3,3.2,E trait\\r\\n491,Shamima,23,Female,96.9,0,0,3.1,Normal\\r\\n492,Shahida,21,Female,97.4,0,0,2.6,Normal\\r\\n493,Farhana,22,Female,97.2,0,0,2.8,Normal\\r\\n494,Noman,22,Male,97.1,0,0,2.9,Normal\\r\\n495,Muktadir,23,Male,97,0,0,3,Normal\\r\\n496,Wahid,25,Male,96.7,0,0,3.3,Normal\\r\\n497,Hanif,22,Male,97.8,0,0,2.2,Normal\\r\\n498,Mahafuzur,22,Male,97.3,0,0,2.7,Normal\\r\\n499,Sajjad,28,Male,97.3,0,0,2.7,Normal\\r\\n500,Abdellah,23,Male,97.2,0,0,2.8,Normal\\r\\n501,Dishari,22,Male,97.1,0,0,2.9,Normal\\r\\n502,Pritom,23,Male,68.7,0,0,27.1,E trait\\r\\nG352,Kajoli,18,Female,96.9,0,0,3.1,Normal\\r\\nG353,Ilham,29,Female,97.1,0,0,2.9,Normal\\r\\nG354,Rasel,26,Male,97.1,0,0,2.9,Normal\\r\\nG355,Maya,20,Female,96.9,0,0,3.1,Normal\\r\\nG356,Anamika,19,Female,97.2,0,0,2.8,Normal\\r\\nG357,Rubel,19,Male,97.1,0,0,2.9,Normal\\r\\nG358,Emdadul,19,Male,97.2,0,0,2.8,Normal\\r\\nG359,Moushumi,23,Female,97.1,0,0,2.9,Normal\\r\\nG360,Abdur,19,Male,97.2,0,0,2.8,Normal\\r\\nG361,Shyamoli,19,Female,96,1.1,0,2.9,Normal\\r\\nG362,Suma,18,Female,97.3,0,0,2.7,Normal\\r\\nG363,Sabina,19,Female,97.1,0,0,2.8,Normal\\r\\nG364,Shoriful,26,Male,97.3,0,0,2.7,Normal\\r\\nG365,Shorna,18,Female,97.6,0,0,2.4,Normal\\r\\nG366,Moriom,18,Female,97.7,0,0,2.3,Normal\\r\\nG367,Asma,20,Female,97,0,0,3,Normal\\r\\nG368,Roksana,19,Female,97.6,0,0,2.4,Normal\\r\\nG369,Ashraful,22,Male,92.3,1.4,0,6.3,Beta Thalassemia\\r\\nG370,Ariful,18,Male,96.9,0,0,3.1,Normal\\r\\nG371,Ataur,22,Male,96.7,0,0,3.3,Normal\\r\\nG372,Rajib,21,Male,97,0,0,3,Normal\\r\\nM86,Azizul,26,Male,96.8,0,0,3.2,Normal\\r\\nG374,Kawsar,26,Male,97.2,0,0,2.8,Normal\\r\\nG375,Murshida,19,Female,97.8,0,0,2.2,Normal\\r\\nG376,Hosna,21,Female,97.3,0,0,2.7,Normal\\r\\nG377,Murad,22,Male,97.2,0,0,2.8,Normal\\r\\nG378,Rubel,18,Male,97,0,0,3,Normal\\r\\nG379,Selina,18,Female,68.7,0,27.1,4.2,Normal\\r\\nG380,Jui,18,Female,97,0,0,3,Normal\\r\\nG381,Rejaul,30,Male,96.6,0,0,3.4,Normal\\r\\nG382,Rahamat,20,Male,68.8,0,27.3,3.5,Normal\\r\\nG383,Jiyasmin,19,Female,97.2,0,0,2.8,Normal\\r\\nG384,Badshah,18,Male,97,0,0,3,Normal\\r\\nG385,Rabeya,18,Female,67.9,0,27.9,4.2,E trait\\r\\nG386,Jaitunnahar,19,Female,97.2,0,0,2.8,Normal\\r\\nG387,Ajofa,18,Female,97.4,0,0,2.6,Normal\\r\\nG388,Ali,30,Male,96.9,0,0,3.1,Normal\\r\\nG389,Rima,18,Female,97.4,0,0,2.6,Normal\\r\\nG390,Moina,30,Female,97.5,0,0,2.5,Normal\\r\\nG391,Sujon,22,Male,97.4,0,0,2.6,Normal\\r\\nG392,Nilufa,18,Female,97.8,0,0,3,Normal\\r\\nG393,Narjuman,18,Female,96.6,0,0,3.4,Normal\\r\\nG394,Rakib,19,Male,96.7,0,0,3.3,Normal\\r\\nG395,Jakir,18,Male,96.7,0,0,3.3,Normal\\r\\nG396,Mahbub,26,Male,97,0,0,3,Normal\\r\\nG397,Parvin,24,Female,97.1,0,0,2.9,Normal\\r\\nG398,Maruf,18,Male,97.1,0,0,2.9,Normal\\r\\nG399,Enamul,22,Male,97.2,0,0,2.8,Normal\\r\\nG400,Anwar,22,Male,97.2,0,0,2.8,Normal\\r\\nG401,Rina,21,Female,97.4,0,0,2.6,Normal\\r\\nG402,Monowara,20,Female,97.3,0,0,2.7,Normal\\r\\nG403,Kulsuma,19,Female,68.5,0,27.2,4.3,E trait\\r\\nG404,Nur,19,Female,97.3,0,0,2.7,Normal\\r\\nG405,Khadiza,18,Female,97.2,0,0,2.8,Normal\\r\\nG406,Suma,19,Female,97.2,0,0,2.8,Normal\\r\\nG407,Jannat,18,Female,96.7,0,0,3.3,Normal\\r\\nG408,Sumaia,19,Female,97.4,0,0,2.6,Normal\\r\\nG409,Sabina,18,Female,75,0,22,3,E trait\\r\\nG410,Tamanna,18,Female,97.3,0,0,2.7,Normal\\r\\nG411,Bina,18,Female,97.5,0,0,2.5,Normal\\r\\nG412,Roushan,18,Male,69.7,0,26.6,3.7,E trait\\r\\nG413,Mahmuda,18,Female,68.6,0,27.5,3.9,E trait\\r\\nG414,Shahin,23,Male,69.8,0,26.5,3.7,E trait\\r\\nG415,Parvin,19,Female,97.4,0,0,2.6,Normal\\r\\nG416,Nisa,19,Female,97.3,0,0,2.7,Normal\\r\\nG417,Bobita,18,Female,97.2,0,0,2.8,Normal\\r\\nG418,Rojina,18,Female,97,0,0,3,Normal\\r\\nG419,Shamina,18,Female,96.7,0,0,3.3,Normal\\r\\nG420,Nurmohol,21,Female,96.9,0,0,3.1,Normal\\r\\nG421,Nishad,24,Male,70.3,0,25.9,3.8,E trait\\r\\nG422,Jaher,20,Male,96.9,0,0,3.1,Normal\\r\\nM38,Alom,30,Male,97.2,0,0,2.8,Normal\\r\\nM39,Suborna,9,Female,69.4,1.1,25.9,3.6,E trait\\r\\nM40,Kohinur,30,Female,97.4,0,0,2.6,Normal\\r\\nM41,Kofil,12,Male,94.9,0,0,5.1,Beta Thalassemia\\r\\nM42,Saiful,27,Male,93.7,0,0,6.3,Beta Thalassemia\\r\\n454,Sakib,19,Male,97,0,0,3,Normal\\r\\n455,Anik,22,Male,97.4,0,0,2.6,Normal\\r\\n456,Rakibul,22,Male,96.8,0,0,3.2,Normal\\r\\n457,Arifur,21,Male,97,0,0,3,Normal\\r\\n458,Fahim,19,Male,97.1,0,0,2.9,Normal\\r\\n459,Shahal,22,Male,97.6,0,0,2.4,Normal\\r\\n460,Noshin,22,Female,97.6,0,0,2.4,Normal\\r\\n461,Sohel,22,Male,96.9,0,0,3.1,Normal\\r\\n462,Hima,20,Female,97.6,0,0,2.4,Normal\\r\\n463,Shahabur,20,Male,96.8,0,0,3.2,Normal\\r\\n464,Moinul,22,Male,97.2,0,0,2.8,Normal\\r\\n465,Jonaki,20,Female,97.2,0,0,2.8,Normal\\r\\n466,Kafiul,24,Male,97.4,0,0,2.6,Normal\\r\\n467,Jalal,22,Male,96.9,0,0,3.1,Normal\\r\\n468,Mehedi,22,Male,66.2,4,25.3,4.5,E trait\\r\\n469,Ahasan,20,Male,96.7,0,0,3.3,Normal\\r\\n470,Hosne,20,Female,97.3,0,0,2.7,Normal\\r\\n471,Asraful,21,Male,96.9,0,0,3.1,Normal\\r\\n472,Utso,21,Male,97.5,0,0,2.5,Normal\\r\\n473,Jahidul,22,Male,97.6,0,0,2.4,Normal\\r\\n474,Shamim,23,Male,68.2,0,28,3.8,E trait\\r\\n474,Shamim,23,Male,68.2,0,28,3.8,E trait\\r\\n444,Rubel,20,Male,96.6,0,0,3.4,Normal\\r\\n445,Naoshad,21,Male,96.7,0,0,3.3,Normal\\r\\n446,Rezaul,20,Male,97.2,0,0,2.8,Normal\\r\\n447,Musfiqur,21,Male,97.6,0,0,2.4,Normal\\r\\n448,Emam,24,Male,97.5,0,0,2.5,Normal\\r\\n449,Rahat,21,Male,96.9,0,0,3.1,Normal\\r\\n450,Sabuj,23,Male,97.3,0,0,2.7,Normal\\r\\n451,Hridoy,20,Male,97.2,0,0,2.8,Normal\\r\\n452,Siam,19,Male,95.1,0,2.8,2.1,Normal\\r\\n453,Alamin,20,Male,97.2,0,0,2.8,Normal\\r\\n402,Arman,29,Male,97.6,0,0,2.4,Normal\\r\\n426,Nayeem,22,Male,97.1,0,0,2.9,Normal\\r\\n427,Nazmul,19,Male,97.3,0,0,2.7,Normal\\r\\n438,Emdadul,33,Male,97.6,0,0,2.4,Normal\\r\\n338,Musfiqa,21,Female,97.2,0,0,2.8,Normal\\r\\n348,Shazedul,22,Male,97.2,0,0,2.8,Normal\\r\\n349,Ariful,21,Male,96.8,0,0,3.2,Normal\\r\\n350,Al-amin,24,Male,97.1,0,0,2.9,Normal\\r\\n351,Elias,19,Male,96.9,0,0,3.1,Normal\\r\\n352,Naeem,21,Male,97.6,0,0,2.4,Normal\\r\\n353,Maruf,19,Male,97.2,0,0,2.8,Normal\\r\\n354,Mahatab,23,Male,97.2,0,0,2.8,Normal\\r\\n355,Fariha,21,Female,97.4,0,0,2.6,Normal\\r\\n356,Shamima,22,Female,97.3,0,0,2.7,Normal\\r\\n357,Jubeda,21,Female,97.5,0,0,2.5,Normal\\r\\n358,Gunjon,21,Female,97.1,0,0,2.8,Normal\\r\\n359,Sharmin,21,Female,96.6,0,0,3.4,Normal\\r\\n360,shahnaj,23,Female,97.4,0,0,2.6,Normal\\r\\n361,Arfina,20,Female,97.4,0,0,2.6,Normal\\r\\n362,Sagupta,19,Female,97.1,0,0,2.9,Normal\\r\\n363,Oishy,21,Female,97.7,0,0,2.3,Normal\\r\\n364,Keya,20,Female,97.5,0,0,2.5,Normal\\r\\n365,maskara,21,Female,70.7,0,25.9,3.4,E trait\\r\\n366,Suchi,21,Female,97.6,0,0,2.4,Normal\\r\\n367,Tabiha,18,Female,97.2,0,0,2.8,Normal\\r\\n368,Maria,19,Female,97.1,0,0,2.8,Normal\\r\\n369,Zannat,19,Female,71.4,0,25.4,3.2,E trait\\r\\n370,Bithy,21,Female,69.9,0,27,3.1,E trait\\r\\n371,Sadia,23,Female,60.3,0,36.7,3,D trait\\r\\n372,Nasrin,23,Female,97.4,0,0,2.6,Normal\\r\\n373,Morsheda,22,Female,97.4,0,0,2.6,Normal\\r\\n374,Rushdani,22,Female,97.5,0,0,2.5,Normal\\r\\n375,Sharmin,23,Female,97.1,0,0,2.9,Normal\\r\\n376,Chisty,24,Female,97.6,0,0,2.4,Normal\\r\\n377,Masum,22,Male,97.4,0,0,2.6,Normal\\r\\n378,Sirajul,22,Male,97.3,0,0,2.7,Normal\\r\\n379,Tanjila,20,Female,97,0,0,3,Normal\\r\\n380,Firoza,19,Female,97,0,0,3,Normal\\r\\n381,Shakir,22,Male,96.9,0,0,3.1,Normal\\r\\n382,Siam,21,Male,97.7,0,0,2.3,Normal\\r\\n383,Edris,23,Male,97.2,0,0,2.8,Normal\\r\\n384,Anowar,23,Male,97.3,0,0,2.7,Normal\\r\\n385,Rikta,31,Female,97,0,0,3,Normal\\r\\n386,Lubna,37,Female,97.5,0,0,2.5,Normal\\r\\n387,Tanvir,21,Male,97.1,0,0,2.9,Normal\\r\\n388,Ariful,22,Male,96.8,0,0,3.2,Normal\\r\\n389,Monir,23,Male,97.2,0,0,2.8,Normal\\r\\n390,Tanzia,20,Female,97,0,0,3,Normal\\r\\n391,Ayesha,22,Female,97.5,0,0,2.5,Normal\\r\\n392,Abida,20,Female,97.6,0,0,2.4,Normal\\r\\n393,Nusrat,22,Female,96.9,0,0,3.1,Normal\\r\\n394,Mehnaj,20,Female,97.2,0,0,2.8,Normal\\r\\n395,Fatema,23,Female,96.8,0,0,3.2,Normal\\r\\n396,Razia,20,Female,97,0,0,3,Normal\\r\\n397,Mitu,20,Female,65.3,32.8,0,1.9,Beta Thalassemia\\r\\n398,Suriya,19,Female,97.5,0,0,2.5,Normal\\r\\n399,Asadullah,20,Male,96.9,0,0,3.1,Normal\\r\\n400,Artatun,20,Female,74.1,0,22.7,3.2,E trait\\r\\n401,Mobarok,29,Male,68.2,0,28,3.8,E trait\\r\\n403,Arafat,22,Male,97.4,0,0,2.6,Normal\\r\\n404,Rony,21,Male,71,0,25.7,3.3,E trait\\r\\n405,Ehsanul,20,Male,71.5,0,24.7,3.8,E trait\\r\\n406,Al-amin,19,Male,97.1,0,0,2.9,Normal\\r\\n407,Anwar,22,Male,97.1,0,0,2.9,Normal\\r\\n408,Asif,22,Male,97.1,0,0,2.9,Normal\\r\\n409,Tanvir,20,Male,97.2,0,0,2.8,Normal\\r\\n410,Billah,22,Male,97.3,0,0,2.7,Normal\\r\\n411,Jahangir,23,Male,71.4,0,24.5,4.1,E trait\\r\\n412,Minhajul,19,Male,97.1,0,0,2.9,Normal\\r\\n413,Shahadat,21,Male,96.9,0,0,3.1,Normal\\r\\n414,Hasan,22,Male,71.2,0,24.8,4,E trait\\r\\n415,Atiqul,22,Male,96.9,0,0,3.1,Normal\\r\\n416,Sajjad,20,Male,97.3,0,0,2.7,Normal\\r\\n417,Muzahidul,23,Male,97.4,0,0,2.6,Normal\\r\\n418,Noor,22,Male,97.4,0,0,2.6,Normal\\r\\n419,Nobi,21,Male,97.2,0,0,2.8,Normal\\r\\n420,Shakil,19,Male,97,0,0,3,Normal\\r\\n421,Mukul,35,Male,70.1,0,26.1,3.8,E trait\\r\\n422,Faria,20,Female,93.8,0.8,0,5.4,Beta trait\\r\\n423,Samaia,20,Female,97.2,0,0,2.8,Normal\\r\\nM37,Azharul,50,Male,97.2,0,0,2.8,Normal\\r\\n424,Sumaiya,20,Female,97.7,0,0,2.3,Normal\\r\\n425,Aziz,22,Male,97.5,0,0,2.5,Normal\\r\\n428,Abdullah,19,Male,97,0,0,3,Normal\\r\\n429,Abdur,25,Male,97.2,0,0,2.8,Normal\\r\\n430,Munna,22,Male,97,0,0,3,Normal\\r\\n432,Nayem,20,Male,96.8,0,0,3.2,Normal\\r\\n433,Khadija,22,Female,97.3,0,0,2.7,Normal\\r\\nG312,Tamjidul,28,Male,96.9,0,0,3.1,Normal\\r\\nG313,Israt,25,Female,97.1,0,0,2.9,Normal\\r\\nG314,Nishi,21,Female,97.2,0,0,2.8,Normal\\r\\nG315,Lima,27,Female,97,0,0,3,Normal\\r\\nG316,Mahid,26,Male,97,0,0,3,Normal\\r\\nG317,Sujon,25,Male,97.3,0,0,2.7,Normal\\r\\nG318,Maruf,25,Male,97.1,0,0,2.9,Normal\\r\\nG319,Rakib,26,Male,97.3,0,0,27,Normal\\r\\nG320,Alom,30,Male,97.5,0,0,2.5,Normal\\r\\nG321,jagangir,26,Male,97.1,0,0,2.9,Normal\\r\\nG322,Rabbi,26,Male,96.9,0,0,3.1,Normal\\r\\nG323,Pobon,26,Male,97.7,0,0,2.3,Normal\\r\\nG324,Afif,22,Male,97.3,0,0,2.7,Normal\\r\\nG325,Jonny,26,Male,97.3,0,0,2.7,Normal\\r\\nG326,Shamim,25,Male,97.5,0,0,2.5,Normal\\r\\nG327,Bashir,32,Male,97.2,0,0,2.8,Normal\\r\\nG328,Imran,30,Male,96.8,0,0,3.2,Normal\\r\\nG329,Tanjina,27,Female,97.9,0,0,2.1,Normal\\r\\nG330,Ripon,21,Male,97,0,0,3,Normal\\r\\nG331,Tayef,25,Male,97.1,0,0,2.9,Normal\\r\\nG332,Saju,29,Male,97.9,0,0,2.1,Normal\\r\\nG333,Mahfuza,24,Female,97.1,0,0,2.9,Normal\\r\\nG334,Rokon,28,Male,70.3,0,26.6,3.1,E trait\\r\\nG335,Rasel,25,Male,96.7,0,0,3.3,Normal\\r\\nG336,Sajjad,23,Male,97.3,0,0,2.7,Normal\\r\\nG337,Alamin,24,Male,97.9,0,0,2.1,Normal\\r\\nG338,Shohag,30,Male,97.1,0,0,2.9,Normal\\r\\nG339,Rubel,25,Male,97.5,0,0,2.5,Normal\\r\\nG340,Rasel,21,Male,97.3,0,0,2.7,Normal\\r\\nG341,Ashraf,25,Male,97,0,0,3,Normal\\r\\nG342,Sohel,18,Male,97.8,0,0,2.2,Normal\\r\\n431,Sara,22,Female,97.6,0,0,2.4,Normal\\r\\n434,Zannatul,21,Female,96.6,0,0,3.4,Normal\\r\\n435,Asadullah,19,Male,97.4,0,0,2.6,Normal\\r\\n436,Raihan,22,Male,97.1,0,0,2.8,Normal\\r\\n437,Aminul,24,Male,97.3,0,0,2.7,Normal\\r\\n439,Zafar,37,Male,70,0,26,3.2,E trait\\r\\n440,Dabiul,30,Male,93.2,0,0,6.8,Beta trait\\r\\n441,Mazharul,20,Male,97,0,0,3,Normal\\r\\n442,Arafat,22,Male,97,0,0,3,Normal\\r\\n443,Jasim,22,Male,97.3,0,0,2.7,Normal\\r\\nG343,Mukaddas,21,Male,97.7,0,0,2.3,Normal\\r\\nG344,Tarik,19,Male,96.9,0,0,3.1,Normal\\r\\nG345,Alauddin,25,Male,97.2,0,0,2.8,Normal\\r\\nG346,Rubel,22,Male,97.2,0,0,2.8,Normal\\r\\nG347,Mahmud,24,Male,70.5,0,25.8,3.7,E trait\\r\\nG348,Monjur,21,Male,97.2,0,0,2.8,Normal\\r\\nG349,Motiur,29,Male,97.2,0,0,2.8,Normal\\r\\nG350,Rabeya,20,Female,97.3,0,0,2.7,Normal\\r\\nG351,Kabir,30,Male,97.4,0,0,2.6,Normal\\r\\n339,Abdur,24,Male,96.8,0,0,3.2,Normal\\r\\n340,Hasan,24,Male,97.4,0,0,2.6,Normal\\r\\n341,Mahmudul,24,Male,97.4,0,0,2.6,Normal\\r\\n342,Sajedul,26,Male,97,0,0,3,Normal\\r\\n343,Kayum,22,Male,96.8,0,0,3.2,Normal\\r\\n344,Alfuz,25,Male,70.2,0,26.3,3.5,E trait\\r\\n345,Hassan,24,Male,97.2,0,0,2.8,Normal\\r\\n346,Mahfuz,23,Male,97.3,0,0,2.7,Normal\\r\\n347,Newaz,24,Male,97.3,0,0,2.7,Normal\\r\\nM34,Korban Ali,60,Male,97.4,0,0,2.6,Normal\\r\\nM35,Ali,40,Male,97.1,0,0,2.9,Normal\\r\\nM36,Rafiqul,35,Male,97.1,0,0,2.9,Normal\\r\\nG266,Sabbir,29,Male,97.2,0,0,2.8,Normal\\r\\nG267,Bayezid,19,Male,96.9,0,0,3.1,Normal\\r\\nG268,Mazharul,25,Male,68.5,0.7,26.7,4.1,E trait\\r\\nG269,Jesmin,26,Female,97.3,0,0,2.7,Normal\\r\\nG270,Miton,22,Male,96.1,1.4,0,2.5,Normal\\r\\nG271,Sojol,19,Male,97.1,0,0,2.9,Normal\\r\\nG272,Karimul,21,Male,97.1,0,0,2.9,Normal\\r\\nG273,Joshna,18,Female,97.2,0,0,2.8,Normal\\r\\nG274,Akhi,18,Female,70.6,0,26.1,3.3,E trait\\r\\nG275,Nahar,21,Female,96.9,0,0,3.1,Normal\\r\\nG276,Adori,20,Female,69.7,0,26.8,3.5,E trait\\r\\nG277,Nazma,25,Female,97.4,0,0,2.6,Normal\\r\\nG278,Robin,19,Male,96.6,0,0,3.4,Normal\\r\\nG279,Shakil,22,Male,97.3,0,0,2.7,Normal\\r\\nG280,Parvej,24,Male,97.4,0,0,2.6,Normal\\r\\nG281,Jesmin,19,Female,97.2,0,0,2.8,Normal\\r\\nG282,Mina,18,Female,97.3,0,0,2.7,Normal\\r\\nG283,Taleb,25,Male,96.7,0,0,3.3,Normal\\r\\nG284,Shopon,20,Male,97,0,0,3,Normal\\r\\nG285,Mimi,18,Female,97.1,0,0,2.9,Normal\\r\\nG286,Mizanur,30,Male,97,0,0,3,Normal\\r\\nG287,Morshed,22,Male,97.1,0,0,2.9,Normal\\r\\nG288,Taher,24,Male,97.1,0,0,2.9,Normal\\r\\nG289,Rabby,28,Male,96.9,0,0,3.1,Normal\\r\\nG290,Raja,28,Male,90.7,0,4.1,5.2,Beta Thalassemia\\r\\nG291,Saiful,30,Male,97.1,0,0,2.9,Normal\\r\\nG292,Ranjit,30,Male,97,0,0,3,Normal\\r\\nG293,Mumtaz,25,Male,97,0,0,3,Normal\\r\\nG294,Suruj,22,Male,97.1,0,0,2.9,Normal\\r\\nG295,Juwel,22,Male,97,0,0,3,Normal\\r\\nG296,Rupton,32,Male,97.2,0,0,2.8,Normal\\r\\nG297,Ripon,20,Male,96.8,0,0,3.2,Normal\\r\\nG298,Arifur,23,Male,96.8,0,0,3.2,Normal\\r\\nG299,Rubel,23,Male,97.3,0,0,2.7,Normal\\r\\nG300,Kabir,22,Male,97.2,0,0,2.8,Normal\\r\\nG301,Hridoy,22,Male,97.6,0,0,2.4,Normal\\r\\nG302,Arif,21,Male,96.9,0,0,3.1,Normal\\r\\nG303,Riad,18,Male,96.7,0,0,3.3,Normal\\r\\nG304,Mofiz,28,Male,97,0,0,3,Normal\\r\\nG305,Al-amin,29,Male,97,0,0,3,Normal\\r\\nG306,Goni,21,Male,96.8,0,0,3.2,Normal\\r\\nG307,Kanchon,22,Male,97.3,0,0,2.7,Normal\\r\\nG308,Sweet,18,Male,96.8,0,0,3.2,Normal\\r\\nG309,Asma,23,Female,97.1,0,0,2.9,Normal\\r\\nG310,Muzahid,19,Male,97.1,0,0,2.9,Normal\\r\\nG311,Jannatul,19,Female,97,0,0,3,Normal\\r\\nG216,Rani,21,Female,97.1,0,0,2.9,Normal\\r\\nG217,Shakib,25,Male,96.9,0,0,3.1,Normal\\r\\nG218,Hasan,19,Male,97.2,0,0,2.8,Normal\\r\\nG2119,Imran,22,Male,96.9,0,0,3.1,Normal\\r\\nG220,Rabeya,20,Female,97.5,0,0,2.5,Normal\\r\\nG221,Bobita,26,Female,68.6,0,27.8,3.6,E trait\\r\\nG222,Mitu,23,Female,70.1,0,26.1,3.8,E trait\\r\\nG223,Taslima,19,Female,97.6,0,0,2.4,Normal\\r\\nG224,Amena,24,Female,97.5,0,0,2.5,Normal\\r\\nG225,Osman,21,Male,0,0,0,2.9,Normal\\r\\nG226,Mamun,23,Male,97.3,0,0,2.7,Normal\\r\\nG227,Anowar,25,Male,97.3,0,0,2.7,Normal\\r\\nG228,Mitu,19,Female,98.1,0,0,1.9,Normal\\r\\nG229,Tania,18,Female,97.6,0,0,2.4,Normal\\r\\nG230,Ashamoni,19,Female,97.1,0,0,2.9,Normal\\r\\nG231,Mukles,25,Male,97,0,0,3,Normal\\r\\nG232,Anis,19,Male,97.1,0,0,2.9,Normal\\r\\nG233,Asraful,21,Male,97.5,0,0,2.5,Normal\\r\\nG234,Arjina,25,Female,97.9,0,0,2.1,Normal\\r\\nG235,Majeda,22,Female,97.1,0,0,2.9,Normal\\r\\nG234,Azizul,24,Male,97.3,0,0,2.7,Normal\\r\\nG237,Amir,30,Male,97,0,0,3,Normal\\r\\nG238,Abarul,21,Male,69.5,0,26.7,3.8,Normal\\r\\nG239,Sharmin,18,Female,97.2,0,0,2.8,Normal\\r\\nG240,Sabina,18,Female,97.7,0,0,2.3,Normal\\r\\nG241,Monir,18,Male,97.3,0,0,2.7,Normal\\r\\nG242,Mehedi,21,Male,97.1,0,0,2.9,Normal\\r\\nG243,Lipi,18,Female,54.8,0,42.1,3.1,D trait\\r\\nG244,Shagor,21,Male,97,0,0,3,Normal\\r\\nG245,Saiful,30,Male,97.4,0,0,2.6,Normal\\r\\nG246,Khairul,18,Male,97.4,0,0,2.6,Normal\\r\\nG247,Rifat,19,Male,97.1,0,0,2.9,Normal\\r\\nG248,Ashraful,26,Male,97.1,0,0,2.9,Normal\\r\\nG249,Suraiya,22,Female,97.5,0,0,2.5,Normal\\r\\nG250,Sakib,20,Male,96.9,0,0,3.1,Normal\\r\\nG251,Ratul,18,Male,97.5,0,0,2.5,Normal\\r\\nG252,Faisal,19,Male,69.2,0,26.8,4,E trait\\r\\nG253,Monir,21,Male,97.1,0,0,2.9,Normal\\r\\nG254,Rehana,26,Female,97.6,0,0,2.4,Normal\\r\\nG255,Juthi,25,Female,97.1,0,0,2.9,Normal\\r\\nG256,Meena,21,Female,97.9,0,0,2.1,Normal\\r\\nG257,Shefaly,28,Female,97.5,0,0,2.5,Normal\\r\\nG258,Ataullah,30,Male,97.1,0,0,2.9,Normal\\r\\nG259,Sharmin,22,Female,97.7,0,0,2.3,Normal\\r\\nG260,Rejaul,28,Male,97.5,0,0,2.5,Normal\\r\\nG261,Khaleda,18,Female,57.9,0,39.1,3,D trait\\r\\nG262,Samina,22,Female,97.5,0,0,2.5,Normal\\r\\nG263,Hossain,30,Male,97,0,0,3,Normal\\r\\nG264,Delowar,26,Male,69.5,0,26.5,4,E trait\\r\\nG265,Jakir,23,Male,96.6,0,0,3.4,Normal\\r\\nG215,Sakib,24,Male,96.9,0,0,3.1,Normal\\r\\nG193,Monjuara,19,Female,96.2,1,0,0,Normal\\r\\nG194,Shapna,18,Female,97.2,0,0,2.8,Normal\\r\\nG195,Robiul,26,Male,97.2,0,0,2.8,Normal\\r\\nG196,Zahid,24,Male,96.9,0,0,3.1,Normal\\r\\nG197,Rubina,18,Female,97.9,0,0,2.1,Normal\\r\\nG198,Liton,25,Male,96.9,0,0,3.1,Normal\\r\\nG199,Mahmudur,24,Male,70.8,0,25.2,4,E trait\\r\\nG200,Shohag,28,Male,71.3,0,24.7,4,E trait\\r\\nG201,Amena,18,Female,97.7,0,0,2.3,Normal\\r\\nG202,Farzana,21,Female,97.5,0,0,2.5,Normal\\r\\nG203,Liza,18,Female,73.2,0,24.4,2.4,E trait\\r\\nG204,Kurshid,32,Male,97.9,0,0,2.1,Normal\\r\\nG205,Sarmin,25,Female,74.6,0,21.3,4.1,E trait\\r\\nG206,Jahangir,18,Male,68.8,0,27.1,4.1,E trait\\r\\nG207,Mojibur,20,Male,97.2,0,0,2.8,Normal\\r\\nG208,Sabbir,20,Male,96.8,0,0,3.2,Normal\\r\\nG209,Yasmin,18,Female,98.2,0,0,1.8,Normal\\r\\nG210,Shahid,18,Male,69.5,0,26.5,4,E trait\\r\\nG211,Momotaj,19,Female,98.5,0,0,1.5,Normal\\r\\nG212,Khadija,19,Female,97.1,0,0,2.9,Normal\\r\\nG213,Sadia,19,Female,97.3,0,0,2.7,Normal\\r\\nG214,Shanto,20,Male,96.9,0,0,3.1,Normal\\r\\nG167,Mamun,27,Male,97.1,0,0,2.9,Normal\\r\\nG168,Rabeya,20,Female,97.6,0,0,2.4,Normal\\r\\nG169,Amena,18,Female,97,0,0,3,Normal\\r\\nG170,Kulsum,21,Female,97.1,0,0,2.9,Normal\\r\\nG171,Kobita,22,Female,97.1,0,0,2.9,Normal\\r\\nG172,Alefnur,23,Male,71.1,0,25,3.9,E trait\\r\\nG173,Ruma,18,Female,98.1,0,0,1.9,Normal\\r\\nG174,Lima,18,Female,97.3,0,0,2.7,Normal\\r\\nG175,Plabon,30,Male,97.1,0,0,2.9,Normal\\r\\nG176,Champa,18,Female,97.3,0,0,2.7,Normal\\r\\nG177,Mahbub,30,Male,96.9,0,0,3.1,Normal\\r\\nG178,Khalil,24,Male,97.4,0,0,2.6,Normal\\r\\nG179,Sagor,25,Male,97.2,0,0,2.8,Normal\\r\\nG180,Dipok,24,Male,97,0,0,3,Normal\\r\\nG181,Mojnu,24,Male,97.3,0,0,2.7,Normal\\r\\nG182,Sompa,20,Female,97.3,0,0,2.7,Normal\\r\\nG183,Imran,19,Male,96.7,0,0,3.3,Normal\\r\\nG184,Musfiqa,25,Female,97,0,0,3,Normal\\r\\nG185,Arif,21,Male,96.7,0,0,3.3,Normal\\r\\nG186,Bulbul,23,Male,96.8,0,0,3.2,Normal\\r\\nG187,Kamal,19,Male,97.2,0,0,2.8,Normal\\r\\nG188,Sumon,26,Male,96.9,0,0,3.1,Normal\\r\\nG189,Sabbir,26,Male,96.9,0,0,3.1,Normal\\r\\nG190,Hossain,18,Male,97.2,0,0,2.8,Normal\\r\\nG191,Naim,22,Male,97,0,0,3,Normal\\r\\nG192,Rajib,19,Male,97.2,0,0,2.8,Normal\\r\\nG124,Lavly,22,Female,97.2,0,0,2.8,Normal\\r\\nG125,Khadija,19,Female,68.1,1.1,27.4,3.4,E trait\\r\\nG126,Rabaya,19,Female,97.1,0,0,2.9,Normal\\r\\nG127,Ashamoni,18,Female,98.1,0,0,1.9,Normal\\r\\nG128,Lalto,22,Male,97.1,0,0,2.9,Normal\\r\\nG129,Rahat,18,Male,97.8,0,0,2.2,Normal\\r\\nG130,Ripa,20,Male,72.5,0,24.8,2.7,E trait\\r\\nG131,Shanaj,19,Female,71.9,0,25.1,3,E trait\\r\\nG132,Tapon,25,Male,70.5,0,26.2,3.3,E trait\\r\\nG133,Kaiser,28,Male,97.1,0,0,2.9,Normal\\r\\nG134,Rajob,26,Male,97,0,0,3,Normal\\r\\nG135,Uzzal,32,Male,97.1,0,0,2.9,Normal\\r\\nG136,Eiti,19,Female,94.7,0.4,0,4.9,Beta Thalassemia\\r\\nG137,Sahadat,24,Male,97.1,0,0,2.9,Normal\\r\\nG138,Pappo,19,Male,97,0,0,3,Normal\\r\\nG139,Tanvir,19,Male,97,0,0,3,Normal\\r\\nG140,Tazul,29,Male,97,0,0,3,Normal\\r\\nG141,Shawon,24,Male,97.2,0,0,2.8,Normal\\r\\nG142,Lavlu,42,Male,97.4,0,0,2.6,Normal\\r\\nG143,Tutul,47,Male,97,0,0,3,Normal\\r\\nG144,Rajiya,20,Female,97.4,0,0,2.6,Normal\\r\\nG145,Sharmin,19,Female,97.8,0,0,2.2,Normal\\r\\nG146,Shathy,20,Female,97.1,0,0,2.9,Normal\\r\\nG147,Shamim,40,Male,98,0,0,2,Normal\\r\\nG148,Ekbal,25,Male,96.8,0,0,3.2,Normal\\r\\nG149,Ripon,20,Male,97.1,0,0,2.9,Normal\\r\\nG150,Nupur,18,Female,70.2,0,26.1,3.7,E trait\\r\\nG151,Ferdouse,20,Female,97.2,0,0,2.8,Normal\\r\\nG152,Bithy,20,Female,97,0,0,3,Normal\\r\\nG153,Sima,22,Female,72.1,0,24.4,3.5,E trait\\r\\nG154,parvin,24,Female,97.4,0,0,2.6,Normal\\r\\nG155,Sabina,21,Female,97.3,0,0,2.7,Normal\\r\\nG156,Monirul,24,Male,97.3,0,0,2.7,Normal\\r\\nG157,Sahidul,22,Male,97,0,0,3,Normal\\r\\nG159,Mizanur Rahman,21,Male,96.7,0,0,3.3,Normal\\r\\nG160,Sabbir Fakir,19,Male,96.8,0,0,3.2,Normal\\r\\nG161,Akram Hossain,42,Male,97.1,0,0,2.9,Normal\\r\\nG162,Maithri De Silva,57,Male,97.4,0,0,2.6,Normal\\r\\nG163,Roni,26,Male,97.1,0,0,2.9,Normal\\r\\nG164,Masud Rana,19,Male,69.6,0,26.8,3.6,E trait\\r\\nG165,Ruman,19,Male,97.3,0,0,2.7,Normal\\r\\nG166,Abdur Rouf,36,Male,97,0,0,3,Normal\\r\\nM33,Lamia,6,Female,96.6,0.3,0,3.1,Normal\\r\\nG124,Lavly,22,Female,97.2,0,0,2.8,Normal\\r\\nG125,Khadija Begum,19,Female,68.1,1.1,27.4,3.4,Normal\\r\\nG126,Rabeya Basori,19,Female,97.1,0,0,2.9,Normal\\r\\nG127,Ashamoni,18,Female,98.1,0,0,1.9,Normal\\r\\nG128,Lalto Rahman,22,Male,97.1,0,0,2.9,Normal\\r\\nG129,Rahat Hossain,18,Male,97.8,0,0,2.2,Normal\\r\\nG130,Ripa,22,Female,72.5,0,24.8,2.7,E trait\\r\\nG131,Shanaj,19,Female,71.9,0,25.1,3,E trait\\r\\nG132,Tapon,25,Male,70.5,0,26.2,3.3,E trait\\r\\nG133,Kaiser Ahmed,28,Male,97.1,0,0,2.9,Normal\\r\\nG134,Md.Rajob Ali,26,Male,97,0,0,3,Normal\\r\\nG135,Uzzal Pramanik,32,Male,97.1,0,0,2.9,Normal\\r\\nG136,Eiti Akter,19,Female,94.7,0.4,0,4.9,Beta trait\\r\\nG137,Shahadat Hossain,24,Male,97.1,0,0,2.9,Normal\\r\\nG138,Pappo Ahmed,19,Male,97,0,0,3,Normal\\r\\nG139,Md.Tanvir Rhman,19,Male,97,0,0,3,Normal\\r\\nG140,Md.Nur-tazul Hossain,29,Male,97,0,0,3,Normal\\r\\nG141,Shawon,24,Male,97.2,0,0,2.8,Normal\\r\\nG142,Lavlu,42,Male,97.4,0,0,2.6,Normal\\r\\nG143,Tutul,47,Male,97,0,0,3,Normal\\r\\nG144,Rajiya,20,Female,97.4,0,0,2.6,Normal\\r\\nG145,Sharmin,19,Female,97.8,0,0,2.2,Normal\\r\\nG146,Shathy,20,Female,97.1,0,0,2.9,Normal\\r\\nG147,AGM Shamim Reza,40,Male,98,0,0,2,Normal\\r\\nG148,Md.Ekbal Hossain,25,Male,96.8,0,0,3.2,Normal\\r\\nG149,Ripon,20,Male,97.1,0,0,2.9,Normal\\r\\nG150,Nupur,18,Female,70.2,0,26.1,3.7,E trait\\r\\nG151,Ferdous Begum,20,Female,97.2,0,0,2.8,Normal\\r\\nG152,Bithy Akter,20,Female,97,0,0,3,Normal\\r\\nG153,Sima,22,Female,72.1,0,24.4,3.5,E trait\\r\\nG154,Parvin,24,Female,97.4,0,0,2.6,Normal\\r\\nG155,Sabina,21,Female,97.3,0,0,2.7,Normal\\r\\nG156,Monirul Islam,25,Male,97.3,0,0,2.7,Normal\\r\\nG157,Sahidul Islam,22,Male,97,0,0,3,Normal\\r\\nG158,Rayhan,18,Male,96.9,0,0,3.1,Normal\\r\\nG159,Mizanur Rahman,21,Male,96.7,0,0,3.3,Normal\\r\\nG160,Sabbir Fakir,19,Male,96.8,0,0,3.2,Normal\\r\\nG161,Akram Hossain,42,Male,97.1,0,0,2.9,Normal\\r\\nG162,Maithri De Silva,57,Male,97.4,0,0,2.6,Normal\\r\\nG163,Roni,26,Male,97.1,0,0,2.9,Normal\\r\\nG164,Masud Rana,19,Male,69.6,0,26.8,3.6,E trait\\r\\nG165,Ruman,19,Male,97.3,0,0,2.7,Normal\\r\\nG166,Abdur Rouf,36,Male,97,0,0,3,Normal\\r\\nM33,Lamia,6,Female,96.6,0.3,0,3.1,Normal\\r\\nG72,Rabbi Amin,20,Male,96.8,0,0,3.2,Normal\\r\\nG73,Robiul Islam,19,Male,97.5,0,0,2.5,Normal\\r\\nG74,Noori,18,Female,97.4,0,0,2.6,Normal\\r\\nG75,Shawon,21,Male,97.4,0,0,2.6,Normal\\r\\nG76,Aktaruzzan,18,Male,69.9,0,25.7,4.4,E trait\\r\\nG77,Ariful Islam,18,Male,97.2,0,0,2.8,Normal\\r\\nG78,Mst.Bulbuli Akter,19,Female,73.2,0,23.2,3.6,E trait\\r\\nG79,Shefali Akter,19,Female,97.7,0,0,2.3,Normal\\r\\nG80,Salma Akter,18,Female,97.4,0,0,2.6,Normal\\r\\nG81,Shimu Khatun,20,Female,97.3,0,0,2.7,Normal\\r\\nG82,Abdul Latif,27,Male,96.9,0,0,3.1,Normal\\r\\nG83,Imran Ali,23,Male,70.5,0,26.2,3.3,E trait\\r\\nG84,Popi,19,Female,97.6,0,0,2.4,Normal\\r\\nG85,Sathi,19,Female,97,0,0,3,Normal\\r\\nG86,Karima,18,Female,97.5,0,0,2.5,Normal\\r\\nG87,Shima,18,Female,97.1,0,0,2.9,Normal\\r\\nG88,Kakoli,18,Female,97.1,0,0,2.9,Normal\\r\\nG89,Papiya,18,Female,97.2,0,0,2.8,Normal\\r\\nG90,Aktar Hossain,23,Male,96.9,0,0,3.1,Normal\\r\\nG91,Sania,21,Female,97.5,0,0,2.5,Normal\\r\\nG92,Babul Hossain,31,Male,97.1,0,0,2.9,Normal\\r\\nG93,Janita Parvin,30,Female,97.6,0,0,2.4,Normal\\r\\nG94,Mehedi Hassain,22,Male,96.9,0,0,3.1,Normal\\r\\nG95,Alamin,25,Male,97,0,0,3,Normal\\r\\nG96,Riyad,19,Male,97,0,0,3,Normal\\r\\nG97,Pappu,24,Male,96.9,0,0,3.1,Normal\\r\\nG98,Md.Abdul Rouf,27,Male,97.1,0,0,2.9,Normal\\r\\nG99,Salahuddin,23,Male,97.1,0,0,2.9,Normal\\r\\nG100,Mamunur Rashid,22,Male,69.4,0,26.7,3.9,E trait\\r\\nG101,Md. Zahidul Islam,26,Male,97.9,0,0,2.1,Normal\\r\\nG102,Jalal,25,Male,96.8,0,0,3.2,Normal\\r\\nG103,Seuli Akter,20,Female,97.2,0,0,2.8,Normal\\r\\nG104,Sabbir Sheikh,20,Male,96.9,0,0,3.1,Normal\\r\\nG105,Masura,23,Female,97.5,1.1,0,1.4,Normal\\r\\nG106,Asaduzzaman,30,Male,96.9,0,0,3.1,Normal\\r\\nG107,Raju Malik,22,Male,97.2,0,0,2.8,Normal\\r\\nG108,Abdullah Al - Amin,23,Male,97,0,0,3,Normal\\r\\nG109,Anwarul Islam,30,Male,71.6,0,25.2,3.2,E trait\\r\\nG110,Pinu Talukder,25,Male,96.9,0,0,3.1,Normal\\r\\nG111,Rassel,24,Male,97.1,0,0,2.9,Normal\\r\\nG112,Rikta,21,Female,97.3,0,0,2.7,Normal\\r\\nG113,Ayrin Akter,26,Female,97.4,0,0,2.6,Normal\\r\\nG114,Shefali Akter,28,Female,96.9,0,0,3.1,Normal\\r\\nG115,Shameem Ahmed,42,Male,71.2,0,25.7,3.1,E trait\\r\\nG116,SHahadat Hossain,19,Male,97.3,0,0,2.7,Normal\\r\\nG117,Bina Parvin,21,Female,96.7,0,0,3.3,Normal\\r\\nG118,Shah Alam,22,Male,69.4,0,26.6,4,E trait\\r\\nG119,Bilkis,18,Female,97.2,0,0,2.8,Normal\\r\\nG120,Juwel,21,Male,96.9,0,0,3.1,Normal\\r\\nG121,Riaj Miah,19,Male,97.5,0,0,2.5,Normal\\r\\nG122,Ranjana,18,Female,97.1,0,0,2.9,Normal\\r\\nG123,Tania,20,Female,97.2,0,0,2.8,Normal\\r\\n332,Sefa,22,Female,97.2,0,0,2.8,Normal\\r\\n333,Abdullah Al - Noman,22,Male,97,0,0,3,Normal\\r\\n334,Hasem Miah,27,Male,97,0,0,3,Normal\\r\\n335,Maruf,20,Male,97.4,0,0,2.6,Normal\\r\\n336,Md. Sanowar Hossain,26,Male,97.1,0,0,2.9,Normal\\r\\n337,Rifat Agun,22,Male,70.1,0,26.5,3.4,E trait\\r\\n270,Foisal Ahmed,25,Male,97.3,0,0,2.7,Normal\\r\\n271,Moazzem Hossain,24,Male,95.3,2.2,0,2.5,Normal\\r\\n272,Tutul Hossain,24,Male,96.8,0,0,3.2,Normal\\r\\n273,Md. Jahidul Islam,26,Male,97.4,0,0,2.6,Normal\\r\\n274,Md. Shahjahan,20,Male,96.7,0,0,3.3,Normal\\r\\n275,Anamul Karim,21,Male,97.1,0,0,2.9,Normal\\r\\n276,Md. Yousuf,22,Male,96.6,0,0,3.4,Normal\\r\\n277,Raju Ahmed,20,Male,68.3,0,27.6,4.1,E trait\\r\\n278,Naim Ahmed,22,Male,96.9,0,0,3.1,Normal\\r\\n279,Md. Abdul Alim,24,Male,96.9,0,0,3.1,Normal\\r\\n280,Ariful Islam,22,Male,96.7,0,0,3.3,Normal\\r\\n281,Md. Ibrahim Sarker,23,Male,96.5,0,0,3.5,Normal\\r\\n282,Omar Faruk,22,Male,92.5,0.5,0,7,Beta trait\\r\\n283,Md. Azad Hossain,25,Male,96.8,0,0,3.2,Normal\\r\\n284,Hazrat Shekh,25,Male,96.9,0,0,3.1,Normal\\r\\n285,Sabran Sarder,23,Male,97.1,0,0,2.9,Normal\\r\\n286,Fardin Ahmed,23,Male,96.6,0,0,3.4,Normal\\r\\n287,Md. Hridoy Miah,23,Male,97.3,0,0,2.7,Normal\\r\\n288,Shahinur Jaman,22,Male,97.2,0,0,2.8,Normal\\r\\n289,Md.Iqbal Hossain,25,Male,97.1,0,0,2.9,Normal\\r\\n290,Noman Bin Hossain,18,Male,96.7,0,0,3.3,Normal\\r\\n291,Mainul Islam,22,Male,96.9,0,0,3.1,Normal\\r\\n292,Roni Ahmed,21,Male,96.7,0,0,3.3,Normal\\r\\n293,Sojib Sarker,24,Male,97.1,0,0,2.9,Normal\\r\\n294,Sihab Jil Kamran,22,Male,97.2,0,0,2.8,Normal\\r\\n295,Shamim Ahmed,22,Male,96.8,0,0,3.2,Normal\\r\\n296,Atikur Rahman,22,Male,0,1.3,92.9,5.8,Hb E disease\\r\\n297,Md.Olinur Rahman,30,Male,97.2,0,0,2.8,Normal\\r\\n298,Md. Moni,18,Male,97.1,0,0,2.9,Normal\\r\\n299,Sadia Islam,24,Female,67.9,0,27.7,4.4,E trait\\r\\n300,Prosonjit Roy,19,Male,97.3,0,0,2.7,Normal\\r\\n301,Sani,24,Male,97.2,0,0,2.8,Normal\\r\\n302,Ruhul Amin,23,Male,97.3,0,0,2.7,Normal\\r\\n303,Shahed Hossain,23,Male,97,0,0,3,Normal\\r\\n304,Nazmul Hasan,23,Male,70,0,26.2,3.8,E trait\\r\\n305,Nasim,20,Male,97.2,0,0,2.8,Normal\\r\\n306,Abidha Sultana Nishu,20,Female,98.6,0,0,1.4,Normal\\r\\n307,Masum,23,Male,97.4,0,0,2.6,Normal\\r\\n308,Hasanuzzaman,21,Male,97,0,0,3,Normal\\r\\n309,Shoeb,25,Male,71,0,25.4,3.6,E trait\\r\\n310,Md.Bodiruzzaman,20,Male,97.4,0,0,2.6,Normal\\r\\n311,Habibul Bashar,22,Male,96.8,0,0,3.2,Normal\\r\\n312,Tomal Mozumder,28,Male,97.1,0,0,2.9,Normal\\r\\n313,Ajharul Islam,22,Male,97.3,0,0,2.7,Normal\\r\\n314,Mehedi Hasan,20,Male,97.1,0,0,2.9,Normal\\r\\n315,Mamun Hussain,21,Male,97.3,0,0,2.7,Normal\\r\\n316,Sabiha Surovi,21,Female,97.1,0,0,2.9,Normal\\r\\n317,Amir Hamza,19,Male,97,0,0,3,Normal\\r\\n318,Kaniz Fatema,21,Female,97.6,0,0,2.4,Normal\\r\\n319,Lutfur rahman,21,Male,96.8,0,0,3.2,Normal\\r\\n320,Esrat Jahan,21,Female,97.2,0,0,2.8,Normal\\r\\n321,Habizur Rahman,23,Male,97.8,0,0,2.2,Normal\\r\\n322,Mosharouf Hossain,25,Male,97.2,0,0,2.8,Normal\\r\\n323,Md.Zakaria,24,Male,97,0,0,3,Normal\\r\\n324,Moniul Islam,25,Male,97.4,0,0,2.6,Normal\\r\\n325,Md.Yousuf Ahmed,19,Male,97.3,0,0,2.7,Normal\\r\\n326,Md.Jkiruzzaman,21,Male,97.4,0,0,2.6,Normal\\r\\n327,Md.Mazharul Islam,23,Male,97.4,0,0,2.6,Normal\\r\\n328,Anan,24,Male,70.2,0,26,3.8,E trait\\r\\n329,Shawon,20,Male,97,0,0,3,Normal\\r\\n330,Shaon Ghosh,21,Male,97.1,0,0,2.9,Normal\\r\\n331,Md.Maruf Hossain,19,Male,97.2,0,0,2.8,Normal\\r\\n245,Md.Ziaur Rahman,26,Male,97.2,0,0,2.8,Normal\\r\\n246,Rakibul Hasan,23,Male,97.4,0,0,2.6,Normal\\r\\n247,Kabir Miah,21,Male,97,0,0,3,Normal\\r\\n248,Md.Kawsar Ahmed,26,Male,97.5,0,0,2.5,Normal\\r\\n249,Md.Kamruzzaman,22,Male,69.7,0,26.7,3.6,E trait\\r\\n250,Md. Delowar Hossain,20,Male,96.9,0,0,3.1,Normal\\r\\n251,Sohaly,22,Female,72.1,0,24.4,3.5,E trait\\r\\n252,Nasir Uddin Sagor,18,Male,97,0,0,3,Normal\\r\\n253,Sawon,24,Male,97.7,0,0,2.3,Normal\\r\\n254,Kazi Motaleb,20,Male,97,0,0,3,Normal\\r\\n255,Md.Babor Ali,18,Male,97.3,0,0,2.7,Normal\\r\\n256,Anowarul Islam,26,Male,96.9,0,0,3.1,Normal\\r\\n257,Shekh Faridul Islam Forid,22,Male,97.2,0,0,2.8,Normal\\r\\n258,Jannatul Ferdous Erani,18,Female,97.3,0,0,2.7,Normal\\r\\n259,Asma Akter,19,Female,97.3,0,0,2.7,Normal\\r\\n260,Md.Miraj,26,Male,97.3,0,0,2.7,Normal\\r\\n261,Md.Shahed,22,Male,97.5,0,0,2.5,Normal\\r\\n262,Sifat Islam,27,Male,97.1,0,0,2.9,Normal\\r\\n263,Md. Sohel rana,23,Male,97,0,0,3,Normal\\r\\n264,Rita Sarkar,27,Female,97.5,0,0,2.5,Normal\\r\\n265,Sahin Alom,25,Male,97.4,0,0,2.6,Normal\\r\\n266,Ezaz Ahmed,30,Male,96.8,0,0,3.2,Normal\\r\\n267,Md. Mobarok Hossain,23,Male,97.1,0,0,2.9,Normal\\r\\n268,Ismail Hossain,27,Male,96.7,0,0,3.3,Normal\\r\\n269,Md. Monirul Islam,22,Male,97.2,0,0,2.8,Normal\\r\\nG52,Golam Mostafa,40,Male,97.2,0,0,0,Normal\\r\\nG55,Md. Burhan Uddin,30,Male,96.6,0,0,3.4,Normal\\r\\nG56,Robiul Islam,30,Male,96.7,0,0,3.3,Normal\\r\\nG57,Taslima Jannat,28,Female,96.7,0,0,3.3,Normal\\r\\nG58,Munmun,21,Female,96.8,0,0,3.2,Normal\\r\\nG59,Sadik Mahmud,28,Male,96.8,0,0,3.2,Normal\\r\\nG60,Chamily,28,Female,96.5,0,0,3.5,Normal\\r\\nG61,Esrat Jahan Mou,22,Female,96.6,0,0,3.4,Normal\\r\\nG62,Akteruzzaman,35,Male,96.9,0,0,3.1,Normal\\r\\nG62,Ekbal Hossain,30,Male,96.6,0,0,3.4,Normal\\r\\nG52,Keya,21,Female,97.3,0,0,2.7,Normal\\r\\nG65,Md.Ashikur Rahman,22,Male,96.8,0,0,3.2,Normal\\r\\nG66,Arzina Akter,23,Female,97.1,0,0,2.9,Normal\\r\\nG67,Soriful Islam,28,Male,96.7,0,0,3.3,Normal\\r\\nG68,Md. Azmol,25,Male,96.9,0,0,3.1,Normal\\r\\nG69,Al-Mizan,24,Male,96.7,0,0,3.3,Normal\\r\\nG70,Aminul Islam,34,Male,96.8,0,0,3.2,Normal\\r\\nG71,Rupa Akter,18,Female,93.3,0.9,0,5.8,Beta trait\\r\\nM32,Firoz Ahmed,40,Male,92.1,0.3,0,7.6,Beta trait\\r\\nG53,Md. Sujat Sheikh,20,Male,97.3,0,0,2.7,Normal\\r\\nG54,Mahfuzur Rahman,25,Male,97.1,0,0,2.9,Normal\\r\\nG37,Mr.Golap,23,Male,93.5,0,0,6.5,Beta trait\\r\\nG38,Mahfuja Akter,24,Female,97.4,0,0,2.6,Normal\\r\\nG39,Babul Hossain,24,Male,97,0,0,3,Normal\\r\\nG40,Md. Sweet Hossain,27,Male,96.8,0,0,3.2,Normal\\r\\nG41,Md.Mahmudul Hasan,30,Male,96.8,0,0,3.2,Normal\\r\\nG42,Golapi,26,Female,97.2,0,0,2.8,Normal\\r\\nG43,Al-Amin,30,Male,96.6,0,0,3.4,Normal\\r\\nG44,Md. Tariful Islam,26,Male,97.1,0,0,2.9,Normal\\r\\nG45,Tania,31,Female,64.3,0,31.6,4.1,E trait\\r\\nG46,Sirazul Islam,28,Male,97.2,0,0,2.8,Normal\\r\\nG47,Hena,35,Female,96.8,0,0,3.2,Normal\\r\\nG48,Jubair,20,Male,96.8,0,0,3.2,Normal\\r\\nG49,Sadesh,27,Male,68.6,0,26.7,4.2,E trait\\r\\nG50,Md.Ariful Islam,45,Male,96.8,0,0,3.2,Normal\\r\\nM29,Abdul Motin,40,Male,98.3,0,0,1.7,Normal\\r\\nM30,Nurun-Nahar,32,Female,91,2.1,0,6.9,Beta trait\\r\\nM31,Jamil Hossain,32,Male,92.2,0.5,0,7.3,Beta trait\\r\\n244,Abu Bakkar,19,Male,96.7,0,0,3.3,Normal\\r\\nG11,Munni Akter,18,Female,95.8,1,0,3.2,Normal\\r\\nG12,Atikul Islam,20,Male,96.6,0,0,3.4,Normal\\r\\nG13,Md.Rijan,30,Male,96.5,0,0,3.5,Normal\\r\\nG14,Md.Akbor Sheek,24,Male,93.7,0,0,6.3,Beta trait\\r\\nG15,Keya Khatun,19,Female,96.6,0,0,3.4,Normal\\r\\nG16,Abdul Gofer,26,Male,96.7,0,0,3.3,Normal\\r\\nG17,Md.Alamin,19,Male,96.5,0,0,3.5,Normal\\r\\nG18,Solyman Talukder,28,Male,96.7,0,0,3.3,Normal\\r\\nG19,Misty Akter,20,Female,96.8,0,0,3.2,Normal\\r\\nG21,Josna,24,Female,95.5,1.5,0,3,Normal\\r\\nG22,Mahfuja,21,Female,97.1,0,0,2.9,Normal\\r\\nG23,Saiful Islam,23,Male,96.6,0,0,3.4,Normal\\r\\nG24,Bayezid Bostami,20,Male,96.7,0,0,3.3,Normal\\r\\nG25,Md. Hafizul Islam,27,Male,96.8,0,0,3.2,Normal\\r\\nG26,Bulbul Ahmed,32,Male,97.1,0,0,2.9,Normal\\r\\nG27,Md.Masum Ali,19,Male,96.8,0,0,3.2,Normal\\r\\nG28,Md.Morshed Alam,23,Male,97.1,0,0,2.9,Normal\\r\\n236,Md.Emran,21,Male,66.5,0,29.3,4.2,E trait\\r\\n237,Imran Hasan,22,Male,96.7,0,0,3.3,Normal\\r\\n238,Rokeya,23,Female,96.6,0,0,3.4,Normal\\r\\n239,Subrata Sarker,22,Male,96.9,0,0,3.1,Normal\\r\\n240,Rabeya,22,Female,97,0,0,3,Normal\\r\\n241,Mithila Rahman,19,Female,97,0,0,3,Normal\\r\\n242,Amena Akter,25,Female,96.8,0,0,3.2,Normal\\r\\nM27,Muhet,28,Male,73.3,1.5,20.3,4.9,E trait\\r\\nM28,Punam,22,Female,69.4,0,26.5,4.1,E trait\\r\\nG20,Selim,42,Male,96.9,0,0,3.1,Normal\\r\\nG29,Marjina,25,Female,96.9,0,0,3.1,Normal\\r\\nG30,Bappa Raj,21,Male,96.8,0,0,3.2,Normal\\r\\nG31,Saiful Islam,29,Male,96.9,0,0,3.1,Normal\\r\\nG32,Md. Mminur Jaman,22,Male,96.6,0,0,3.4,Normal\\r\\nG33,Md.Rubel Gazi,30,Male,96.9,0,0,3.1,Normal\\r\\nG34,Sayoda Begum,28,Female,96.8,0,0,3.2,Normal\\r\\nG35,Nazma Begum,30,Female,96.6,0,0,3.4,Normal\\r\\nG36,Rubel Mia,21,Male,96.8,0,0,3.2,Normal\\r\\n243,Khadija Akter,27,Female,96.9,0,0,3.1,Normal\\r\\n191,Md.Sajjadur Rahman,24,Male,97.1,0,0,2.9,Normal\\r\\n192,Maliha Momotaz,21,Female,97.1,0,0,2.9,Normal\\r\\n193,Mahjabin Hossain Akhi,21,Female,97.7,0,0,2.3,Normal\\r\\n194,Ibtida Jahan Brotee,20,Female,96.7,0,0,3.3,Normal\\r\\n195,Imtiajur Rahman,24,Male,96.7,0,0,3.3,Normal\\r\\n196,Mariam Rashid Sonda,24,Female,96.8,0,0,3.2,Normal\\r\\n197,Abu Sayem Pathik,24,Male,96.7,0,0,3.3,Normal\\r\\n198,Samia Rahman Rimky,20,Female,68.2,0,27.5,4.3,E trait\\r\\n199,Sujon Rana,20,Male,96.6,0,0,3.4,Normal\\r\\n200,Nayem,22,Male,97.2,0,0,2.8,Normal\\r\\n201,Sumaiya Akter Mitu,23,Female,68.9,0,27.1,4,E trait\\r\\n202,Sadman Rahman Rana,24,Male,94.2,0,0,5.8,Beta trait\\r\\n203,Arefin Khalilur Rahman,25,Male,96.6,0,0,3.4,Normal\\r\\n204,Md.Shahin Bashar,22,Male,96.8,0,0,3.2,Normal\\r\\n205,Mehedi Hasan Khan,21,Male,66.2,0,29.7,4.1,E trait\\r\\n206,Sharmin Jahan,22,Female,97.1,0,0,2.9,Normal\\r\\n207,S.M.Rahat Parvez,23,Male,97.3,0,0,2.7,Normal\\r\\n208,Halima Sadia Nur,23,Female,97.2,0,0,2.8,Normal\\r\\n209,Md.Abu Adnan Khan,24,Male,96.7,0,0,3.3,Normal\\r\\n210,Mst.Nazmin Akter,20,Female,96.7,0,0,3.3,Normal\\r\\n211,Tanvir Ahmed,21,Male,96.7,0,0,3.3,Normal\\r\\n212,Pias Kumar Das,24,Male,96.5,0,0,3.5,Normal\\r\\n213,Khandaker Noor Islam,23,Male,96.9,0,0,3.1,Normal\\r\\n214,Chandan Kumar Biswas,24,Male,97.2,0,0,2.8,Normal\\r\\n215,Jarin Tasneem Jita,22,Female,96.8,0,0,3.2,Normal\\r\\n216,Rokeya Shahjahan Suku,22,Female,96.7,0,0,3.3,Normal\\r\\n217,Nishat Fowzia Mowmi,21,Female,96.7,0,0,3.3,Normal\\r\\n218,Mansura Islam Anika,22,Female,96.7,0,0,3.3,Normal\\r\\n219,Tahmina Akter Etee,22,Female,97.4,0,0,2.6,Normal\\r\\n220,Joynove Ara,21,Female,96.8,0,0,3.2,Normal\\r\\n221,Shumyia Islam Tithy,21,Female,96.6,0,0,3.4,Normal\\r\\n222,Prithula Prosum Priya,24,Female,97.1,0,0,2.9,Normal\\r\\n223,Sabira Jahan,23,Female,97.1,0,0,2.9,Normal\\r\\n224,Mazharul Islam Saikat,23,Male,96.9,0,0,3.1,Normal\\r\\n225,Fatema  Akter Mahua,23,Female,66.6,0,28.7,4.7,E trait\\r\\n226,Mukta Neogi,23,Female,96.6,0,0,3.4,Normal\\r\\n227,Farhana Yesmin,23,Female,96.5,0,0,3.5,Normal\\r\\n228,Samara Salam Anchal,23,Female,97.5,0,0,2.5,Normal\\r\\n229,Tanvir Ahmed Ayon,21,Male,96.5,0,0,3.5,Normal\\r\\n230,Samiya Hasan Litu,22,Female,96.7,0,0,3.3,Normal\\r\\n231,Moutusi Dewan,21,Female,98.3,0,0,1.7,Normal\\r\\n232,Zarin Tasnim,21,Female,97,0,0,3,Normal\\r\\n233,Md.Kamal Parvej,21,Male,97.4,0,0,2.6,Normal\\r\\n234,Md.Solyman Hossain,22,Male,96.9,0,0,3.1,Normal\\r\\n235,Helal Uddin,21,Male,94,0,0,6,Beta trait\\r\\nM26,Jakiya,17,Female,68.2,0,27.9,3.9,E trait\\r\\nM26,Jakiya,17,Female,68.2,0,27.9,3.9,E trait\\r\\nM22,Meherun Nesa,40,Female,97.3,0,0,2.7,Normal\\r\\nM23,Selim Uddin,37,Male,77,0,19.7,3.3,E trait\\r\\nM24,Forhad,62,Male,96.7,0,0,3.3,Normal\\r\\nM25,Alamgir Hossen Bhuiyan,29,Male,97.3,0,0,2.7,Normal\\r\\n146,jebon Nahar Sathi,24,Female,97.2,0,0,2.8,Normal\\r\\n147,Rokeya Rahman,24,Female,96.8,0,0,3.2,Normal\\r\\n148,Mohammad Mahmodur Rahman,25,Male,96.6,0,0,3.4,Normal\\r\\n149,Shila,22,Female,97.9,0,0,2.1,Normal\\r\\n150,Afsana Yasmin,23,Female,97.1,0,0,2.9,Normal\\r\\n151,Richita Khandakar,21,Female,96.6,0,0,3.4,Normal\\r\\n152,Tozammal,25,Male,96.6,0,0,3.4,Normal\\r\\n153,Farjana Faisal,24,Female,96.8,0,0,3.2,Normal\\r\\n154,Farhana,23,Female,97.1,0,0,2.9,Normal\\r\\n155,Md.Istiaq Hasan,24,Male,97.4,0,0,2.6,Normal\\r\\n156,Mahfuza Akter Shathi,25,Female,97.3,0,0,2.7,Normal\\r\\n157,Sara Islam,23,Female,96.9,0,0,3.1,Normal\\r\\n158,Al-Amin,19,Male,96.7,0,0,3.3,Normal\\r\\n159,Nadima,22,Female,96.7,0,0,3.3,Normal\\r\\n160,Edris Ali,27,Male,96.6,0,0,3.4,Normal\\r\\n161,Aysha Siddyka,20,Female,96.6,0,0,3.4,Normal\\r\\n162,Shahnaj Parveen,22,Female,99.2,0,0,0.8,Normal\\r\\n163,Israt Jahan Eate,21,Female,100,0,0,0,Normal\\r\\n164,Shithi Shaha,23,Female,71.2,24.8,0,4,E trait\\r\\n165,Kaniz Fatema Kona,22,Female,97.9,0,0,2.1,Normal\\r\\n166,Mahamuda Mim,22,Female,64.8,0,31.1,4.1,E trait\\r\\n167,Fatima Tuz- Zannat,22,Female,96.7,0,0,3.3,Normal\\r\\n168,Selim Uddin Paran,37,Male,73.6,0,22.2,4.2,E trait\\r\\n169,Shahnaz Parveen,22,Female,96.5,0,0,3.5,Normal\\r\\n168,Arifa Akter,22,Female,68,0,28,4,E trait\\r\\n169,Monisha Mahmud,22,Female,97,0,0,3,Normal\\r\\n170,Abdur Rakib,29,Male,96.8,0,0,3.2,Normal\\r\\n171,Amena Khatun,23,Female,96.8,0,0,3.2,Normal\\r\\n172,Md. Yasir Arafat,23,Male,97.4,0,0,2.6,Normal\\r\\n173,Md. Abdul Ahad,25,Male,97.1,0,0,2.9,Normal\\r\\n174,Rasel Ahmed,24,Male,97.4,0,0,2.6,Normal\\r\\n175,Shauli Reza,23,Female,96.7,0,0,3.3,Normal\\r\\n176,Sharaban Tahura,23,Female,97.8,0,0,2.2,Normal\\r\\n177,Seiam Rahman,19,Male,96.7,0,0,3.3,Normal\\r\\n178,Metul Rani Ghosh Reye,23,Female,96.9,0,0,3.1,Normal\\r\\n179,Nisat Taslum,23,Female,96.9,0,0,3.1,Normal\\r\\n180,Monika AKter Shompa,21,Female,67.7,0,28.3,4,E trait\\r\\n181,Md. Arifur Rahman,25,Male,97,0,0,3,Normal\\r\\n182,Md. Tahmid Mojumder,21,Male,97.1,0,0,2.9,Normal\\r\\n183,Alamgir Hossain,21,Male,96.6,0,0,3.4,Normal\\r\\n184,Md. Rowshan Zaman,22,Male,69.1,0,27.3,3.6,E trait\\r\\n185,S.M. Tanzil Alam,24,Male,97,0,0,3,Normal\\r\\n186,Himu,22,Male,67.6,0,28,3.3,E trait\\r\\n187,Afrina Akter,22,Female,96.6,0,0,3.4,Normal\\r\\n188,Kamran Ahmed,22,Male,69.2,0,26.9,3.9,E trait\\r\\n189,S.M Mehadi Hossain,25,Male,96.8,0,0,3.2,Normal\\r\\n190,Nahida Siddika Nila,24,Female,96.7,0,0,3.3,Normal\\r\\n77,Md. Monir Khan,25,Male,91.4,0,0,8.6,E trait\\r\\n96,Suchona Akter,24,Female,97.1,0,0,2.9,Normal\\r\\nM20,Roxana Islam,31,Female,92,0,0,8,E trait\\r\\nM21,Nazrul Islam,42,Male,61.1,0,35,3.9,E trait\\r\\n100,Dola Saha,24,Female,96.5,0,0,3.5,Normal\\r\\n101,Sushmita Saha,23,Female,96.6,0,0,3.4,Normal\\r\\n102,Yousuf Alam,24,Male,59.8,0,35.7,4.5,E trait\\r\\n103,Shamima Zaman,24,Female,96.7,0,0,3.3,Normal\\r\\n104,Nafiza Nawar,23,Female,56.7,0,38.3,5,E trait\\r\\n105,Khadiza Tasmin,23,Female,96.4,0,0,3.6,Normal\\r\\n106,Md. Thaufikur Ahoshan Chowdhury,24,Male,96.7,0,0,3.3,Normal\\r\\n107,Arifa Aziz Mitu,23,Female,96.6,0,0,3.4,Normal\\r\\n108,Md. Shakil Anam,23,Male,57.6,0,37.5,4.9,E trait\\r\\n109,Ikramul Anwar Roxy,26,Male,96.7,0,0,3.3,Normal\\r\\n110,Sukanta Mondol,25,Male,96.7,0,0,3.3,Normal\\r\\n111,Anup Dosgupto,25,Male,96.6,0,0,3.4,Normal\\r\\n112,Oahida Akter,25,Female,96.5,0,0,3.5,Normal\\r\\n113,Mohammad Sale Bin Saad Topu,21,Male,96.6,0,0,3.4,Normal\\r\\n114,Shakil Ahmed,24,Male,96.8,0,0,3.2,Normal\\r\\n115,Rubaiya Sultana,24,Female,96.6,0,0,3.4,Normal\\r\\n116,Tanzimul Islam,23,Male,96.7,0,0,3.3,Normal\\r\\n117,Md.Aktaruzzaman,24,Male,96.6,0,0,3.4,Normal\\r\\n118,Abdullah - Al- Numan,21,Male,96.7,0,0,3.3,Normal\\r\\n119,Md.Al-Tareq Mia,23,Male,96.8,0,0,3.2,Normal\\r\\n120,Maruf Hossain Mina,23,Male,96.8,0,0,3.2,Normal\\r\\n121,Md.Ramzan Akhando,22,Male,96.6,0,0,3.4,Normal\\r\\n122,Shifa Akter Bristy,21,Female,96.7,0,0,3.3,Normal\\r\\n123,Marjia Sultana,26,Female,55.8,0,38.9,5.3,E trait\\r\\n124,Shyma Akter Tithi,24,Female,61.1,0,33.5,5.4,E trait\\r\\n125,Tania Siddique Mim,23,Female,96.5,0,0,3.5,Normal\\r\\n126,Arpon Krishan Bala,25,Male,96.9,0,0,3.1,Normal\\r\\n127,Md.Kamran Hossain Shujon,20,Male,97.2,0,0,2.8,Normal\\r\\n128,M.Imran Farhad,23,Male,97.3,0,0,2.7,Normal\\r\\n129,Tohura,22,Female,97.3,0,0,2.7,Normal\\r\\n130,A.K.H.Safayet Ullah Prodhan,22,Male,97.1,0,0,2.9,Normal\\r\\n131,Takdeer Ahmed,22,Male,97.7,0,0,2.3,Normal\\r\\n132,Sanjida Jerin,21,Female,97.4,0,0,2.6,Normal\\r\\n133,Ayesha Ahmed,22,Female,97.4,0,0,2.6,Normal\\r\\n134,Md. Torikul Islam,23,Male,97.3,0,0,2.7,Normal\\r\\n135,Mahjabin Mustari Teerana,25,Female,71.5,0,25.1,3.4,E trait\\r\\n145,Md. Ashikur Rahman,25,Male,97,0,0,3,Normal\\r\\n144,Maimuna,10,Female,95.9,1.6,0,2.5,Normal\\r\\n143,Momotaj rahman,22,Female,98.4,0,0,1.6,Normal\\r\\n142,Md.Fazlul Haque,26,Male,97.1,0,0,2.9,Normal\\r\\n141,Safa Akter Ruma,20,Female,97.7,0,0,2.3,Normal\\r\\n140,Israt Jahan,22,Female,96.8,0,0,3.2,Normal\\r\\n139,Israt Jahan,23,Female,97.2,0,0,2.8,Normal\\r\\n138,Farhin Tasnova Mumu,24,Female,97.6,0,0,2.4,Normal\\r\\n137,Jannatul Ferdous,21,Female,97.7,0,0,2.3,Normal\\r\\n136,Md. Shohanur Rahman,23,Female,97.7,0,0,2.3,Normal\\r\\n74,Md. Sojib Hossain,25,Male,96.8,0,0,3.2,Normal\\r\\n75,Md.Saiful Islam,24,Male,96.8,0,0,3.2,Normal\\r\\n76,Fhmida Islam,25,Female,96.5,0,0,3.5,Normal\\r\\n77,Md.Monir Khan,25,Male,93.3,0,0,6.7,E trait\\r\\n78,Shamsunnahar Sumi,21,Female,65.3,0,30,4.7,E trait\\r\\n79,Sabiha Zaman,21,Female,96.8,0,0,3.2,Normal\\r\\n80,Rowshoon Ara Toma,23,Female,97.1,0,0,2.9,Normal\\r\\n81,Rabeya Sultana Rafi,23,Female,96.7,0,0,3.3,Normal\\r\\n82,Zannatul Ferdous,24,Female,96.6,0,0,3.4,Normal\\r\\n83,Aklima AKter Akhi,25,Female,97,0,0,3,Normal\\r\\n84,Sadika-Tul-Jannat(Tonu),25,Female,96.7,0,0,3.3,Normal\\r\\n85,Tangina Akter,25,Female,97,0,0,3,Normal\\r\\n86,Zannatul Ferdaus Juthi,25,Female,97.1,0,0,2.9,Normal\\r\\n87,Saima,20,Female,97.2,0,0,2.8,Normal\\r\\n88,Md. Jasim Uddin,26,Male,96.7,0,0,3.3,Normal\\r\\n89,Shankari Mondol Dipti,24,Female,96.5,0,0,3.5,Normal\\r\\n90,Rayhan Murad,26,Male,96.7,0,0,3.3,Normal\\r\\n91,Anik,25,Male,96.5,0,0,3.5,Normal\\r\\n92,Sharif Aldin,24,Male,96.6,0,0,3.4,Normal\\r\\n93,Trishna Rani Roy,25,Female,96.7,0,0,3.3,Normal\\r\\n94,Most.Hasina Akter,24,Female,96.5,0,0,3.5,Normal\\r\\n95,Omar Faruque,25,Male,96.7,0,0,3.3,Normal\\r\\n97,Mrinmoy Mazumder,23,Male,96.6,0,0,3.4,Normal\\r\\n98,Mirza Arif,23,Male,96.6,0,0,3.4,Normal\\r\\n99,Ananya Das,23,Female,96.7,0,0,3.3,Normal\\r\\nG1,Md.Bulbul Ahmed,23,Male,96.5,0,0,3.5,Normal\\r\\nG2,Amena Begum,30,Female,96.7,0,0,3.3,Normal\\r\\nG3,Md.Razib Ahmed,21,Male,65,0,30.6,4.4,E trait\\r\\nG4,Md.Tarek ossain,21,Male,97,0,0,3,Normal\\r\\nG5,Md.David,26,Male,96,0,0,4,Normal\\r\\nG6,Nur-Nahar,22,Female,97.1,0,0,2.9,Normal\\r\\nG7,Most.Fatema Begum,23,Female,96.7,0,0,3.3,Normal\\r\\nG8,Masuma,26,Female,96.6,0,0,3.4,Normal\\r\\nG9,Shima,20,Female,97.1,0,0,2.9,Normal\\r\\nG10,Most.Jonaki,23,Female,51.2,0,44.6,4.2,D trait\\r\\n60,Md.Rasel Ahmed,25,Male,96.7,0,0,3.3,Normal\\r\\n61,Md.Zakir Mondol,22,Male,96.8,0,0,3.2,Normal\\r\\n62,Sanjida Ahmed,24,Female,96.7,0,0,3.3,Normal\\r\\n63,Md.Junaed Anjum,23,Male,97.1,0,0,2.9,Normal\\r\\n64,Sanjida Akhter,24,Female,96.7,0,0,3.3,Normal\\r\\n65,A.K.M.Sadakur Rahman,24,Male,96.6,0,0,3.4,Normal\\r\\n66,Naima Nusrat Jahan,23,Female,96.9,0,0,3.1,Normal\\r\\n67,Md.Abdul Latif,24,Male,97.1,0,0,2.9,Normal\\r\\n68,Naznin AKhter,23,Female,96.6,0,0,3.4,Normal\\r\\n69,Mohammad Abbas Gani,24,Male,94,0,0,6,Normal\\r\\n70,Mehjabeen Haque,19,Female,97,0,0,3,Normal\\r\\n71,Sumaia Sadia Rabna,21,Female,96.5,0,0,3.5,Normal\\r\\n72,Marzia,22,Female,96.9,0,0,3.1,Normal\\r\\n73,Saikat fakir,25,Male,96.6,0,0,3.4,Normal\\r\\n1,Md.Daloare Hossian,22,Male,97.3,0,0,2.7,Normal\\r\\n2,Sushanto Roy,21,Male,0,2.8,92.6,4.6,Hb E disease\\r\\n3,Sadia Sajjad Bonny,25,Female,97,0,0,3,Normal\\r\\n4,Md.Bashirul Islam,24,Male,96.8,0,0,3.2,Normal\\r\\n5,Salman Kabir,22,Male,93.3,0,0,6.7,E trait\\r\\n6,Harunur Rashid,22,Male,97.5,0,0,2.5,Normal\\r\\n7,Mashruf Ahmed,22,Male,96.5,0,0,3.5,Normal\\r\\n8,Zahirul Islam,26,Male,96.8,0,0,3.2,Normal\\r\\n9,Mahmudul Hasan Pavel,23,Male,98.4,0,0,1.6,Normal\\r\\n10,Dipta Saha,23,Male,97.1,0,0,2.9,Normal\\r\\n11,Ishtiak Morshed,23,Male,70,0,26.6,3.4,E trait\\r\\n12,Tawshif Rahman,24,Male,97.3,0,0,2.7,Normal\\r\\n13,Raisul Islam,23,Male,97.3,0,0,2.7,Normal\\r\\n14,Sayema Mubash Shira,24,Female,97.1,0,0,2.9,Normal\\r\\n15,Md.Al-Imran,23,Male,96.4,0,0,3.4,Normal\\r\\n16,Shuvijit Kundu Antu,23,Male,96.8,0,0,3.2,Normal\\r\\n17,Md.Ashiqul Islam,24,Male,96.2,0,0,3.8,Normal\\r\\n18,Md.Motiur Rahman,22,Male,96.6,0,0,3.4,Normal\\r\\n19,Md.Nur-e Alom Siddiik,23,Male,96.8,0,0,3.2,Normal\\r\\n20,Kazi Emon,24,Male,96.9,0,0,3.1,Normal\\r\\n21,Md.Salauddin Ahmed,22,Male,67.1,0,28.5,4.4,E trait\\r\\n22,Md.Rayan-ul-Islam,21,Male,96.7,0,0,3.3,Normal\\r\\n23,Sharif Hossain,23,Male,97.2,0,0,2.8,Normal\\r\\n24,Md.Shamim Ali,23,Male,66.4,0,29.3,4.3,E trait\\r\\n25,Ismail Hossain,24,Male,96.8,0,0,3.2,Normal\\r\\n26,Mohammad Ali,25,Male,97.6,0,0,2.4,Normal\\r\\n27,Aditi Pal,21,Female,97.4,0,0,2.6,Normal\\r\\n28,Obydul Islam,24,Male,93.4,0,0,6.6,E trait\\r\\n29,Monzurul Islam,26,Male,93.7,0,0,6.3,E trait\\r\\n30,Maimuna Islam,21,Female,97,0,0,3,Normal\\r\\n31,Zulekha Akter,16,Female,96.9,0,0,3.1,Normal\\r\\n32,Md.Abdullah-Al-Sadi Khan,23,Male,96.1,0,0,3.9,Beta trait\\r\\n33,Mahmudul Hasan,26,Male,93.5,0,0,6.5,Beta trait\\r\\n34,Tonmoy Debnath,23,Male,96.6,0,0,3.4,Normal\\r\\n35,Anindya Barua,24,Male,96.7,0,0,3.3,Normal\\r\\n36,Makama Mahmuda,23,Female,65.5,0,30.9,3.6,E trait\\r\\n37,Md.Norul Amin,26,Male,96.7,0,0,3.3,Normal\\r\\n38,S.M.Hasibul Haque,24,Male,96.7,0,0,3.3,Normal\\r\\n39,Jakaria Ferdous,27,Male,93.3,0,0,6.7,Beta trait\\r\\n40,Meyel Chakma,23,Male,97.2,0,0,2.8,Normal\\r\\n41,Md.Hasibur Rahman,23,Male,96.7,0,0,3.3,Normal\\r\\n42,Jannatul Mawarimi,22,Female,96.7,0,0,3.3,Normal\\r\\n43,Fatiha Elma,23,Female,97,0,0,3,Normal\\r\\n44,Mir.Shaon Reza,21,Male,96.8,0,0,3.2,Normal\\r\\n45,Shah Alam,22,Male,96.7,0,0,3.3,Normal\\r\\n46,Nazmus Sakib Shuvo,21,Male,67,0,29,4,E trait\\r\\n47,Afsana Urmey,20,Female,96.9,0,0,3.1,Normal\\r\\n48,Md.Anisur Rahman,24,Male,67.1,0,28.6,4.3,E trait\\r\\n49,Minkiss Nahar Tamanna,20,Female,66.2,0,29.9,3.9,E trait\\r\\n50,Kazi Tania Akhter Bristy,20,Female,66,0,29.9,4.1,E trait\\r\\n51,Nazmul Hasan,22,Male,95.8,0,0.4,3.8,Beta trait\\r\\n52,Sabbir Hossain,25,Male,96.6,0,0,3.4,Normal\\r\\n53,Md.Shahed Alam,21,Male,97,0,0,3,Normal\\r\\n54,Md.Monowar Hossain,54,Male,96.9,0,0,3.1,Normal\\r\\n55,Md.Murad Hossain,23,Male,96.5,0,0,3.5,Normal\\r\\n56,Tahera Akhter Shuchi,24,Female,96.4,0.6,0,3,Normal\\r\\n57,Hasan Mahmud,25,Male,65.7,0,30.6,3.7,E trait\\r\\n58,Saima Akter,25,Female,97.1,0,0,2.9,Normal\\r\\n59,Kamrul Hasan,22,Male,97.4,0,0,2.6,Normal\\r\\n60,Dr.Ferdoushi Akter,38,Female,97.6,0,0,2.4,Normal\\r\\n3948,Rony Akter,33,Female,97.9,0,0,2.1,Normal\\r\\n79,Tanha,6,Female,97.7,0,0,2.3,Normal\\r\\n20,Sourob Kapali,22,Male,97.5,0,0,2.5,Normal\\r\\n21,Toukir Ahmed,21,Male,97.5,0,0,2.5,Normal\\r\\n20,Sourob Kapali,22,Male,97.3,0,0,2.7,Normal\\r\\n41,Munni Akter,18,Female,96.9,0,0,3.1,Normal\\r\\n49,Sheuli Akter,20,Female,98,0,0,2,Normal\\r\\n50,Nazmul Haque,22,Male,97.7,0,0,2.3,Normal\\r\\n3793,Mrs. Shanta,18,Female,97.4,0,0,2.6,Normal\\r\\n3795,Hira Akter,22,Female,97.8,0,0,2.2,Normal\\r\\n37,Sundorson Chondraw Roy,35,Male,73.9,0,22.8,3.3,E trait\\r\\n43,Robi,26,Male,98.1,0,0,1.9,Normal\\r\\n6,Rumana,22,Female,97.7,0,0,2.3,Normal\\r\\n7,Omitun Nahar Champa,19,Female,98.3,0,0,1.7,Normal\\r\\n5,Akhi,18,Female,24.2,31.4,40.1,4.3,Beta Thalassemia\\r\\n8,Tuhin Parvez,22,Male,97.3,0,0,2.7,Normal\\r\\n30,Abdul Basar,45,Male,91.2,3.2,0,5.6,Beta trait\\r\\n14,Mohona,5,Female,96.7,1,0,2.3,Normal\\r\\n14,Mohona,5,Female,96.8,0.8,0,2.4,Normal\\r\\n1,Mahmud,27,Male,97.8,0,0,2.2,Normal\\r\\n1,Trisha,23,Female,97.1,0.5,0,2.4,Normal\\r\\n2,Sharmin,22,Female,97.4,0,0,2.6,Normal\\r\\n1,Ruman,32,Male,97.3,0,0,2.7,Normal\\r\\n2,Monjur,47,Male,97.5,0,0,2.5,Normal\\r\\nM234,Dolna,25,Female,97.1,0,0,2.9,Normal\\r\\nM235,Jahidul,30,Male,71.2,0,25.4,3.4,E trait\\r\\n'}"
            ]
          },
          "metadata": {},
          "execution_count": 165
        }
      ]
    },
    {
      "cell_type": "code",
      "source": [
        "df = pd.read_csv('thalassemia_dataset.csv')\n",
        "df.head()"
      ],
      "metadata": {
        "colab": {
          "base_uri": "https://localhost:8080/",
          "height": 206
        },
        "id": "M5uVUrGizMHt",
        "outputId": "551e094b-b384-4954-f921-5b7a40acd2c2"
      },
      "execution_count": null,
      "outputs": [
        {
          "output_type": "execute_result",
          "data": {
            "text/plain": [
              "  Patient ID       Name  Age     Sex  Hb A  Hb F  Hb E  Hb A2 Target_Class\n",
              "0         69       Gani   24    Male  94.0   0.0   0.0    6.0       Normal\n",
              "1         70  Mehjabeen   19  Female  97.0   0.0   0.0    3.0       Normal\n",
              "2         71      Sadia   21  Female  96.5   0.0   0.0    3.5       Normal\n",
              "3         72     Marzia   22  Female  96.9   0.0   0.0    3.1       Normal\n",
              "4         73     Saikat   25    Male  96.6   0.0   0.0    3.4       Normal"
            ],
            "text/html": [
              "\n",
              "  <div id=\"df-0f7c7477-6e34-41f2-a71c-1e5684495bf5\" class=\"colab-df-container\">\n",
              "    <div>\n",
              "<style scoped>\n",
              "    .dataframe tbody tr th:only-of-type {\n",
              "        vertical-align: middle;\n",
              "    }\n",
              "\n",
              "    .dataframe tbody tr th {\n",
              "        vertical-align: top;\n",
              "    }\n",
              "\n",
              "    .dataframe thead th {\n",
              "        text-align: right;\n",
              "    }\n",
              "</style>\n",
              "<table border=\"1\" class=\"dataframe\">\n",
              "  <thead>\n",
              "    <tr style=\"text-align: right;\">\n",
              "      <th></th>\n",
              "      <th>Patient ID</th>\n",
              "      <th>Name</th>\n",
              "      <th>Age</th>\n",
              "      <th>Sex</th>\n",
              "      <th>Hb A</th>\n",
              "      <th>Hb F</th>\n",
              "      <th>Hb E</th>\n",
              "      <th>Hb A2</th>\n",
              "      <th>Target_Class</th>\n",
              "    </tr>\n",
              "  </thead>\n",
              "  <tbody>\n",
              "    <tr>\n",
              "      <th>0</th>\n",
              "      <td>69</td>\n",
              "      <td>Gani</td>\n",
              "      <td>24</td>\n",
              "      <td>Male</td>\n",
              "      <td>94.0</td>\n",
              "      <td>0.0</td>\n",
              "      <td>0.0</td>\n",
              "      <td>6.0</td>\n",
              "      <td>Normal</td>\n",
              "    </tr>\n",
              "    <tr>\n",
              "      <th>1</th>\n",
              "      <td>70</td>\n",
              "      <td>Mehjabeen</td>\n",
              "      <td>19</td>\n",
              "      <td>Female</td>\n",
              "      <td>97.0</td>\n",
              "      <td>0.0</td>\n",
              "      <td>0.0</td>\n",
              "      <td>3.0</td>\n",
              "      <td>Normal</td>\n",
              "    </tr>\n",
              "    <tr>\n",
              "      <th>2</th>\n",
              "      <td>71</td>\n",
              "      <td>Sadia</td>\n",
              "      <td>21</td>\n",
              "      <td>Female</td>\n",
              "      <td>96.5</td>\n",
              "      <td>0.0</td>\n",
              "      <td>0.0</td>\n",
              "      <td>3.5</td>\n",
              "      <td>Normal</td>\n",
              "    </tr>\n",
              "    <tr>\n",
              "      <th>3</th>\n",
              "      <td>72</td>\n",
              "      <td>Marzia</td>\n",
              "      <td>22</td>\n",
              "      <td>Female</td>\n",
              "      <td>96.9</td>\n",
              "      <td>0.0</td>\n",
              "      <td>0.0</td>\n",
              "      <td>3.1</td>\n",
              "      <td>Normal</td>\n",
              "    </tr>\n",
              "    <tr>\n",
              "      <th>4</th>\n",
              "      <td>73</td>\n",
              "      <td>Saikat</td>\n",
              "      <td>25</td>\n",
              "      <td>Male</td>\n",
              "      <td>96.6</td>\n",
              "      <td>0.0</td>\n",
              "      <td>0.0</td>\n",
              "      <td>3.4</td>\n",
              "      <td>Normal</td>\n",
              "    </tr>\n",
              "  </tbody>\n",
              "</table>\n",
              "</div>\n",
              "    <div class=\"colab-df-buttons\">\n",
              "\n",
              "  <div class=\"colab-df-container\">\n",
              "    <button class=\"colab-df-convert\" onclick=\"convertToInteractive('df-0f7c7477-6e34-41f2-a71c-1e5684495bf5')\"\n",
              "            title=\"Convert this dataframe to an interactive table.\"\n",
              "            style=\"display:none;\">\n",
              "\n",
              "  <svg xmlns=\"http://www.w3.org/2000/svg\" height=\"24px\" viewBox=\"0 -960 960 960\">\n",
              "    <path d=\"M120-120v-720h720v720H120Zm60-500h600v-160H180v160Zm220 220h160v-160H400v160Zm0 220h160v-160H400v160ZM180-400h160v-160H180v160Zm440 0h160v-160H620v160ZM180-180h160v-160H180v160Zm440 0h160v-160H620v160Z\"/>\n",
              "  </svg>\n",
              "    </button>\n",
              "\n",
              "  <style>\n",
              "    .colab-df-container {\n",
              "      display:flex;\n",
              "      gap: 12px;\n",
              "    }\n",
              "\n",
              "    .colab-df-convert {\n",
              "      background-color: #E8F0FE;\n",
              "      border: none;\n",
              "      border-radius: 50%;\n",
              "      cursor: pointer;\n",
              "      display: none;\n",
              "      fill: #1967D2;\n",
              "      height: 32px;\n",
              "      padding: 0 0 0 0;\n",
              "      width: 32px;\n",
              "    }\n",
              "\n",
              "    .colab-df-convert:hover {\n",
              "      background-color: #E2EBFA;\n",
              "      box-shadow: 0px 1px 2px rgba(60, 64, 67, 0.3), 0px 1px 3px 1px rgba(60, 64, 67, 0.15);\n",
              "      fill: #174EA6;\n",
              "    }\n",
              "\n",
              "    .colab-df-buttons div {\n",
              "      margin-bottom: 4px;\n",
              "    }\n",
              "\n",
              "    [theme=dark] .colab-df-convert {\n",
              "      background-color: #3B4455;\n",
              "      fill: #D2E3FC;\n",
              "    }\n",
              "\n",
              "    [theme=dark] .colab-df-convert:hover {\n",
              "      background-color: #434B5C;\n",
              "      box-shadow: 0px 1px 3px 1px rgba(0, 0, 0, 0.15);\n",
              "      filter: drop-shadow(0px 1px 2px rgba(0, 0, 0, 0.3));\n",
              "      fill: #FFFFFF;\n",
              "    }\n",
              "  </style>\n",
              "\n",
              "    <script>\n",
              "      const buttonEl =\n",
              "        document.querySelector('#df-0f7c7477-6e34-41f2-a71c-1e5684495bf5 button.colab-df-convert');\n",
              "      buttonEl.style.display =\n",
              "        google.colab.kernel.accessAllowed ? 'block' : 'none';\n",
              "\n",
              "      async function convertToInteractive(key) {\n",
              "        const element = document.querySelector('#df-0f7c7477-6e34-41f2-a71c-1e5684495bf5');\n",
              "        const dataTable =\n",
              "          await google.colab.kernel.invokeFunction('convertToInteractive',\n",
              "                                                    [key], {});\n",
              "        if (!dataTable) return;\n",
              "\n",
              "        const docLinkHtml = 'Like what you see? Visit the ' +\n",
              "          '<a target=\"_blank\" href=https://colab.research.google.com/notebooks/data_table.ipynb>data table notebook</a>'\n",
              "          + ' to learn more about interactive tables.';\n",
              "        element.innerHTML = '';\n",
              "        dataTable['output_type'] = 'display_data';\n",
              "        await google.colab.output.renderOutput(dataTable, element);\n",
              "        const docLink = document.createElement('div');\n",
              "        docLink.innerHTML = docLinkHtml;\n",
              "        element.appendChild(docLink);\n",
              "      }\n",
              "    </script>\n",
              "  </div>\n",
              "\n",
              "\n",
              "<div id=\"df-cbd98b3b-84f0-4c97-b7ad-c7dc62010925\">\n",
              "  <button class=\"colab-df-quickchart\" onclick=\"quickchart('df-cbd98b3b-84f0-4c97-b7ad-c7dc62010925')\"\n",
              "            title=\"Suggest charts.\"\n",
              "            style=\"display:none;\">\n",
              "\n",
              "<svg xmlns=\"http://www.w3.org/2000/svg\" height=\"24px\"viewBox=\"0 0 24 24\"\n",
              "     width=\"24px\">\n",
              "    <g>\n",
              "        <path d=\"M19 3H5c-1.1 0-2 .9-2 2v14c0 1.1.9 2 2 2h14c1.1 0 2-.9 2-2V5c0-1.1-.9-2-2-2zM9 17H7v-7h2v7zm4 0h-2V7h2v10zm4 0h-2v-4h2v4z\"/>\n",
              "    </g>\n",
              "</svg>\n",
              "  </button>\n",
              "\n",
              "<style>\n",
              "  .colab-df-quickchart {\n",
              "      --bg-color: #E8F0FE;\n",
              "      --fill-color: #1967D2;\n",
              "      --hover-bg-color: #E2EBFA;\n",
              "      --hover-fill-color: #174EA6;\n",
              "      --disabled-fill-color: #AAA;\n",
              "      --disabled-bg-color: #DDD;\n",
              "  }\n",
              "\n",
              "  [theme=dark] .colab-df-quickchart {\n",
              "      --bg-color: #3B4455;\n",
              "      --fill-color: #D2E3FC;\n",
              "      --hover-bg-color: #434B5C;\n",
              "      --hover-fill-color: #FFFFFF;\n",
              "      --disabled-bg-color: #3B4455;\n",
              "      --disabled-fill-color: #666;\n",
              "  }\n",
              "\n",
              "  .colab-df-quickchart {\n",
              "    background-color: var(--bg-color);\n",
              "    border: none;\n",
              "    border-radius: 50%;\n",
              "    cursor: pointer;\n",
              "    display: none;\n",
              "    fill: var(--fill-color);\n",
              "    height: 32px;\n",
              "    padding: 0;\n",
              "    width: 32px;\n",
              "  }\n",
              "\n",
              "  .colab-df-quickchart:hover {\n",
              "    background-color: var(--hover-bg-color);\n",
              "    box-shadow: 0 1px 2px rgba(60, 64, 67, 0.3), 0 1px 3px 1px rgba(60, 64, 67, 0.15);\n",
              "    fill: var(--button-hover-fill-color);\n",
              "  }\n",
              "\n",
              "  .colab-df-quickchart-complete:disabled,\n",
              "  .colab-df-quickchart-complete:disabled:hover {\n",
              "    background-color: var(--disabled-bg-color);\n",
              "    fill: var(--disabled-fill-color);\n",
              "    box-shadow: none;\n",
              "  }\n",
              "\n",
              "  .colab-df-spinner {\n",
              "    border: 2px solid var(--fill-color);\n",
              "    border-color: transparent;\n",
              "    border-bottom-color: var(--fill-color);\n",
              "    animation:\n",
              "      spin 1s steps(1) infinite;\n",
              "  }\n",
              "\n",
              "  @keyframes spin {\n",
              "    0% {\n",
              "      border-color: transparent;\n",
              "      border-bottom-color: var(--fill-color);\n",
              "      border-left-color: var(--fill-color);\n",
              "    }\n",
              "    20% {\n",
              "      border-color: transparent;\n",
              "      border-left-color: var(--fill-color);\n",
              "      border-top-color: var(--fill-color);\n",
              "    }\n",
              "    30% {\n",
              "      border-color: transparent;\n",
              "      border-left-color: var(--fill-color);\n",
              "      border-top-color: var(--fill-color);\n",
              "      border-right-color: var(--fill-color);\n",
              "    }\n",
              "    40% {\n",
              "      border-color: transparent;\n",
              "      border-right-color: var(--fill-color);\n",
              "      border-top-color: var(--fill-color);\n",
              "    }\n",
              "    60% {\n",
              "      border-color: transparent;\n",
              "      border-right-color: var(--fill-color);\n",
              "    }\n",
              "    80% {\n",
              "      border-color: transparent;\n",
              "      border-right-color: var(--fill-color);\n",
              "      border-bottom-color: var(--fill-color);\n",
              "    }\n",
              "    90% {\n",
              "      border-color: transparent;\n",
              "      border-bottom-color: var(--fill-color);\n",
              "    }\n",
              "  }\n",
              "</style>\n",
              "\n",
              "  <script>\n",
              "    async function quickchart(key) {\n",
              "      const quickchartButtonEl =\n",
              "        document.querySelector('#' + key + ' button');\n",
              "      quickchartButtonEl.disabled = true;  // To prevent multiple clicks.\n",
              "      quickchartButtonEl.classList.add('colab-df-spinner');\n",
              "      try {\n",
              "        const charts = await google.colab.kernel.invokeFunction(\n",
              "            'suggestCharts', [key], {});\n",
              "      } catch (error) {\n",
              "        console.error('Error during call to suggestCharts:', error);\n",
              "      }\n",
              "      quickchartButtonEl.classList.remove('colab-df-spinner');\n",
              "      quickchartButtonEl.classList.add('colab-df-quickchart-complete');\n",
              "    }\n",
              "    (() => {\n",
              "      let quickchartButtonEl =\n",
              "        document.querySelector('#df-cbd98b3b-84f0-4c97-b7ad-c7dc62010925 button');\n",
              "      quickchartButtonEl.style.display =\n",
              "        google.colab.kernel.accessAllowed ? 'block' : 'none';\n",
              "    })();\n",
              "  </script>\n",
              "</div>\n",
              "    </div>\n",
              "  </div>\n"
            ]
          },
          "metadata": {},
          "execution_count": 166
        }
      ]
    },
    {
      "cell_type": "code",
      "source": [
        "df.columns"
      ],
      "metadata": {
        "colab": {
          "base_uri": "https://localhost:8080/"
        },
        "id": "6vZ_3q8FzPNe",
        "outputId": "0d9badbd-e80d-4fd0-be91-99fb4eb3be12"
      },
      "execution_count": null,
      "outputs": [
        {
          "output_type": "execute_result",
          "data": {
            "text/plain": [
              "Index(['Patient ID', 'Name', 'Age', 'Sex', 'Hb A', 'Hb F', 'Hb E', 'Hb A2',\n",
              "       'Target_Class'],\n",
              "      dtype='object')"
            ]
          },
          "metadata": {},
          "execution_count": 167
        }
      ]
    },
    {
      "cell_type": "code",
      "source": [
        "df.tail(10)"
      ],
      "metadata": {
        "colab": {
          "base_uri": "https://localhost:8080/",
          "height": 363
        },
        "id": "TVBnwcD1zR5_",
        "outputId": "593b94ef-3fad-4cd9-aad1-fd85431caf1c"
      },
      "execution_count": null,
      "outputs": [
        {
          "output_type": "execute_result",
          "data": {
            "text/plain": [
              "     Patient ID         Name  Age     Sex  Hb A  Hb F  Hb E  Hb A2  \\\n",
              "1723         30  Abdul Basar   45    Male  91.2   3.2   0.0    5.6   \n",
              "1724         14       Mohona    5  Female  96.7   1.0   0.0    2.3   \n",
              "1725         14       Mohona    5  Female  96.8   0.8   0.0    2.4   \n",
              "1726          1       Mahmud   27    Male  97.8   0.0   0.0    2.2   \n",
              "1727          1       Trisha   23  Female  97.1   0.5   0.0    2.4   \n",
              "1728          2      Sharmin   22  Female  97.4   0.0   0.0    2.6   \n",
              "1729          1        Ruman   32    Male  97.3   0.0   0.0    2.7   \n",
              "1730          2       Monjur   47    Male  97.5   0.0   0.0    2.5   \n",
              "1731       M234        Dolna   25  Female  97.1   0.0   0.0    2.9   \n",
              "1732       M235      Jahidul   30    Male  71.2   0.0  25.4    3.4   \n",
              "\n",
              "     Target_Class  \n",
              "1723   Beta trait  \n",
              "1724       Normal  \n",
              "1725       Normal  \n",
              "1726       Normal  \n",
              "1727       Normal  \n",
              "1728       Normal  \n",
              "1729       Normal  \n",
              "1730       Normal  \n",
              "1731       Normal  \n",
              "1732      E trait  "
            ],
            "text/html": [
              "\n",
              "  <div id=\"df-42add393-5e2a-4915-b4a4-f45ae00e2325\" class=\"colab-df-container\">\n",
              "    <div>\n",
              "<style scoped>\n",
              "    .dataframe tbody tr th:only-of-type {\n",
              "        vertical-align: middle;\n",
              "    }\n",
              "\n",
              "    .dataframe tbody tr th {\n",
              "        vertical-align: top;\n",
              "    }\n",
              "\n",
              "    .dataframe thead th {\n",
              "        text-align: right;\n",
              "    }\n",
              "</style>\n",
              "<table border=\"1\" class=\"dataframe\">\n",
              "  <thead>\n",
              "    <tr style=\"text-align: right;\">\n",
              "      <th></th>\n",
              "      <th>Patient ID</th>\n",
              "      <th>Name</th>\n",
              "      <th>Age</th>\n",
              "      <th>Sex</th>\n",
              "      <th>Hb A</th>\n",
              "      <th>Hb F</th>\n",
              "      <th>Hb E</th>\n",
              "      <th>Hb A2</th>\n",
              "      <th>Target_Class</th>\n",
              "    </tr>\n",
              "  </thead>\n",
              "  <tbody>\n",
              "    <tr>\n",
              "      <th>1723</th>\n",
              "      <td>30</td>\n",
              "      <td>Abdul Basar</td>\n",
              "      <td>45</td>\n",
              "      <td>Male</td>\n",
              "      <td>91.2</td>\n",
              "      <td>3.2</td>\n",
              "      <td>0.0</td>\n",
              "      <td>5.6</td>\n",
              "      <td>Beta trait</td>\n",
              "    </tr>\n",
              "    <tr>\n",
              "      <th>1724</th>\n",
              "      <td>14</td>\n",
              "      <td>Mohona</td>\n",
              "      <td>5</td>\n",
              "      <td>Female</td>\n",
              "      <td>96.7</td>\n",
              "      <td>1.0</td>\n",
              "      <td>0.0</td>\n",
              "      <td>2.3</td>\n",
              "      <td>Normal</td>\n",
              "    </tr>\n",
              "    <tr>\n",
              "      <th>1725</th>\n",
              "      <td>14</td>\n",
              "      <td>Mohona</td>\n",
              "      <td>5</td>\n",
              "      <td>Female</td>\n",
              "      <td>96.8</td>\n",
              "      <td>0.8</td>\n",
              "      <td>0.0</td>\n",
              "      <td>2.4</td>\n",
              "      <td>Normal</td>\n",
              "    </tr>\n",
              "    <tr>\n",
              "      <th>1726</th>\n",
              "      <td>1</td>\n",
              "      <td>Mahmud</td>\n",
              "      <td>27</td>\n",
              "      <td>Male</td>\n",
              "      <td>97.8</td>\n",
              "      <td>0.0</td>\n",
              "      <td>0.0</td>\n",
              "      <td>2.2</td>\n",
              "      <td>Normal</td>\n",
              "    </tr>\n",
              "    <tr>\n",
              "      <th>1727</th>\n",
              "      <td>1</td>\n",
              "      <td>Trisha</td>\n",
              "      <td>23</td>\n",
              "      <td>Female</td>\n",
              "      <td>97.1</td>\n",
              "      <td>0.5</td>\n",
              "      <td>0.0</td>\n",
              "      <td>2.4</td>\n",
              "      <td>Normal</td>\n",
              "    </tr>\n",
              "    <tr>\n",
              "      <th>1728</th>\n",
              "      <td>2</td>\n",
              "      <td>Sharmin</td>\n",
              "      <td>22</td>\n",
              "      <td>Female</td>\n",
              "      <td>97.4</td>\n",
              "      <td>0.0</td>\n",
              "      <td>0.0</td>\n",
              "      <td>2.6</td>\n",
              "      <td>Normal</td>\n",
              "    </tr>\n",
              "    <tr>\n",
              "      <th>1729</th>\n",
              "      <td>1</td>\n",
              "      <td>Ruman</td>\n",
              "      <td>32</td>\n",
              "      <td>Male</td>\n",
              "      <td>97.3</td>\n",
              "      <td>0.0</td>\n",
              "      <td>0.0</td>\n",
              "      <td>2.7</td>\n",
              "      <td>Normal</td>\n",
              "    </tr>\n",
              "    <tr>\n",
              "      <th>1730</th>\n",
              "      <td>2</td>\n",
              "      <td>Monjur</td>\n",
              "      <td>47</td>\n",
              "      <td>Male</td>\n",
              "      <td>97.5</td>\n",
              "      <td>0.0</td>\n",
              "      <td>0.0</td>\n",
              "      <td>2.5</td>\n",
              "      <td>Normal</td>\n",
              "    </tr>\n",
              "    <tr>\n",
              "      <th>1731</th>\n",
              "      <td>M234</td>\n",
              "      <td>Dolna</td>\n",
              "      <td>25</td>\n",
              "      <td>Female</td>\n",
              "      <td>97.1</td>\n",
              "      <td>0.0</td>\n",
              "      <td>0.0</td>\n",
              "      <td>2.9</td>\n",
              "      <td>Normal</td>\n",
              "    </tr>\n",
              "    <tr>\n",
              "      <th>1732</th>\n",
              "      <td>M235</td>\n",
              "      <td>Jahidul</td>\n",
              "      <td>30</td>\n",
              "      <td>Male</td>\n",
              "      <td>71.2</td>\n",
              "      <td>0.0</td>\n",
              "      <td>25.4</td>\n",
              "      <td>3.4</td>\n",
              "      <td>E trait</td>\n",
              "    </tr>\n",
              "  </tbody>\n",
              "</table>\n",
              "</div>\n",
              "    <div class=\"colab-df-buttons\">\n",
              "\n",
              "  <div class=\"colab-df-container\">\n",
              "    <button class=\"colab-df-convert\" onclick=\"convertToInteractive('df-42add393-5e2a-4915-b4a4-f45ae00e2325')\"\n",
              "            title=\"Convert this dataframe to an interactive table.\"\n",
              "            style=\"display:none;\">\n",
              "\n",
              "  <svg xmlns=\"http://www.w3.org/2000/svg\" height=\"24px\" viewBox=\"0 -960 960 960\">\n",
              "    <path d=\"M120-120v-720h720v720H120Zm60-500h600v-160H180v160Zm220 220h160v-160H400v160Zm0 220h160v-160H400v160ZM180-400h160v-160H180v160Zm440 0h160v-160H620v160ZM180-180h160v-160H180v160Zm440 0h160v-160H620v160Z\"/>\n",
              "  </svg>\n",
              "    </button>\n",
              "\n",
              "  <style>\n",
              "    .colab-df-container {\n",
              "      display:flex;\n",
              "      gap: 12px;\n",
              "    }\n",
              "\n",
              "    .colab-df-convert {\n",
              "      background-color: #E8F0FE;\n",
              "      border: none;\n",
              "      border-radius: 50%;\n",
              "      cursor: pointer;\n",
              "      display: none;\n",
              "      fill: #1967D2;\n",
              "      height: 32px;\n",
              "      padding: 0 0 0 0;\n",
              "      width: 32px;\n",
              "    }\n",
              "\n",
              "    .colab-df-convert:hover {\n",
              "      background-color: #E2EBFA;\n",
              "      box-shadow: 0px 1px 2px rgba(60, 64, 67, 0.3), 0px 1px 3px 1px rgba(60, 64, 67, 0.15);\n",
              "      fill: #174EA6;\n",
              "    }\n",
              "\n",
              "    .colab-df-buttons div {\n",
              "      margin-bottom: 4px;\n",
              "    }\n",
              "\n",
              "    [theme=dark] .colab-df-convert {\n",
              "      background-color: #3B4455;\n",
              "      fill: #D2E3FC;\n",
              "    }\n",
              "\n",
              "    [theme=dark] .colab-df-convert:hover {\n",
              "      background-color: #434B5C;\n",
              "      box-shadow: 0px 1px 3px 1px rgba(0, 0, 0, 0.15);\n",
              "      filter: drop-shadow(0px 1px 2px rgba(0, 0, 0, 0.3));\n",
              "      fill: #FFFFFF;\n",
              "    }\n",
              "  </style>\n",
              "\n",
              "    <script>\n",
              "      const buttonEl =\n",
              "        document.querySelector('#df-42add393-5e2a-4915-b4a4-f45ae00e2325 button.colab-df-convert');\n",
              "      buttonEl.style.display =\n",
              "        google.colab.kernel.accessAllowed ? 'block' : 'none';\n",
              "\n",
              "      async function convertToInteractive(key) {\n",
              "        const element = document.querySelector('#df-42add393-5e2a-4915-b4a4-f45ae00e2325');\n",
              "        const dataTable =\n",
              "          await google.colab.kernel.invokeFunction('convertToInteractive',\n",
              "                                                    [key], {});\n",
              "        if (!dataTable) return;\n",
              "\n",
              "        const docLinkHtml = 'Like what you see? Visit the ' +\n",
              "          '<a target=\"_blank\" href=https://colab.research.google.com/notebooks/data_table.ipynb>data table notebook</a>'\n",
              "          + ' to learn more about interactive tables.';\n",
              "        element.innerHTML = '';\n",
              "        dataTable['output_type'] = 'display_data';\n",
              "        await google.colab.output.renderOutput(dataTable, element);\n",
              "        const docLink = document.createElement('div');\n",
              "        docLink.innerHTML = docLinkHtml;\n",
              "        element.appendChild(docLink);\n",
              "      }\n",
              "    </script>\n",
              "  </div>\n",
              "\n",
              "\n",
              "<div id=\"df-1bc26549-c3a6-4541-b675-ccd877eb5026\">\n",
              "  <button class=\"colab-df-quickchart\" onclick=\"quickchart('df-1bc26549-c3a6-4541-b675-ccd877eb5026')\"\n",
              "            title=\"Suggest charts.\"\n",
              "            style=\"display:none;\">\n",
              "\n",
              "<svg xmlns=\"http://www.w3.org/2000/svg\" height=\"24px\"viewBox=\"0 0 24 24\"\n",
              "     width=\"24px\">\n",
              "    <g>\n",
              "        <path d=\"M19 3H5c-1.1 0-2 .9-2 2v14c0 1.1.9 2 2 2h14c1.1 0 2-.9 2-2V5c0-1.1-.9-2-2-2zM9 17H7v-7h2v7zm4 0h-2V7h2v10zm4 0h-2v-4h2v4z\"/>\n",
              "    </g>\n",
              "</svg>\n",
              "  </button>\n",
              "\n",
              "<style>\n",
              "  .colab-df-quickchart {\n",
              "      --bg-color: #E8F0FE;\n",
              "      --fill-color: #1967D2;\n",
              "      --hover-bg-color: #E2EBFA;\n",
              "      --hover-fill-color: #174EA6;\n",
              "      --disabled-fill-color: #AAA;\n",
              "      --disabled-bg-color: #DDD;\n",
              "  }\n",
              "\n",
              "  [theme=dark] .colab-df-quickchart {\n",
              "      --bg-color: #3B4455;\n",
              "      --fill-color: #D2E3FC;\n",
              "      --hover-bg-color: #434B5C;\n",
              "      --hover-fill-color: #FFFFFF;\n",
              "      --disabled-bg-color: #3B4455;\n",
              "      --disabled-fill-color: #666;\n",
              "  }\n",
              "\n",
              "  .colab-df-quickchart {\n",
              "    background-color: var(--bg-color);\n",
              "    border: none;\n",
              "    border-radius: 50%;\n",
              "    cursor: pointer;\n",
              "    display: none;\n",
              "    fill: var(--fill-color);\n",
              "    height: 32px;\n",
              "    padding: 0;\n",
              "    width: 32px;\n",
              "  }\n",
              "\n",
              "  .colab-df-quickchart:hover {\n",
              "    background-color: var(--hover-bg-color);\n",
              "    box-shadow: 0 1px 2px rgba(60, 64, 67, 0.3), 0 1px 3px 1px rgba(60, 64, 67, 0.15);\n",
              "    fill: var(--button-hover-fill-color);\n",
              "  }\n",
              "\n",
              "  .colab-df-quickchart-complete:disabled,\n",
              "  .colab-df-quickchart-complete:disabled:hover {\n",
              "    background-color: var(--disabled-bg-color);\n",
              "    fill: var(--disabled-fill-color);\n",
              "    box-shadow: none;\n",
              "  }\n",
              "\n",
              "  .colab-df-spinner {\n",
              "    border: 2px solid var(--fill-color);\n",
              "    border-color: transparent;\n",
              "    border-bottom-color: var(--fill-color);\n",
              "    animation:\n",
              "      spin 1s steps(1) infinite;\n",
              "  }\n",
              "\n",
              "  @keyframes spin {\n",
              "    0% {\n",
              "      border-color: transparent;\n",
              "      border-bottom-color: var(--fill-color);\n",
              "      border-left-color: var(--fill-color);\n",
              "    }\n",
              "    20% {\n",
              "      border-color: transparent;\n",
              "      border-left-color: var(--fill-color);\n",
              "      border-top-color: var(--fill-color);\n",
              "    }\n",
              "    30% {\n",
              "      border-color: transparent;\n",
              "      border-left-color: var(--fill-color);\n",
              "      border-top-color: var(--fill-color);\n",
              "      border-right-color: var(--fill-color);\n",
              "    }\n",
              "    40% {\n",
              "      border-color: transparent;\n",
              "      border-right-color: var(--fill-color);\n",
              "      border-top-color: var(--fill-color);\n",
              "    }\n",
              "    60% {\n",
              "      border-color: transparent;\n",
              "      border-right-color: var(--fill-color);\n",
              "    }\n",
              "    80% {\n",
              "      border-color: transparent;\n",
              "      border-right-color: var(--fill-color);\n",
              "      border-bottom-color: var(--fill-color);\n",
              "    }\n",
              "    90% {\n",
              "      border-color: transparent;\n",
              "      border-bottom-color: var(--fill-color);\n",
              "    }\n",
              "  }\n",
              "</style>\n",
              "\n",
              "  <script>\n",
              "    async function quickchart(key) {\n",
              "      const quickchartButtonEl =\n",
              "        document.querySelector('#' + key + ' button');\n",
              "      quickchartButtonEl.disabled = true;  // To prevent multiple clicks.\n",
              "      quickchartButtonEl.classList.add('colab-df-spinner');\n",
              "      try {\n",
              "        const charts = await google.colab.kernel.invokeFunction(\n",
              "            'suggestCharts', [key], {});\n",
              "      } catch (error) {\n",
              "        console.error('Error during call to suggestCharts:', error);\n",
              "      }\n",
              "      quickchartButtonEl.classList.remove('colab-df-spinner');\n",
              "      quickchartButtonEl.classList.add('colab-df-quickchart-complete');\n",
              "    }\n",
              "    (() => {\n",
              "      let quickchartButtonEl =\n",
              "        document.querySelector('#df-1bc26549-c3a6-4541-b675-ccd877eb5026 button');\n",
              "      quickchartButtonEl.style.display =\n",
              "        google.colab.kernel.accessAllowed ? 'block' : 'none';\n",
              "    })();\n",
              "  </script>\n",
              "</div>\n",
              "    </div>\n",
              "  </div>\n"
            ]
          },
          "metadata": {},
          "execution_count": 168
        }
      ]
    },
    {
      "cell_type": "code",
      "source": [
        "df.info()"
      ],
      "metadata": {
        "colab": {
          "base_uri": "https://localhost:8080/"
        },
        "id": "PXYXPTyVzToI",
        "outputId": "e7e5ced3-6bd8-4768-dcd6-317f7dc5df16"
      },
      "execution_count": null,
      "outputs": [
        {
          "output_type": "stream",
          "name": "stdout",
          "text": [
            "<class 'pandas.core.frame.DataFrame'>\n",
            "RangeIndex: 1733 entries, 0 to 1732\n",
            "Data columns (total 9 columns):\n",
            " #   Column        Non-Null Count  Dtype  \n",
            "---  ------        --------------  -----  \n",
            " 0   Patient ID    1733 non-null   object \n",
            " 1   Name          1733 non-null   object \n",
            " 2   Age           1733 non-null   int64  \n",
            " 3   Sex           1733 non-null   object \n",
            " 4   Hb A          1733 non-null   float64\n",
            " 5   Hb F          1731 non-null   float64\n",
            " 6   Hb E          1732 non-null   float64\n",
            " 7   Hb A2         1733 non-null   float64\n",
            " 8   Target_Class  1733 non-null   object \n",
            "dtypes: float64(4), int64(1), object(4)\n",
            "memory usage: 122.0+ KB\n"
          ]
        }
      ]
    },
    {
      "cell_type": "code",
      "source": [
        "print(df.describe())\n",
        "print(\"............................................................................\")"
      ],
      "metadata": {
        "colab": {
          "base_uri": "https://localhost:8080/"
        },
        "id": "_SAYtatEzVkR",
        "outputId": "9164ea87-9bec-4c5f-9338-fefe8a75aee4"
      },
      "execution_count": null,
      "outputs": [
        {
          "output_type": "stream",
          "name": "stdout",
          "text": [
            "               Age         Hb A         Hb F         Hb E        Hb A2\n",
            "count  1733.000000  1733.000000  1731.000000  1732.000000  1733.000000\n",
            "mean     23.199077    92.702654     0.252686     3.881351     3.128909\n",
            "std       5.844715    11.988572     2.227959    10.444572     2.635530\n",
            "min       1.000000     0.000000     0.000000     0.000000     0.000000\n",
            "25%      21.000000    96.700000     0.000000     0.000000     2.600000\n",
            "50%      23.000000    97.100000     0.000000     0.000000     2.900000\n",
            "75%      25.000000    97.400000     0.000000     0.000000     3.300000\n",
            "max      65.000000   100.000000    43.100000    92.900000    99.200000\n",
            "............................................................................\n"
          ]
        }
      ]
    },
    {
      "cell_type": "markdown",
      "source": [
        "# **NULL VALUES IN DATASET**"
      ],
      "metadata": {
        "id": "lJ0pLVWhzYNK"
      }
    },
    {
      "cell_type": "code",
      "source": [
        "print(df.isna().sum())"
      ],
      "metadata": {
        "colab": {
          "base_uri": "https://localhost:8080/"
        },
        "id": "b1wKAR2pzZj7",
        "outputId": "e252e533-5e86-4da9-f7b1-05a5b04ec7b0"
      },
      "execution_count": null,
      "outputs": [
        {
          "output_type": "stream",
          "name": "stdout",
          "text": [
            "Patient ID      0\n",
            "Name            0\n",
            "Age             0\n",
            "Sex             0\n",
            "Hb A            0\n",
            "Hb F            2\n",
            "Hb E            1\n",
            "Hb A2           0\n",
            "Target_Class    0\n",
            "dtype: int64\n"
          ]
        }
      ]
    },
    {
      "cell_type": "markdown",
      "source": [],
      "metadata": {
        "id": "I-zHxX-rO9te"
      }
    },
    {
      "cell_type": "markdown",
      "source": [
        "# **REPLACING NULL VALUES BY '0'**"
      ],
      "metadata": {
        "id": "vT6dioeNzeX9"
      }
    },
    {
      "cell_type": "code",
      "source": [
        "df = df.fillna(0)"
      ],
      "metadata": {
        "id": "poVjPav6zfrW"
      },
      "execution_count": null,
      "outputs": []
    },
    {
      "cell_type": "code",
      "source": [
        "print(df.describe())\n",
        "print(\"............................................................................\")\n",
        "print(df.isna().sum())"
      ],
      "metadata": {
        "colab": {
          "base_uri": "https://localhost:8080/"
        },
        "id": "X1SMFHEHziqH",
        "outputId": "946f083f-0988-4903-c41d-a1c299f99db9"
      },
      "execution_count": null,
      "outputs": [
        {
          "output_type": "stream",
          "name": "stdout",
          "text": [
            "               Age         Hb A         Hb F         Hb E        Hb A2\n",
            "count  1733.000000  1733.000000  1733.000000  1733.000000  1733.000000\n",
            "mean     23.199077    92.702654     0.252395     3.879111     3.128909\n",
            "std       5.844715    11.988572     2.226689    10.441973     2.635530\n",
            "min       1.000000     0.000000     0.000000     0.000000     0.000000\n",
            "25%      21.000000    96.700000     0.000000     0.000000     2.600000\n",
            "50%      23.000000    97.100000     0.000000     0.000000     2.900000\n",
            "75%      25.000000    97.400000     0.000000     0.000000     3.300000\n",
            "max      65.000000   100.000000    43.100000    92.900000    99.200000\n",
            "............................................................................\n",
            "Patient ID      0\n",
            "Name            0\n",
            "Age             0\n",
            "Sex             0\n",
            "Hb A            0\n",
            "Hb F            0\n",
            "Hb E            0\n",
            "Hb A2           0\n",
            "Target_Class    0\n",
            "dtype: int64\n"
          ]
        }
      ]
    },
    {
      "cell_type": "markdown",
      "source": [
        "# **TARGET CLASS VALUES**"
      ],
      "metadata": {
        "id": "UVJ1-xIFzmFx"
      }
    },
    {
      "cell_type": "code",
      "source": [
        "df['Target_Class'].value_counts()"
      ],
      "metadata": {
        "colab": {
          "base_uri": "https://localhost:8080/"
        },
        "id": "zFpy4-3QznNC",
        "outputId": "5b34300d-9e17-4bc6-8a8d-358790ac1c90"
      },
      "execution_count": null,
      "outputs": [
        {
          "output_type": "execute_result",
          "data": {
            "text/plain": [
              "Normal              1448\n",
              "E trait              222\n",
              "Beta trait            39\n",
              "Beta Thalassemia       8\n",
              "D trait                6\n",
              "E beta                 5\n",
              "HPFH                   3\n",
              "Hb E disease           2\n",
              "Name: Target_Class, dtype: int64"
            ]
          },
          "metadata": {},
          "execution_count": 174
        }
      ]
    },
    {
      "cell_type": "markdown",
      "source": [
        "# **REPLACING THE TARGET CLASS WITH NUMERIC VALUES**"
      ],
      "metadata": {
        "id": "MqeqZwI9zp9T"
      }
    },
    {
      "cell_type": "code",
      "source": [
        "df.head()"
      ],
      "metadata": {
        "colab": {
          "base_uri": "https://localhost:8080/",
          "height": 206
        },
        "id": "WwLng9q1zty8",
        "outputId": "3f3a46e4-b17a-4839-9841-177d3f8ac59d"
      },
      "execution_count": null,
      "outputs": [
        {
          "output_type": "execute_result",
          "data": {
            "text/plain": [
              "  Patient ID       Name  Age     Sex  Hb A  Hb F  Hb E  Hb A2 Target_Class\n",
              "0         69       Gani   24    Male  94.0   0.0   0.0    6.0       Normal\n",
              "1         70  Mehjabeen   19  Female  97.0   0.0   0.0    3.0       Normal\n",
              "2         71      Sadia   21  Female  96.5   0.0   0.0    3.5       Normal\n",
              "3         72     Marzia   22  Female  96.9   0.0   0.0    3.1       Normal\n",
              "4         73     Saikat   25    Male  96.6   0.0   0.0    3.4       Normal"
            ],
            "text/html": [
              "\n",
              "  <div id=\"df-46b2deaa-c6a3-4844-9246-42c70fdade6f\" class=\"colab-df-container\">\n",
              "    <div>\n",
              "<style scoped>\n",
              "    .dataframe tbody tr th:only-of-type {\n",
              "        vertical-align: middle;\n",
              "    }\n",
              "\n",
              "    .dataframe tbody tr th {\n",
              "        vertical-align: top;\n",
              "    }\n",
              "\n",
              "    .dataframe thead th {\n",
              "        text-align: right;\n",
              "    }\n",
              "</style>\n",
              "<table border=\"1\" class=\"dataframe\">\n",
              "  <thead>\n",
              "    <tr style=\"text-align: right;\">\n",
              "      <th></th>\n",
              "      <th>Patient ID</th>\n",
              "      <th>Name</th>\n",
              "      <th>Age</th>\n",
              "      <th>Sex</th>\n",
              "      <th>Hb A</th>\n",
              "      <th>Hb F</th>\n",
              "      <th>Hb E</th>\n",
              "      <th>Hb A2</th>\n",
              "      <th>Target_Class</th>\n",
              "    </tr>\n",
              "  </thead>\n",
              "  <tbody>\n",
              "    <tr>\n",
              "      <th>0</th>\n",
              "      <td>69</td>\n",
              "      <td>Gani</td>\n",
              "      <td>24</td>\n",
              "      <td>Male</td>\n",
              "      <td>94.0</td>\n",
              "      <td>0.0</td>\n",
              "      <td>0.0</td>\n",
              "      <td>6.0</td>\n",
              "      <td>Normal</td>\n",
              "    </tr>\n",
              "    <tr>\n",
              "      <th>1</th>\n",
              "      <td>70</td>\n",
              "      <td>Mehjabeen</td>\n",
              "      <td>19</td>\n",
              "      <td>Female</td>\n",
              "      <td>97.0</td>\n",
              "      <td>0.0</td>\n",
              "      <td>0.0</td>\n",
              "      <td>3.0</td>\n",
              "      <td>Normal</td>\n",
              "    </tr>\n",
              "    <tr>\n",
              "      <th>2</th>\n",
              "      <td>71</td>\n",
              "      <td>Sadia</td>\n",
              "      <td>21</td>\n",
              "      <td>Female</td>\n",
              "      <td>96.5</td>\n",
              "      <td>0.0</td>\n",
              "      <td>0.0</td>\n",
              "      <td>3.5</td>\n",
              "      <td>Normal</td>\n",
              "    </tr>\n",
              "    <tr>\n",
              "      <th>3</th>\n",
              "      <td>72</td>\n",
              "      <td>Marzia</td>\n",
              "      <td>22</td>\n",
              "      <td>Female</td>\n",
              "      <td>96.9</td>\n",
              "      <td>0.0</td>\n",
              "      <td>0.0</td>\n",
              "      <td>3.1</td>\n",
              "      <td>Normal</td>\n",
              "    </tr>\n",
              "    <tr>\n",
              "      <th>4</th>\n",
              "      <td>73</td>\n",
              "      <td>Saikat</td>\n",
              "      <td>25</td>\n",
              "      <td>Male</td>\n",
              "      <td>96.6</td>\n",
              "      <td>0.0</td>\n",
              "      <td>0.0</td>\n",
              "      <td>3.4</td>\n",
              "      <td>Normal</td>\n",
              "    </tr>\n",
              "  </tbody>\n",
              "</table>\n",
              "</div>\n",
              "    <div class=\"colab-df-buttons\">\n",
              "\n",
              "  <div class=\"colab-df-container\">\n",
              "    <button class=\"colab-df-convert\" onclick=\"convertToInteractive('df-46b2deaa-c6a3-4844-9246-42c70fdade6f')\"\n",
              "            title=\"Convert this dataframe to an interactive table.\"\n",
              "            style=\"display:none;\">\n",
              "\n",
              "  <svg xmlns=\"http://www.w3.org/2000/svg\" height=\"24px\" viewBox=\"0 -960 960 960\">\n",
              "    <path d=\"M120-120v-720h720v720H120Zm60-500h600v-160H180v160Zm220 220h160v-160H400v160Zm0 220h160v-160H400v160ZM180-400h160v-160H180v160Zm440 0h160v-160H620v160ZM180-180h160v-160H180v160Zm440 0h160v-160H620v160Z\"/>\n",
              "  </svg>\n",
              "    </button>\n",
              "\n",
              "  <style>\n",
              "    .colab-df-container {\n",
              "      display:flex;\n",
              "      gap: 12px;\n",
              "    }\n",
              "\n",
              "    .colab-df-convert {\n",
              "      background-color: #E8F0FE;\n",
              "      border: none;\n",
              "      border-radius: 50%;\n",
              "      cursor: pointer;\n",
              "      display: none;\n",
              "      fill: #1967D2;\n",
              "      height: 32px;\n",
              "      padding: 0 0 0 0;\n",
              "      width: 32px;\n",
              "    }\n",
              "\n",
              "    .colab-df-convert:hover {\n",
              "      background-color: #E2EBFA;\n",
              "      box-shadow: 0px 1px 2px rgba(60, 64, 67, 0.3), 0px 1px 3px 1px rgba(60, 64, 67, 0.15);\n",
              "      fill: #174EA6;\n",
              "    }\n",
              "\n",
              "    .colab-df-buttons div {\n",
              "      margin-bottom: 4px;\n",
              "    }\n",
              "\n",
              "    [theme=dark] .colab-df-convert {\n",
              "      background-color: #3B4455;\n",
              "      fill: #D2E3FC;\n",
              "    }\n",
              "\n",
              "    [theme=dark] .colab-df-convert:hover {\n",
              "      background-color: #434B5C;\n",
              "      box-shadow: 0px 1px 3px 1px rgba(0, 0, 0, 0.15);\n",
              "      filter: drop-shadow(0px 1px 2px rgba(0, 0, 0, 0.3));\n",
              "      fill: #FFFFFF;\n",
              "    }\n",
              "  </style>\n",
              "\n",
              "    <script>\n",
              "      const buttonEl =\n",
              "        document.querySelector('#df-46b2deaa-c6a3-4844-9246-42c70fdade6f button.colab-df-convert');\n",
              "      buttonEl.style.display =\n",
              "        google.colab.kernel.accessAllowed ? 'block' : 'none';\n",
              "\n",
              "      async function convertToInteractive(key) {\n",
              "        const element = document.querySelector('#df-46b2deaa-c6a3-4844-9246-42c70fdade6f');\n",
              "        const dataTable =\n",
              "          await google.colab.kernel.invokeFunction('convertToInteractive',\n",
              "                                                    [key], {});\n",
              "        if (!dataTable) return;\n",
              "\n",
              "        const docLinkHtml = 'Like what you see? Visit the ' +\n",
              "          '<a target=\"_blank\" href=https://colab.research.google.com/notebooks/data_table.ipynb>data table notebook</a>'\n",
              "          + ' to learn more about interactive tables.';\n",
              "        element.innerHTML = '';\n",
              "        dataTable['output_type'] = 'display_data';\n",
              "        await google.colab.output.renderOutput(dataTable, element);\n",
              "        const docLink = document.createElement('div');\n",
              "        docLink.innerHTML = docLinkHtml;\n",
              "        element.appendChild(docLink);\n",
              "      }\n",
              "    </script>\n",
              "  </div>\n",
              "\n",
              "\n",
              "<div id=\"df-51b2af33-2ea5-48bf-971c-54ec5b4f7a1e\">\n",
              "  <button class=\"colab-df-quickchart\" onclick=\"quickchart('df-51b2af33-2ea5-48bf-971c-54ec5b4f7a1e')\"\n",
              "            title=\"Suggest charts.\"\n",
              "            style=\"display:none;\">\n",
              "\n",
              "<svg xmlns=\"http://www.w3.org/2000/svg\" height=\"24px\"viewBox=\"0 0 24 24\"\n",
              "     width=\"24px\">\n",
              "    <g>\n",
              "        <path d=\"M19 3H5c-1.1 0-2 .9-2 2v14c0 1.1.9 2 2 2h14c1.1 0 2-.9 2-2V5c0-1.1-.9-2-2-2zM9 17H7v-7h2v7zm4 0h-2V7h2v10zm4 0h-2v-4h2v4z\"/>\n",
              "    </g>\n",
              "</svg>\n",
              "  </button>\n",
              "\n",
              "<style>\n",
              "  .colab-df-quickchart {\n",
              "      --bg-color: #E8F0FE;\n",
              "      --fill-color: #1967D2;\n",
              "      --hover-bg-color: #E2EBFA;\n",
              "      --hover-fill-color: #174EA6;\n",
              "      --disabled-fill-color: #AAA;\n",
              "      --disabled-bg-color: #DDD;\n",
              "  }\n",
              "\n",
              "  [theme=dark] .colab-df-quickchart {\n",
              "      --bg-color: #3B4455;\n",
              "      --fill-color: #D2E3FC;\n",
              "      --hover-bg-color: #434B5C;\n",
              "      --hover-fill-color: #FFFFFF;\n",
              "      --disabled-bg-color: #3B4455;\n",
              "      --disabled-fill-color: #666;\n",
              "  }\n",
              "\n",
              "  .colab-df-quickchart {\n",
              "    background-color: var(--bg-color);\n",
              "    border: none;\n",
              "    border-radius: 50%;\n",
              "    cursor: pointer;\n",
              "    display: none;\n",
              "    fill: var(--fill-color);\n",
              "    height: 32px;\n",
              "    padding: 0;\n",
              "    width: 32px;\n",
              "  }\n",
              "\n",
              "  .colab-df-quickchart:hover {\n",
              "    background-color: var(--hover-bg-color);\n",
              "    box-shadow: 0 1px 2px rgba(60, 64, 67, 0.3), 0 1px 3px 1px rgba(60, 64, 67, 0.15);\n",
              "    fill: var(--button-hover-fill-color);\n",
              "  }\n",
              "\n",
              "  .colab-df-quickchart-complete:disabled,\n",
              "  .colab-df-quickchart-complete:disabled:hover {\n",
              "    background-color: var(--disabled-bg-color);\n",
              "    fill: var(--disabled-fill-color);\n",
              "    box-shadow: none;\n",
              "  }\n",
              "\n",
              "  .colab-df-spinner {\n",
              "    border: 2px solid var(--fill-color);\n",
              "    border-color: transparent;\n",
              "    border-bottom-color: var(--fill-color);\n",
              "    animation:\n",
              "      spin 1s steps(1) infinite;\n",
              "  }\n",
              "\n",
              "  @keyframes spin {\n",
              "    0% {\n",
              "      border-color: transparent;\n",
              "      border-bottom-color: var(--fill-color);\n",
              "      border-left-color: var(--fill-color);\n",
              "    }\n",
              "    20% {\n",
              "      border-color: transparent;\n",
              "      border-left-color: var(--fill-color);\n",
              "      border-top-color: var(--fill-color);\n",
              "    }\n",
              "    30% {\n",
              "      border-color: transparent;\n",
              "      border-left-color: var(--fill-color);\n",
              "      border-top-color: var(--fill-color);\n",
              "      border-right-color: var(--fill-color);\n",
              "    }\n",
              "    40% {\n",
              "      border-color: transparent;\n",
              "      border-right-color: var(--fill-color);\n",
              "      border-top-color: var(--fill-color);\n",
              "    }\n",
              "    60% {\n",
              "      border-color: transparent;\n",
              "      border-right-color: var(--fill-color);\n",
              "    }\n",
              "    80% {\n",
              "      border-color: transparent;\n",
              "      border-right-color: var(--fill-color);\n",
              "      border-bottom-color: var(--fill-color);\n",
              "    }\n",
              "    90% {\n",
              "      border-color: transparent;\n",
              "      border-bottom-color: var(--fill-color);\n",
              "    }\n",
              "  }\n",
              "</style>\n",
              "\n",
              "  <script>\n",
              "    async function quickchart(key) {\n",
              "      const quickchartButtonEl =\n",
              "        document.querySelector('#' + key + ' button');\n",
              "      quickchartButtonEl.disabled = true;  // To prevent multiple clicks.\n",
              "      quickchartButtonEl.classList.add('colab-df-spinner');\n",
              "      try {\n",
              "        const charts = await google.colab.kernel.invokeFunction(\n",
              "            'suggestCharts', [key], {});\n",
              "      } catch (error) {\n",
              "        console.error('Error during call to suggestCharts:', error);\n",
              "      }\n",
              "      quickchartButtonEl.classList.remove('colab-df-spinner');\n",
              "      quickchartButtonEl.classList.add('colab-df-quickchart-complete');\n",
              "    }\n",
              "    (() => {\n",
              "      let quickchartButtonEl =\n",
              "        document.querySelector('#df-51b2af33-2ea5-48bf-971c-54ec5b4f7a1e button');\n",
              "      quickchartButtonEl.style.display =\n",
              "        google.colab.kernel.accessAllowed ? 'block' : 'none';\n",
              "    })();\n",
              "  </script>\n",
              "</div>\n",
              "    </div>\n",
              "  </div>\n"
            ]
          },
          "metadata": {},
          "execution_count": 175
        }
      ]
    },
    {
      "cell_type": "markdown",
      "source": [
        "# **REPLACING THE TARGET CLASS WITH NUMERIC VALUES**"
      ],
      "metadata": {
        "id": "w_ugC9T_0FLo"
      }
    },
    {
      "cell_type": "code",
      "source": [
        "test_df = [df]\n",
        "thalassemiaClassification = {'Normal':0,'E trait':1, 'Beta trait':1, 'Beta Thalassemia':1, 'E beta':1, 'D trait':1 }\n",
        "\n",
        "for dataset in test_df:\n",
        "    dataset['Target_Class'] = dataset['Target_Class'].map(thalassemiaClassification)"
      ],
      "metadata": {
        "id": "3KY8YDN1z3nB"
      },
      "execution_count": null,
      "outputs": []
    },
    {
      "cell_type": "code",
      "source": [
        "dataset.head()"
      ],
      "metadata": {
        "colab": {
          "base_uri": "https://localhost:8080/",
          "height": 206
        },
        "id": "R7mHs_zvz5Ky",
        "outputId": "3b2e2ee1-0b10-4a38-a8fb-8db4d77597c8"
      },
      "execution_count": null,
      "outputs": [
        {
          "output_type": "execute_result",
          "data": {
            "text/plain": [
              "  Patient ID       Name  Age     Sex  Hb A  Hb F  Hb E  Hb A2  Target_Class\n",
              "0         69       Gani   24    Male  94.0   0.0   0.0    6.0           0.0\n",
              "1         70  Mehjabeen   19  Female  97.0   0.0   0.0    3.0           0.0\n",
              "2         71      Sadia   21  Female  96.5   0.0   0.0    3.5           0.0\n",
              "3         72     Marzia   22  Female  96.9   0.0   0.0    3.1           0.0\n",
              "4         73     Saikat   25    Male  96.6   0.0   0.0    3.4           0.0"
            ],
            "text/html": [
              "\n",
              "  <div id=\"df-8f366071-80d0-42fe-a286-dee0e5c8c10a\" class=\"colab-df-container\">\n",
              "    <div>\n",
              "<style scoped>\n",
              "    .dataframe tbody tr th:only-of-type {\n",
              "        vertical-align: middle;\n",
              "    }\n",
              "\n",
              "    .dataframe tbody tr th {\n",
              "        vertical-align: top;\n",
              "    }\n",
              "\n",
              "    .dataframe thead th {\n",
              "        text-align: right;\n",
              "    }\n",
              "</style>\n",
              "<table border=\"1\" class=\"dataframe\">\n",
              "  <thead>\n",
              "    <tr style=\"text-align: right;\">\n",
              "      <th></th>\n",
              "      <th>Patient ID</th>\n",
              "      <th>Name</th>\n",
              "      <th>Age</th>\n",
              "      <th>Sex</th>\n",
              "      <th>Hb A</th>\n",
              "      <th>Hb F</th>\n",
              "      <th>Hb E</th>\n",
              "      <th>Hb A2</th>\n",
              "      <th>Target_Class</th>\n",
              "    </tr>\n",
              "  </thead>\n",
              "  <tbody>\n",
              "    <tr>\n",
              "      <th>0</th>\n",
              "      <td>69</td>\n",
              "      <td>Gani</td>\n",
              "      <td>24</td>\n",
              "      <td>Male</td>\n",
              "      <td>94.0</td>\n",
              "      <td>0.0</td>\n",
              "      <td>0.0</td>\n",
              "      <td>6.0</td>\n",
              "      <td>0.0</td>\n",
              "    </tr>\n",
              "    <tr>\n",
              "      <th>1</th>\n",
              "      <td>70</td>\n",
              "      <td>Mehjabeen</td>\n",
              "      <td>19</td>\n",
              "      <td>Female</td>\n",
              "      <td>97.0</td>\n",
              "      <td>0.0</td>\n",
              "      <td>0.0</td>\n",
              "      <td>3.0</td>\n",
              "      <td>0.0</td>\n",
              "    </tr>\n",
              "    <tr>\n",
              "      <th>2</th>\n",
              "      <td>71</td>\n",
              "      <td>Sadia</td>\n",
              "      <td>21</td>\n",
              "      <td>Female</td>\n",
              "      <td>96.5</td>\n",
              "      <td>0.0</td>\n",
              "      <td>0.0</td>\n",
              "      <td>3.5</td>\n",
              "      <td>0.0</td>\n",
              "    </tr>\n",
              "    <tr>\n",
              "      <th>3</th>\n",
              "      <td>72</td>\n",
              "      <td>Marzia</td>\n",
              "      <td>22</td>\n",
              "      <td>Female</td>\n",
              "      <td>96.9</td>\n",
              "      <td>0.0</td>\n",
              "      <td>0.0</td>\n",
              "      <td>3.1</td>\n",
              "      <td>0.0</td>\n",
              "    </tr>\n",
              "    <tr>\n",
              "      <th>4</th>\n",
              "      <td>73</td>\n",
              "      <td>Saikat</td>\n",
              "      <td>25</td>\n",
              "      <td>Male</td>\n",
              "      <td>96.6</td>\n",
              "      <td>0.0</td>\n",
              "      <td>0.0</td>\n",
              "      <td>3.4</td>\n",
              "      <td>0.0</td>\n",
              "    </tr>\n",
              "  </tbody>\n",
              "</table>\n",
              "</div>\n",
              "    <div class=\"colab-df-buttons\">\n",
              "\n",
              "  <div class=\"colab-df-container\">\n",
              "    <button class=\"colab-df-convert\" onclick=\"convertToInteractive('df-8f366071-80d0-42fe-a286-dee0e5c8c10a')\"\n",
              "            title=\"Convert this dataframe to an interactive table.\"\n",
              "            style=\"display:none;\">\n",
              "\n",
              "  <svg xmlns=\"http://www.w3.org/2000/svg\" height=\"24px\" viewBox=\"0 -960 960 960\">\n",
              "    <path d=\"M120-120v-720h720v720H120Zm60-500h600v-160H180v160Zm220 220h160v-160H400v160Zm0 220h160v-160H400v160ZM180-400h160v-160H180v160Zm440 0h160v-160H620v160ZM180-180h160v-160H180v160Zm440 0h160v-160H620v160Z\"/>\n",
              "  </svg>\n",
              "    </button>\n",
              "\n",
              "  <style>\n",
              "    .colab-df-container {\n",
              "      display:flex;\n",
              "      gap: 12px;\n",
              "    }\n",
              "\n",
              "    .colab-df-convert {\n",
              "      background-color: #E8F0FE;\n",
              "      border: none;\n",
              "      border-radius: 50%;\n",
              "      cursor: pointer;\n",
              "      display: none;\n",
              "      fill: #1967D2;\n",
              "      height: 32px;\n",
              "      padding: 0 0 0 0;\n",
              "      width: 32px;\n",
              "    }\n",
              "\n",
              "    .colab-df-convert:hover {\n",
              "      background-color: #E2EBFA;\n",
              "      box-shadow: 0px 1px 2px rgba(60, 64, 67, 0.3), 0px 1px 3px 1px rgba(60, 64, 67, 0.15);\n",
              "      fill: #174EA6;\n",
              "    }\n",
              "\n",
              "    .colab-df-buttons div {\n",
              "      margin-bottom: 4px;\n",
              "    }\n",
              "\n",
              "    [theme=dark] .colab-df-convert {\n",
              "      background-color: #3B4455;\n",
              "      fill: #D2E3FC;\n",
              "    }\n",
              "\n",
              "    [theme=dark] .colab-df-convert:hover {\n",
              "      background-color: #434B5C;\n",
              "      box-shadow: 0px 1px 3px 1px rgba(0, 0, 0, 0.15);\n",
              "      filter: drop-shadow(0px 1px 2px rgba(0, 0, 0, 0.3));\n",
              "      fill: #FFFFFF;\n",
              "    }\n",
              "  </style>\n",
              "\n",
              "    <script>\n",
              "      const buttonEl =\n",
              "        document.querySelector('#df-8f366071-80d0-42fe-a286-dee0e5c8c10a button.colab-df-convert');\n",
              "      buttonEl.style.display =\n",
              "        google.colab.kernel.accessAllowed ? 'block' : 'none';\n",
              "\n",
              "      async function convertToInteractive(key) {\n",
              "        const element = document.querySelector('#df-8f366071-80d0-42fe-a286-dee0e5c8c10a');\n",
              "        const dataTable =\n",
              "          await google.colab.kernel.invokeFunction('convertToInteractive',\n",
              "                                                    [key], {});\n",
              "        if (!dataTable) return;\n",
              "\n",
              "        const docLinkHtml = 'Like what you see? Visit the ' +\n",
              "          '<a target=\"_blank\" href=https://colab.research.google.com/notebooks/data_table.ipynb>data table notebook</a>'\n",
              "          + ' to learn more about interactive tables.';\n",
              "        element.innerHTML = '';\n",
              "        dataTable['output_type'] = 'display_data';\n",
              "        await google.colab.output.renderOutput(dataTable, element);\n",
              "        const docLink = document.createElement('div');\n",
              "        docLink.innerHTML = docLinkHtml;\n",
              "        element.appendChild(docLink);\n",
              "      }\n",
              "    </script>\n",
              "  </div>\n",
              "\n",
              "\n",
              "<div id=\"df-755b8248-2dda-4301-aafa-902d4b870280\">\n",
              "  <button class=\"colab-df-quickchart\" onclick=\"quickchart('df-755b8248-2dda-4301-aafa-902d4b870280')\"\n",
              "            title=\"Suggest charts.\"\n",
              "            style=\"display:none;\">\n",
              "\n",
              "<svg xmlns=\"http://www.w3.org/2000/svg\" height=\"24px\"viewBox=\"0 0 24 24\"\n",
              "     width=\"24px\">\n",
              "    <g>\n",
              "        <path d=\"M19 3H5c-1.1 0-2 .9-2 2v14c0 1.1.9 2 2 2h14c1.1 0 2-.9 2-2V5c0-1.1-.9-2-2-2zM9 17H7v-7h2v7zm4 0h-2V7h2v10zm4 0h-2v-4h2v4z\"/>\n",
              "    </g>\n",
              "</svg>\n",
              "  </button>\n",
              "\n",
              "<style>\n",
              "  .colab-df-quickchart {\n",
              "      --bg-color: #E8F0FE;\n",
              "      --fill-color: #1967D2;\n",
              "      --hover-bg-color: #E2EBFA;\n",
              "      --hover-fill-color: #174EA6;\n",
              "      --disabled-fill-color: #AAA;\n",
              "      --disabled-bg-color: #DDD;\n",
              "  }\n",
              "\n",
              "  [theme=dark] .colab-df-quickchart {\n",
              "      --bg-color: #3B4455;\n",
              "      --fill-color: #D2E3FC;\n",
              "      --hover-bg-color: #434B5C;\n",
              "      --hover-fill-color: #FFFFFF;\n",
              "      --disabled-bg-color: #3B4455;\n",
              "      --disabled-fill-color: #666;\n",
              "  }\n",
              "\n",
              "  .colab-df-quickchart {\n",
              "    background-color: var(--bg-color);\n",
              "    border: none;\n",
              "    border-radius: 50%;\n",
              "    cursor: pointer;\n",
              "    display: none;\n",
              "    fill: var(--fill-color);\n",
              "    height: 32px;\n",
              "    padding: 0;\n",
              "    width: 32px;\n",
              "  }\n",
              "\n",
              "  .colab-df-quickchart:hover {\n",
              "    background-color: var(--hover-bg-color);\n",
              "    box-shadow: 0 1px 2px rgba(60, 64, 67, 0.3), 0 1px 3px 1px rgba(60, 64, 67, 0.15);\n",
              "    fill: var(--button-hover-fill-color);\n",
              "  }\n",
              "\n",
              "  .colab-df-quickchart-complete:disabled,\n",
              "  .colab-df-quickchart-complete:disabled:hover {\n",
              "    background-color: var(--disabled-bg-color);\n",
              "    fill: var(--disabled-fill-color);\n",
              "    box-shadow: none;\n",
              "  }\n",
              "\n",
              "  .colab-df-spinner {\n",
              "    border: 2px solid var(--fill-color);\n",
              "    border-color: transparent;\n",
              "    border-bottom-color: var(--fill-color);\n",
              "    animation:\n",
              "      spin 1s steps(1) infinite;\n",
              "  }\n",
              "\n",
              "  @keyframes spin {\n",
              "    0% {\n",
              "      border-color: transparent;\n",
              "      border-bottom-color: var(--fill-color);\n",
              "      border-left-color: var(--fill-color);\n",
              "    }\n",
              "    20% {\n",
              "      border-color: transparent;\n",
              "      border-left-color: var(--fill-color);\n",
              "      border-top-color: var(--fill-color);\n",
              "    }\n",
              "    30% {\n",
              "      border-color: transparent;\n",
              "      border-left-color: var(--fill-color);\n",
              "      border-top-color: var(--fill-color);\n",
              "      border-right-color: var(--fill-color);\n",
              "    }\n",
              "    40% {\n",
              "      border-color: transparent;\n",
              "      border-right-color: var(--fill-color);\n",
              "      border-top-color: var(--fill-color);\n",
              "    }\n",
              "    60% {\n",
              "      border-color: transparent;\n",
              "      border-right-color: var(--fill-color);\n",
              "    }\n",
              "    80% {\n",
              "      border-color: transparent;\n",
              "      border-right-color: var(--fill-color);\n",
              "      border-bottom-color: var(--fill-color);\n",
              "    }\n",
              "    90% {\n",
              "      border-color: transparent;\n",
              "      border-bottom-color: var(--fill-color);\n",
              "    }\n",
              "  }\n",
              "</style>\n",
              "\n",
              "  <script>\n",
              "    async function quickchart(key) {\n",
              "      const quickchartButtonEl =\n",
              "        document.querySelector('#' + key + ' button');\n",
              "      quickchartButtonEl.disabled = true;  // To prevent multiple clicks.\n",
              "      quickchartButtonEl.classList.add('colab-df-spinner');\n",
              "      try {\n",
              "        const charts = await google.colab.kernel.invokeFunction(\n",
              "            'suggestCharts', [key], {});\n",
              "      } catch (error) {\n",
              "        console.error('Error during call to suggestCharts:', error);\n",
              "      }\n",
              "      quickchartButtonEl.classList.remove('colab-df-spinner');\n",
              "      quickchartButtonEl.classList.add('colab-df-quickchart-complete');\n",
              "    }\n",
              "    (() => {\n",
              "      let quickchartButtonEl =\n",
              "        document.querySelector('#df-755b8248-2dda-4301-aafa-902d4b870280 button');\n",
              "      quickchartButtonEl.style.display =\n",
              "        google.colab.kernel.accessAllowed ? 'block' : 'none';\n",
              "    })();\n",
              "  </script>\n",
              "</div>\n",
              "    </div>\n",
              "  </div>\n"
            ]
          },
          "metadata": {},
          "execution_count": 177
        }
      ]
    },
    {
      "cell_type": "code",
      "source": [
        "dataset.info()"
      ],
      "metadata": {
        "colab": {
          "base_uri": "https://localhost:8080/"
        },
        "id": "sjry85VHz8nr",
        "outputId": "29b43d03-9c2f-421c-f8ec-b36c6f49b5c6"
      },
      "execution_count": null,
      "outputs": [
        {
          "output_type": "stream",
          "name": "stdout",
          "text": [
            "<class 'pandas.core.frame.DataFrame'>\n",
            "RangeIndex: 1733 entries, 0 to 1732\n",
            "Data columns (total 9 columns):\n",
            " #   Column        Non-Null Count  Dtype  \n",
            "---  ------        --------------  -----  \n",
            " 0   Patient ID    1733 non-null   object \n",
            " 1   Name          1733 non-null   object \n",
            " 2   Age           1733 non-null   int64  \n",
            " 3   Sex           1733 non-null   object \n",
            " 4   Hb A          1733 non-null   float64\n",
            " 5   Hb F          1733 non-null   float64\n",
            " 6   Hb E          1733 non-null   float64\n",
            " 7   Hb A2         1733 non-null   float64\n",
            " 8   Target_Class  1728 non-null   float64\n",
            "dtypes: float64(5), int64(1), object(3)\n",
            "memory usage: 122.0+ KB\n"
          ]
        }
      ]
    },
    {
      "cell_type": "markdown",
      "source": [
        "# **DROPPING UNNECESSARY COLUMNS**"
      ],
      "metadata": {
        "id": "9DU1NzrU0KsU"
      }
    },
    {
      "cell_type": "code",
      "source": [
        "dataset.drop(['Patient ID','Name','Age','Sex'], axis=1, inplace=True)"
      ],
      "metadata": {
        "id": "wlhu7-Kdz-1d"
      },
      "execution_count": null,
      "outputs": []
    },
    {
      "cell_type": "code",
      "source": [
        "dataset.head(10)"
      ],
      "metadata": {
        "colab": {
          "base_uri": "https://localhost:8080/",
          "height": 363
        },
        "id": "weRu0cWw0BoO",
        "outputId": "669ec036-c42f-4bdd-9ed6-5125f8b1936b"
      },
      "execution_count": null,
      "outputs": [
        {
          "output_type": "execute_result",
          "data": {
            "text/plain": [
              "   Hb A  Hb F  Hb E  Hb A2  Target_Class\n",
              "0  94.0   0.0   0.0    6.0           0.0\n",
              "1  97.0   0.0   0.0    3.0           0.0\n",
              "2  96.5   0.0   0.0    3.5           0.0\n",
              "3  96.9   0.0   0.0    3.1           0.0\n",
              "4  96.6   0.0   0.0    3.4           0.0\n",
              "5  96.8   0.0   0.0    3.2           0.0\n",
              "6  96.8   0.0   0.0    3.2           0.0\n",
              "7  96.5   0.0   0.0    3.5           0.0\n",
              "8  93.3   0.0   0.0    6.7           0.0\n",
              "9  65.3   0.0  30.0    4.7           1.0"
            ],
            "text/html": [
              "\n",
              "  <div id=\"df-6f486711-d1c1-4a03-a265-c23dbdf31994\" class=\"colab-df-container\">\n",
              "    <div>\n",
              "<style scoped>\n",
              "    .dataframe tbody tr th:only-of-type {\n",
              "        vertical-align: middle;\n",
              "    }\n",
              "\n",
              "    .dataframe tbody tr th {\n",
              "        vertical-align: top;\n",
              "    }\n",
              "\n",
              "    .dataframe thead th {\n",
              "        text-align: right;\n",
              "    }\n",
              "</style>\n",
              "<table border=\"1\" class=\"dataframe\">\n",
              "  <thead>\n",
              "    <tr style=\"text-align: right;\">\n",
              "      <th></th>\n",
              "      <th>Hb A</th>\n",
              "      <th>Hb F</th>\n",
              "      <th>Hb E</th>\n",
              "      <th>Hb A2</th>\n",
              "      <th>Target_Class</th>\n",
              "    </tr>\n",
              "  </thead>\n",
              "  <tbody>\n",
              "    <tr>\n",
              "      <th>0</th>\n",
              "      <td>94.0</td>\n",
              "      <td>0.0</td>\n",
              "      <td>0.0</td>\n",
              "      <td>6.0</td>\n",
              "      <td>0.0</td>\n",
              "    </tr>\n",
              "    <tr>\n",
              "      <th>1</th>\n",
              "      <td>97.0</td>\n",
              "      <td>0.0</td>\n",
              "      <td>0.0</td>\n",
              "      <td>3.0</td>\n",
              "      <td>0.0</td>\n",
              "    </tr>\n",
              "    <tr>\n",
              "      <th>2</th>\n",
              "      <td>96.5</td>\n",
              "      <td>0.0</td>\n",
              "      <td>0.0</td>\n",
              "      <td>3.5</td>\n",
              "      <td>0.0</td>\n",
              "    </tr>\n",
              "    <tr>\n",
              "      <th>3</th>\n",
              "      <td>96.9</td>\n",
              "      <td>0.0</td>\n",
              "      <td>0.0</td>\n",
              "      <td>3.1</td>\n",
              "      <td>0.0</td>\n",
              "    </tr>\n",
              "    <tr>\n",
              "      <th>4</th>\n",
              "      <td>96.6</td>\n",
              "      <td>0.0</td>\n",
              "      <td>0.0</td>\n",
              "      <td>3.4</td>\n",
              "      <td>0.0</td>\n",
              "    </tr>\n",
              "    <tr>\n",
              "      <th>5</th>\n",
              "      <td>96.8</td>\n",
              "      <td>0.0</td>\n",
              "      <td>0.0</td>\n",
              "      <td>3.2</td>\n",
              "      <td>0.0</td>\n",
              "    </tr>\n",
              "    <tr>\n",
              "      <th>6</th>\n",
              "      <td>96.8</td>\n",
              "      <td>0.0</td>\n",
              "      <td>0.0</td>\n",
              "      <td>3.2</td>\n",
              "      <td>0.0</td>\n",
              "    </tr>\n",
              "    <tr>\n",
              "      <th>7</th>\n",
              "      <td>96.5</td>\n",
              "      <td>0.0</td>\n",
              "      <td>0.0</td>\n",
              "      <td>3.5</td>\n",
              "      <td>0.0</td>\n",
              "    </tr>\n",
              "    <tr>\n",
              "      <th>8</th>\n",
              "      <td>93.3</td>\n",
              "      <td>0.0</td>\n",
              "      <td>0.0</td>\n",
              "      <td>6.7</td>\n",
              "      <td>0.0</td>\n",
              "    </tr>\n",
              "    <tr>\n",
              "      <th>9</th>\n",
              "      <td>65.3</td>\n",
              "      <td>0.0</td>\n",
              "      <td>30.0</td>\n",
              "      <td>4.7</td>\n",
              "      <td>1.0</td>\n",
              "    </tr>\n",
              "  </tbody>\n",
              "</table>\n",
              "</div>\n",
              "    <div class=\"colab-df-buttons\">\n",
              "\n",
              "  <div class=\"colab-df-container\">\n",
              "    <button class=\"colab-df-convert\" onclick=\"convertToInteractive('df-6f486711-d1c1-4a03-a265-c23dbdf31994')\"\n",
              "            title=\"Convert this dataframe to an interactive table.\"\n",
              "            style=\"display:none;\">\n",
              "\n",
              "  <svg xmlns=\"http://www.w3.org/2000/svg\" height=\"24px\" viewBox=\"0 -960 960 960\">\n",
              "    <path d=\"M120-120v-720h720v720H120Zm60-500h600v-160H180v160Zm220 220h160v-160H400v160Zm0 220h160v-160H400v160ZM180-400h160v-160H180v160Zm440 0h160v-160H620v160ZM180-180h160v-160H180v160Zm440 0h160v-160H620v160Z\"/>\n",
              "  </svg>\n",
              "    </button>\n",
              "\n",
              "  <style>\n",
              "    .colab-df-container {\n",
              "      display:flex;\n",
              "      gap: 12px;\n",
              "    }\n",
              "\n",
              "    .colab-df-convert {\n",
              "      background-color: #E8F0FE;\n",
              "      border: none;\n",
              "      border-radius: 50%;\n",
              "      cursor: pointer;\n",
              "      display: none;\n",
              "      fill: #1967D2;\n",
              "      height: 32px;\n",
              "      padding: 0 0 0 0;\n",
              "      width: 32px;\n",
              "    }\n",
              "\n",
              "    .colab-df-convert:hover {\n",
              "      background-color: #E2EBFA;\n",
              "      box-shadow: 0px 1px 2px rgba(60, 64, 67, 0.3), 0px 1px 3px 1px rgba(60, 64, 67, 0.15);\n",
              "      fill: #174EA6;\n",
              "    }\n",
              "\n",
              "    .colab-df-buttons div {\n",
              "      margin-bottom: 4px;\n",
              "    }\n",
              "\n",
              "    [theme=dark] .colab-df-convert {\n",
              "      background-color: #3B4455;\n",
              "      fill: #D2E3FC;\n",
              "    }\n",
              "\n",
              "    [theme=dark] .colab-df-convert:hover {\n",
              "      background-color: #434B5C;\n",
              "      box-shadow: 0px 1px 3px 1px rgba(0, 0, 0, 0.15);\n",
              "      filter: drop-shadow(0px 1px 2px rgba(0, 0, 0, 0.3));\n",
              "      fill: #FFFFFF;\n",
              "    }\n",
              "  </style>\n",
              "\n",
              "    <script>\n",
              "      const buttonEl =\n",
              "        document.querySelector('#df-6f486711-d1c1-4a03-a265-c23dbdf31994 button.colab-df-convert');\n",
              "      buttonEl.style.display =\n",
              "        google.colab.kernel.accessAllowed ? 'block' : 'none';\n",
              "\n",
              "      async function convertToInteractive(key) {\n",
              "        const element = document.querySelector('#df-6f486711-d1c1-4a03-a265-c23dbdf31994');\n",
              "        const dataTable =\n",
              "          await google.colab.kernel.invokeFunction('convertToInteractive',\n",
              "                                                    [key], {});\n",
              "        if (!dataTable) return;\n",
              "\n",
              "        const docLinkHtml = 'Like what you see? Visit the ' +\n",
              "          '<a target=\"_blank\" href=https://colab.research.google.com/notebooks/data_table.ipynb>data table notebook</a>'\n",
              "          + ' to learn more about interactive tables.';\n",
              "        element.innerHTML = '';\n",
              "        dataTable['output_type'] = 'display_data';\n",
              "        await google.colab.output.renderOutput(dataTable, element);\n",
              "        const docLink = document.createElement('div');\n",
              "        docLink.innerHTML = docLinkHtml;\n",
              "        element.appendChild(docLink);\n",
              "      }\n",
              "    </script>\n",
              "  </div>\n",
              "\n",
              "\n",
              "<div id=\"df-cf5704b1-9da9-46ab-bfd7-e71b215c2aed\">\n",
              "  <button class=\"colab-df-quickchart\" onclick=\"quickchart('df-cf5704b1-9da9-46ab-bfd7-e71b215c2aed')\"\n",
              "            title=\"Suggest charts.\"\n",
              "            style=\"display:none;\">\n",
              "\n",
              "<svg xmlns=\"http://www.w3.org/2000/svg\" height=\"24px\"viewBox=\"0 0 24 24\"\n",
              "     width=\"24px\">\n",
              "    <g>\n",
              "        <path d=\"M19 3H5c-1.1 0-2 .9-2 2v14c0 1.1.9 2 2 2h14c1.1 0 2-.9 2-2V5c0-1.1-.9-2-2-2zM9 17H7v-7h2v7zm4 0h-2V7h2v10zm4 0h-2v-4h2v4z\"/>\n",
              "    </g>\n",
              "</svg>\n",
              "  </button>\n",
              "\n",
              "<style>\n",
              "  .colab-df-quickchart {\n",
              "      --bg-color: #E8F0FE;\n",
              "      --fill-color: #1967D2;\n",
              "      --hover-bg-color: #E2EBFA;\n",
              "      --hover-fill-color: #174EA6;\n",
              "      --disabled-fill-color: #AAA;\n",
              "      --disabled-bg-color: #DDD;\n",
              "  }\n",
              "\n",
              "  [theme=dark] .colab-df-quickchart {\n",
              "      --bg-color: #3B4455;\n",
              "      --fill-color: #D2E3FC;\n",
              "      --hover-bg-color: #434B5C;\n",
              "      --hover-fill-color: #FFFFFF;\n",
              "      --disabled-bg-color: #3B4455;\n",
              "      --disabled-fill-color: #666;\n",
              "  }\n",
              "\n",
              "  .colab-df-quickchart {\n",
              "    background-color: var(--bg-color);\n",
              "    border: none;\n",
              "    border-radius: 50%;\n",
              "    cursor: pointer;\n",
              "    display: none;\n",
              "    fill: var(--fill-color);\n",
              "    height: 32px;\n",
              "    padding: 0;\n",
              "    width: 32px;\n",
              "  }\n",
              "\n",
              "  .colab-df-quickchart:hover {\n",
              "    background-color: var(--hover-bg-color);\n",
              "    box-shadow: 0 1px 2px rgba(60, 64, 67, 0.3), 0 1px 3px 1px rgba(60, 64, 67, 0.15);\n",
              "    fill: var(--button-hover-fill-color);\n",
              "  }\n",
              "\n",
              "  .colab-df-quickchart-complete:disabled,\n",
              "  .colab-df-quickchart-complete:disabled:hover {\n",
              "    background-color: var(--disabled-bg-color);\n",
              "    fill: var(--disabled-fill-color);\n",
              "    box-shadow: none;\n",
              "  }\n",
              "\n",
              "  .colab-df-spinner {\n",
              "    border: 2px solid var(--fill-color);\n",
              "    border-color: transparent;\n",
              "    border-bottom-color: var(--fill-color);\n",
              "    animation:\n",
              "      spin 1s steps(1) infinite;\n",
              "  }\n",
              "\n",
              "  @keyframes spin {\n",
              "    0% {\n",
              "      border-color: transparent;\n",
              "      border-bottom-color: var(--fill-color);\n",
              "      border-left-color: var(--fill-color);\n",
              "    }\n",
              "    20% {\n",
              "      border-color: transparent;\n",
              "      border-left-color: var(--fill-color);\n",
              "      border-top-color: var(--fill-color);\n",
              "    }\n",
              "    30% {\n",
              "      border-color: transparent;\n",
              "      border-left-color: var(--fill-color);\n",
              "      border-top-color: var(--fill-color);\n",
              "      border-right-color: var(--fill-color);\n",
              "    }\n",
              "    40% {\n",
              "      border-color: transparent;\n",
              "      border-right-color: var(--fill-color);\n",
              "      border-top-color: var(--fill-color);\n",
              "    }\n",
              "    60% {\n",
              "      border-color: transparent;\n",
              "      border-right-color: var(--fill-color);\n",
              "    }\n",
              "    80% {\n",
              "      border-color: transparent;\n",
              "      border-right-color: var(--fill-color);\n",
              "      border-bottom-color: var(--fill-color);\n",
              "    }\n",
              "    90% {\n",
              "      border-color: transparent;\n",
              "      border-bottom-color: var(--fill-color);\n",
              "    }\n",
              "  }\n",
              "</style>\n",
              "\n",
              "  <script>\n",
              "    async function quickchart(key) {\n",
              "      const quickchartButtonEl =\n",
              "        document.querySelector('#' + key + ' button');\n",
              "      quickchartButtonEl.disabled = true;  // To prevent multiple clicks.\n",
              "      quickchartButtonEl.classList.add('colab-df-spinner');\n",
              "      try {\n",
              "        const charts = await google.colab.kernel.invokeFunction(\n",
              "            'suggestCharts', [key], {});\n",
              "      } catch (error) {\n",
              "        console.error('Error during call to suggestCharts:', error);\n",
              "      }\n",
              "      quickchartButtonEl.classList.remove('colab-df-spinner');\n",
              "      quickchartButtonEl.classList.add('colab-df-quickchart-complete');\n",
              "    }\n",
              "    (() => {\n",
              "      let quickchartButtonEl =\n",
              "        document.querySelector('#df-cf5704b1-9da9-46ab-bfd7-e71b215c2aed button');\n",
              "      quickchartButtonEl.style.display =\n",
              "        google.colab.kernel.accessAllowed ? 'block' : 'none';\n",
              "    })();\n",
              "  </script>\n",
              "</div>\n",
              "    </div>\n",
              "  </div>\n"
            ]
          },
          "metadata": {},
          "execution_count": 180
        }
      ]
    },
    {
      "cell_type": "markdown",
      "source": [
        "# **DATA VISUALIZATION BY BAR DIAGRAM**"
      ],
      "metadata": {
        "id": "-Zrxbva95dTC"
      }
    },
    {
      "cell_type": "code",
      "source": [
        "def bar_chart(feature):\n",
        "  normal = df[df['Target_Class']==0][feature].value_counts()\n",
        "  positive = df[df['Target_Class']==1][feature].value_counts()\n",
        "\n",
        "\n",
        "  df_new = pd.DataFrame([normal, positive])\n",
        "\n",
        "  df_new.index = ['Normal', 'Positive']\n",
        "\n",
        "  df_new.plot(kind='bar', stacked=True, figsize=(10,5))"
      ],
      "metadata": {
        "id": "-7rAmU4t5QN9"
      },
      "execution_count": null,
      "outputs": []
    },
    {
      "cell_type": "code",
      "source": [
        "bar_chart('Target_Class')"
      ],
      "metadata": {
        "colab": {
          "base_uri": "https://localhost:8080/",
          "height": 485
        },
        "id": "ByvMuuZS5Rn1",
        "outputId": "5f70584f-a4c6-4dd8-a7bf-f87a293f0a8d"
      },
      "execution_count": null,
      "outputs": [
        {
          "output_type": "display_data",
          "data": {
            "text/plain": [
              "<Figure size 1000x500 with 1 Axes>"
            ],
            "image/png": "[encoded data removed]"
          },
          "metadata": {}
        }
      ]
    },
    {
      "cell_type": "code",
      "source": [
        "X = dataset.drop('Target_Class', axis='columns')\n",
        "y = dataset['Target_Class']"
      ],
      "metadata": {
        "id": "HdRN6RUXOnBd"
      },
      "execution_count": null,
      "outputs": []
    },
    {
      "cell_type": "code",
      "source": [
        "y.info()"
      ],
      "metadata": {
        "colab": {
          "base_uri": "https://localhost:8080/"
        },
        "id": "4pL0CtuGPGJl",
        "outputId": "b08d198a-de56-4b6a-9e77-4dfbf769a82a"
      },
      "execution_count": null,
      "outputs": [
        {
          "output_type": "stream",
          "name": "stdout",
          "text": [
            "<class 'pandas.core.series.Series'>\n",
            "RangeIndex: 1733 entries, 0 to 1732\n",
            "Series name: Target_Class\n",
            "Non-Null Count  Dtype  \n",
            "--------------  -----  \n",
            "1728 non-null   float64\n",
            "dtypes: float64(1)\n",
            "memory usage: 13.7 KB\n"
          ]
        }
      ]
    },
    {
      "cell_type": "code",
      "source": [
        "print(y_test.describe())\n",
        "print(\"............................................................................\")\n",
        "print(y.isna().sum())"
      ],
      "metadata": {
        "colab": {
          "base_uri": "https://localhost:8080/"
        },
        "outputId": "936fdd3d-5778-4525-e84c-8abeacb58116",
        "id": "FhXqxzJ2Ri2e"
      },
      "execution_count": null,
      "outputs": [
        {
          "output_type": "stream",
          "name": "stdout",
          "text": [
            "count    518.000000\n",
            "mean       0.158301\n",
            "std        0.365376\n",
            "min        0.000000\n",
            "25%        0.000000\n",
            "50%        0.000000\n",
            "75%        0.000000\n",
            "max        1.000000\n",
            "Name: Target_Class, dtype: float64\n",
            "............................................................................\n",
            "5\n"
          ]
        }
      ]
    },
    {
      "cell_type": "code",
      "source": [
        "df = y.fillna(0)"
      ],
      "metadata": {
        "id": "PO8jytLKRzZe"
      },
      "execution_count": null,
      "outputs": []
    },
    {
      "cell_type": "code",
      "source": [
        "\n",
        "print(df.isna().sum())"
      ],
      "metadata": {
        "colab": {
          "base_uri": "https://localhost:8080/"
        },
        "id": "59klEY9KR2RP",
        "outputId": "adadf3ba-98a6-4743-a757-c3616a2eea0f"
      },
      "execution_count": null,
      "outputs": [
        {
          "output_type": "stream",
          "name": "stdout",
          "text": [
            "0\n"
          ]
        }
      ]
    },
    {
      "cell_type": "markdown",
      "source": [
        "# **Splitting Train and Test into X and Y**"
      ],
      "metadata": {
        "id": "JNtezoZGWwA0"
      }
    },
    {
      "cell_type": "code",
      "source": [
        "from sklearn.model_selection import train_test_split\n",
        "X_train, X_test, y_train, y_test = train_test_split(X, df, test_size=0.3)\n"
      ],
      "metadata": {
        "id": "lNJG9dR0H79T"
      },
      "execution_count": null,
      "outputs": []
    },
    {
      "cell_type": "markdown",
      "source": [
        "# **MODEL APPLYING**"
      ],
      "metadata": {
        "id": "uzQBvbj-5l33"
      }
    },
    {
      "cell_type": "markdown",
      "source": [
        "# **1. Logistic Regression**"
      ],
      "metadata": {
        "id": "4LOXVMvGSc2C"
      }
    },
    {
      "cell_type": "code",
      "source": [
        "from sklearn.linear_model import LogisticRegression\n",
        "lr = LogisticRegression()\n",
        "lr.fit(X_train, y_train)"
      ],
      "metadata": {
        "colab": {
          "base_uri": "https://localhost:8080/",
          "height": 75
        },
        "id": "L7L6dL2vKdBn",
        "outputId": "9bd1a197-1fca-4d92-dfb6-144d7d833013"
      },
      "execution_count": null,
      "outputs": [
        {
          "output_type": "execute_result",
          "data": {
            "text/plain": [
              "LogisticRegression()"
            ],
            "text/html": [
              "<style>#sk-container-id-1 {color: black;background-color: white;}#sk-container-id-1 pre{padding: 0;}#sk-container-id-1 div.sk-toggleable {background-color: white;}#sk-container-id-1 label.sk-toggleable__label {cursor: pointer;display: block;width: 100%;margin-bottom: 0;padding: 0.3em;box-sizing: border-box;text-align: center;}#sk-container-id-1 label.sk-toggleable__label-arrow:before {content: \"▸\";float: left;margin-right: 0.25em;color: #696969;}#sk-container-id-1 label.sk-toggleable__label-arrow:hover:before {color: black;}#sk-container-id-1 div.sk-estimator:hover label.sk-toggleable__label-arrow:before {color: black;}#sk-container-id-1 div.sk-toggleable__content {max-height: 0;max-width: 0;overflow: hidden;text-align: left;background-color: #f0f8ff;}#sk-container-id-1 div.sk-toggleable__content pre {margin: 0.2em;color: black;border-radius: 0.25em;background-color: #f0f8ff;}#sk-container-id-1 input.sk-toggleable__control:checked~div.sk-toggleable__content {max-height: 200px;max-width: 100%;overflow: auto;}#sk-container-id-1 input.sk-toggleable__control:checked~label.sk-toggleable__label-arrow:before {content: \"▾\";}#sk-container-id-1 div.sk-estimator input.sk-toggleable__control:checked~label.sk-toggleable__label {background-color: #d4ebff;}#sk-container-id-1 div.sk-label input.sk-toggleable__control:checked~label.sk-toggleable__label {background-color: #d4ebff;}#sk-container-id-1 input.sk-hidden--visually {border: 0;clip: rect(1px 1px 1px 1px);clip: rect(1px, 1px, 1px, 1px);height: 1px;margin: -1px;overflow: hidden;padding: 0;position: absolute;width: 1px;}#sk-container-id-1 div.sk-estimator {font-family: monospace;background-color: #f0f8ff;border: 1px dotted black;border-radius: 0.25em;box-sizing: border-box;margin-bottom: 0.5em;}#sk-container-id-1 div.sk-estimator:hover {background-color: #d4ebff;}#sk-container-id-1 div.sk-parallel-item::after {content: \"\";width: 100%;border-bottom: 1px solid gray;flex-grow: 1;}#sk-container-id-1 div.sk-label:hover label.sk-toggleable__label {background-color: #d4ebff;}#sk-container-id-1 div.sk-serial::before {content: \"\";position: absolute;border-left: 1px solid gray;box-sizing: border-box;top: 0;bottom: 0;left: 50%;z-index: 0;}#sk-container-id-1 div.sk-serial {display: flex;flex-direction: column;align-items: center;background-color: white;padding-right: 0.2em;padding-left: 0.2em;position: relative;}#sk-container-id-1 div.sk-item {position: relative;z-index: 1;}#sk-container-id-1 div.sk-parallel {display: flex;align-items: stretch;justify-content: center;background-color: white;position: relative;}#sk-container-id-1 div.sk-item::before, #sk-container-id-1 div.sk-parallel-item::before {content: \"\";position: absolute;border-left: 1px solid gray;box-sizing: border-box;top: 0;bottom: 0;left: 50%;z-index: -1;}#sk-container-id-1 div.sk-parallel-item {display: flex;flex-direction: column;z-index: 1;position: relative;background-color: white;}#sk-container-id-1 div.sk-parallel-item:first-child::after {align-self: flex-end;width: 50%;}#sk-container-id-1 div.sk-parallel-item:last-child::after {align-self: flex-start;width: 50%;}#sk-container-id-1 div.sk-parallel-item:only-child::after {width: 0;}#sk-container-id-1 div.sk-dashed-wrapped {border: 1px dashed gray;margin: 0 0.4em 0.5em 0.4em;box-sizing: border-box;padding-bottom: 0.4em;background-color: white;}#sk-container-id-1 div.sk-label label {font-family: monospace;font-weight: bold;display: inline-block;line-height: 1.2em;}#sk-container-id-1 div.sk-label-container {text-align: center;}#sk-container-id-1 div.sk-container {/* jupyter's `normalize.less` sets `[hidden] { display: none; }` but bootstrap.min.css set `[hidden] { display: none !important; }` so we also need the `!important` here to be able to override the default hidden behavior on the sphinx rendered scikit-learn.org. See: https://github.com/scikit-learn/scikit-learn/issues/21755 */display: inline-block !important;position: relative;}#sk-container-id-1 div.sk-text-repr-fallback {display: none;}</style><div id=\"sk-container-id-1\" class=\"sk-top-container\"><div class=\"sk-text-repr-fallback\"><pre>LogisticRegression()</pre><b>In a Jupyter environment, please rerun this cell to show the HTML representation or trust the notebook. <br />On GitHub, the HTML representation is unable to render, please try loading this page with nbviewer.org.</b></div><div class=\"sk-container\" hidden><div class=\"sk-item\"><div class=\"sk-estimator sk-toggleable\"><input class=\"sk-toggleable__control sk-hidden--visually\" id=\"sk-estimator-id-1\" type=\"checkbox\" checked><label for=\"sk-estimator-id-1\" class=\"sk-toggleable__label sk-toggleable__label-arrow\">LogisticRegression</label><div class=\"sk-toggleable__content\"><pre>LogisticRegression()</pre></div></div></div></div></div>"
            ]
          },
          "metadata": {},
          "execution_count": 197
        }
      ]
    },
    {
      "cell_type": "code",
      "source": [
        "print(\"Accuracy:\",lr.score(X_test, y_test)*100,\"%\\n\")\n",
        "y_predict = lr.predict(X_test)\n",
        "from sklearn import metrics\n",
        "print(metrics.classification_report(y_test, y_predict))"
      ],
      "metadata": {
        "colab": {
          "base_uri": "https://localhost:8080/"
        },
        "id": "ksJr7XbSSXj4",
        "outputId": "52734bc4-0147-4ea8-c07e-2c8b001646b8"
      },
      "execution_count": null,
      "outputs": [
        {
          "output_type": "stream",
          "name": "stdout",
          "text": [
            "Accuracy: 97.11538461538461 %\n",
            "\n",
            "              precision    recall  f1-score   support\n",
            "\n",
            "         0.0       0.97      0.99      0.98       439\n",
            "         1.0       0.96      0.85      0.90        81\n",
            "\n",
            "    accuracy                           0.97       520\n",
            "   macro avg       0.97      0.92      0.94       520\n",
            "weighted avg       0.97      0.97      0.97       520\n",
            "\n"
          ]
        }
      ]
    },
    {
      "cell_type": "markdown",
      "source": [
        "# **2. Support Vector Machine**"
      ],
      "metadata": {
        "id": "kupREDcOSesj"
      }
    },
    {
      "cell_type": "code",
      "source": [
        "from sklearn.svm import SVC\n",
        "svm = SVC()\n",
        "svm.fit(X_train, y_train)"
      ],
      "metadata": {
        "colab": {
          "base_uri": "https://localhost:8080/",
          "height": 75
        },
        "id": "AOHGgT8oSg5k",
        "outputId": "da88bfa0-6a79-44b9-be4e-7625ae3161ff"
      },
      "execution_count": null,
      "outputs": [
        {
          "output_type": "execute_result",
          "data": {
            "text/plain": [
              "SVC()"
            ],
            "text/html": [
              "<style>#sk-container-id-2 {color: black;background-color: white;}#sk-container-id-2 pre{padding: 0;}#sk-container-id-2 div.sk-toggleable {background-color: white;}#sk-container-id-2 label.sk-toggleable__label {cursor: pointer;display: block;width: 100%;margin-bottom: 0;padding: 0.3em;box-sizing: border-box;text-align: center;}#sk-container-id-2 label.sk-toggleable__label-arrow:before {content: \"▸\";float: left;margin-right: 0.25em;color: #696969;}#sk-container-id-2 label.sk-toggleable__label-arrow:hover:before {color: black;}#sk-container-id-2 div.sk-estimator:hover label.sk-toggleable__label-arrow:before {color: black;}#sk-container-id-2 div.sk-toggleable__content {max-height: 0;max-width: 0;overflow: hidden;text-align: left;background-color: #f0f8ff;}#sk-container-id-2 div.sk-toggleable__content pre {margin: 0.2em;color: black;border-radius: 0.25em;background-color: #f0f8ff;}#sk-container-id-2 input.sk-toggleable__control:checked~div.sk-toggleable__content {max-height: 200px;max-width: 100%;overflow: auto;}#sk-container-id-2 input.sk-toggleable__control:checked~label.sk-toggleable__label-arrow:before {content: \"▾\";}#sk-container-id-2 div.sk-estimator input.sk-toggleable__control:checked~label.sk-toggleable__label {background-color: #d4ebff;}#sk-container-id-2 div.sk-label input.sk-toggleable__control:checked~label.sk-toggleable__label {background-color: #d4ebff;}#sk-container-id-2 input.sk-hidden--visually {border: 0;clip: rect(1px 1px 1px 1px);clip: rect(1px, 1px, 1px, 1px);height: 1px;margin: -1px;overflow: hidden;padding: 0;position: absolute;width: 1px;}#sk-container-id-2 div.sk-estimator {font-family: monospace;background-color: #f0f8ff;border: 1px dotted black;border-radius: 0.25em;box-sizing: border-box;margin-bottom: 0.5em;}#sk-container-id-2 div.sk-estimator:hover {background-color: #d4ebff;}#sk-container-id-2 div.sk-parallel-item::after {content: \"\";width: 100%;border-bottom: 1px solid gray;flex-grow: 1;}#sk-container-id-2 div.sk-label:hover label.sk-toggleable__label {background-color: #d4ebff;}#sk-container-id-2 div.sk-serial::before {content: \"\";position: absolute;border-left: 1px solid gray;box-sizing: border-box;top: 0;bottom: 0;left: 50%;z-index: 0;}#sk-container-id-2 div.sk-serial {display: flex;flex-direction: column;align-items: center;background-color: white;padding-right: 0.2em;padding-left: 0.2em;position: relative;}#sk-container-id-2 div.sk-item {position: relative;z-index: 1;}#sk-container-id-2 div.sk-parallel {display: flex;align-items: stretch;justify-content: center;background-color: white;position: relative;}#sk-container-id-2 div.sk-item::before, #sk-container-id-2 div.sk-parallel-item::before {content: \"\";position: absolute;border-left: 1px solid gray;box-sizing: border-box;top: 0;bottom: 0;left: 50%;z-index: -1;}#sk-container-id-2 div.sk-parallel-item {display: flex;flex-direction: column;z-index: 1;position: relative;background-color: white;}#sk-container-id-2 div.sk-parallel-item:first-child::after {align-self: flex-end;width: 50%;}#sk-container-id-2 div.sk-parallel-item:last-child::after {align-self: flex-start;width: 50%;}#sk-container-id-2 div.sk-parallel-item:only-child::after {width: 0;}#sk-container-id-2 div.sk-dashed-wrapped {border: 1px dashed gray;margin: 0 0.4em 0.5em 0.4em;box-sizing: border-box;padding-bottom: 0.4em;background-color: white;}#sk-container-id-2 div.sk-label label {font-family: monospace;font-weight: bold;display: inline-block;line-height: 1.2em;}#sk-container-id-2 div.sk-label-container {text-align: center;}#sk-container-id-2 div.sk-container {/* jupyter's `normalize.less` sets `[hidden] { display: none; }` but bootstrap.min.css set `[hidden] { display: none !important; }` so we also need the `!important` here to be able to override the default hidden behavior on the sphinx rendered scikit-learn.org. See: https://github.com/scikit-learn/scikit-learn/issues/21755 */display: inline-block !important;position: relative;}#sk-container-id-2 div.sk-text-repr-fallback {display: none;}</style><div id=\"sk-container-id-2\" class=\"sk-top-container\"><div class=\"sk-text-repr-fallback\"><pre>SVC()</pre><b>In a Jupyter environment, please rerun this cell to show the HTML representation or trust the notebook. <br />On GitHub, the HTML representation is unable to render, please try loading this page with nbviewer.org.</b></div><div class=\"sk-container\" hidden><div class=\"sk-item\"><div class=\"sk-estimator sk-toggleable\"><input class=\"sk-toggleable__control sk-hidden--visually\" id=\"sk-estimator-id-2\" type=\"checkbox\" checked><label for=\"sk-estimator-id-2\" class=\"sk-toggleable__label sk-toggleable__label-arrow\">SVC</label><div class=\"sk-toggleable__content\"><pre>SVC()</pre></div></div></div></div></div>"
            ]
          },
          "metadata": {},
          "execution_count": 199
        }
      ]
    },
    {
      "cell_type": "code",
      "source": [
        "print(\"Accuracy:\",svm.score(X_test, y_test)*100,\"%\\n\")\n",
        "y_predicted = svm.predict(X_test)\n",
        "from sklearn import metrics\n",
        "print(metrics.classification_report(y_test, y_predicted))"
      ],
      "metadata": {
        "colab": {
          "base_uri": "https://localhost:8080/"
        },
        "id": "juxTSNP6Smym",
        "outputId": "a44a360f-3300-4bcd-c6f7-8c71008a0c14"
      },
      "execution_count": null,
      "outputs": [
        {
          "output_type": "stream",
          "name": "stdout",
          "text": [
            "Accuracy: 97.3076923076923 %\n",
            "\n",
            "              precision    recall  f1-score   support\n",
            "\n",
            "         0.0       0.98      0.99      0.98       439\n",
            "         1.0       0.96      0.86      0.91        81\n",
            "\n",
            "    accuracy                           0.97       520\n",
            "   macro avg       0.97      0.93      0.95       520\n",
            "weighted avg       0.97      0.97      0.97       520\n",
            "\n"
          ]
        }
      ]
    },
    {
      "cell_type": "markdown",
      "source": [
        "# **3. K-Nearest Neighbors(KNN)**"
      ],
      "metadata": {
        "id": "f5YE6gzdSo8H"
      }
    },
    {
      "cell_type": "code",
      "source": [
        "from sklearn.neighbors import KNeighborsClassifier\n",
        "knn=KNeighborsClassifier(n_neighbors=3)\n",
        "knn.fit(X_train, y_train)"
      ],
      "metadata": {
        "colab": {
          "base_uri": "https://localhost:8080/",
          "height": 75
        },
        "id": "d3QM8GO-SsHw",
        "outputId": "ee0cbccd-4d78-4b4c-9eb3-9e83201dd25b"
      },
      "execution_count": null,
      "outputs": [
        {
          "output_type": "execute_result",
          "data": {
            "text/plain": [
              "KNeighborsClassifier(n_neighbors=3)"
            ],
            "text/html": [
              "<style>#sk-container-id-3 {color: black;background-color: white;}#sk-container-id-3 pre{padding: 0;}#sk-container-id-3 div.sk-toggleable {background-color: white;}#sk-container-id-3 label.sk-toggleable__label {cursor: pointer;display: block;width: 100%;margin-bottom: 0;padding: 0.3em;box-sizing: border-box;text-align: center;}#sk-container-id-3 label.sk-toggleable__label-arrow:before {content: \"▸\";float: left;margin-right: 0.25em;color: #696969;}#sk-container-id-3 label.sk-toggleable__label-arrow:hover:before {color: black;}#sk-container-id-3 div.sk-estimator:hover label.sk-toggleable__label-arrow:before {color: black;}#sk-container-id-3 div.sk-toggleable__content {max-height: 0;max-width: 0;overflow: hidden;text-align: left;background-color: #f0f8ff;}#sk-container-id-3 div.sk-toggleable__content pre {margin: 0.2em;color: black;border-radius: 0.25em;background-color: #f0f8ff;}#sk-container-id-3 input.sk-toggleable__control:checked~div.sk-toggleable__content {max-height: 200px;max-width: 100%;overflow: auto;}#sk-container-id-3 input.sk-toggleable__control:checked~label.sk-toggleable__label-arrow:before {content: \"▾\";}#sk-container-id-3 div.sk-estimator input.sk-toggleable__control:checked~label.sk-toggleable__label {background-color: #d4ebff;}#sk-container-id-3 div.sk-label input.sk-toggleable__control:checked~label.sk-toggleable__label {background-color: #d4ebff;}#sk-container-id-3 input.sk-hidden--visually {border: 0;clip: rect(1px 1px 1px 1px);clip: rect(1px, 1px, 1px, 1px);height: 1px;margin: -1px;overflow: hidden;padding: 0;position: absolute;width: 1px;}#sk-container-id-3 div.sk-estimator {font-family: monospace;background-color: #f0f8ff;border: 1px dotted black;border-radius: 0.25em;box-sizing: border-box;margin-bottom: 0.5em;}#sk-container-id-3 div.sk-estimator:hover {background-color: #d4ebff;}#sk-container-id-3 div.sk-parallel-item::after {content: \"\";width: 100%;border-bottom: 1px solid gray;flex-grow: 1;}#sk-container-id-3 div.sk-label:hover label.sk-toggleable__label {background-color: #d4ebff;}#sk-container-id-3 div.sk-serial::before {content: \"\";position: absolute;border-left: 1px solid gray;box-sizing: border-box;top: 0;bottom: 0;left: 50%;z-index: 0;}#sk-container-id-3 div.sk-serial {display: flex;flex-direction: column;align-items: center;background-color: white;padding-right: 0.2em;padding-left: 0.2em;position: relative;}#sk-container-id-3 div.sk-item {position: relative;z-index: 1;}#sk-container-id-3 div.sk-parallel {display: flex;align-items: stretch;justify-content: center;background-color: white;position: relative;}#sk-container-id-3 div.sk-item::before, #sk-container-id-3 div.sk-parallel-item::before {content: \"\";position: absolute;border-left: 1px solid gray;box-sizing: border-box;top: 0;bottom: 0;left: 50%;z-index: -1;}#sk-container-id-3 div.sk-parallel-item {display: flex;flex-direction: column;z-index: 1;position: relative;background-color: white;}#sk-container-id-3 div.sk-parallel-item:first-child::after {align-self: flex-end;width: 50%;}#sk-container-id-3 div.sk-parallel-item:last-child::after {align-self: flex-start;width: 50%;}#sk-container-id-3 div.sk-parallel-item:only-child::after {width: 0;}#sk-container-id-3 div.sk-dashed-wrapped {border: 1px dashed gray;margin: 0 0.4em 0.5em 0.4em;box-sizing: border-box;padding-bottom: 0.4em;background-color: white;}#sk-container-id-3 div.sk-label label {font-family: monospace;font-weight: bold;display: inline-block;line-height: 1.2em;}#sk-container-id-3 div.sk-label-container {text-align: center;}#sk-container-id-3 div.sk-container {/* jupyter's `normalize.less` sets `[hidden] { display: none; }` but bootstrap.min.css set `[hidden] { display: none !important; }` so we also need the `!important` here to be able to override the default hidden behavior on the sphinx rendered scikit-learn.org. See: https://github.com/scikit-learn/scikit-learn/issues/21755 */display: inline-block !important;position: relative;}#sk-container-id-3 div.sk-text-repr-fallback {display: none;}</style><div id=\"sk-container-id-3\" class=\"sk-top-container\"><div class=\"sk-text-repr-fallback\"><pre>KNeighborsClassifier(n_neighbors=3)</pre><b>In a Jupyter environment, please rerun this cell to show the HTML representation or trust the notebook. <br />On GitHub, the HTML representation is unable to render, please try loading this page with nbviewer.org.</b></div><div class=\"sk-container\" hidden><div class=\"sk-item\"><div class=\"sk-estimator sk-toggleable\"><input class=\"sk-toggleable__control sk-hidden--visually\" id=\"sk-estimator-id-3\" type=\"checkbox\" checked><label for=\"sk-estimator-id-3\" class=\"sk-toggleable__label sk-toggleable__label-arrow\">KNeighborsClassifier</label><div class=\"sk-toggleable__content\"><pre>KNeighborsClassifier(n_neighbors=3)</pre></div></div></div></div></div>"
            ]
          },
          "metadata": {},
          "execution_count": 201
        }
      ]
    },
    {
      "cell_type": "code",
      "source": [
        "print(\"Accuracy:\",knn.score(X_test, y_test)*100,\"%\\n\")\n",
        "y_predicted = knn.predict(X_test)\n",
        "from sklearn import metrics\n",
        "print(metrics.classification_report(y_test, y_predicted))"
      ],
      "metadata": {
        "colab": {
          "base_uri": "https://localhost:8080/"
        },
        "id": "fLhJLEYTSuRa",
        "outputId": "0549467e-5033-4ba4-fc4f-80efd4d6cd28"
      },
      "execution_count": null,
      "outputs": [
        {
          "output_type": "stream",
          "name": "stdout",
          "text": [
            "Accuracy: 98.26923076923076 %\n",
            "\n",
            "              precision    recall  f1-score   support\n",
            "\n",
            "         0.0       1.00      0.98      0.99       439\n",
            "         1.0       0.90      1.00      0.95        81\n",
            "\n",
            "    accuracy                           0.98       520\n",
            "   macro avg       0.95      0.99      0.97       520\n",
            "weighted avg       0.98      0.98      0.98       520\n",
            "\n"
          ]
        }
      ]
    },
    {
      "cell_type": "markdown",
      "source": [
        "# **4. Decision Tree**"
      ],
      "metadata": {
        "id": "ra7yhD1nSyDL"
      }
    },
    {
      "cell_type": "code",
      "source": [
        "from sklearn import tree\n",
        "dt = tree.DecisionTreeClassifier()\n",
        "dt.fit(X_train, y_train)"
      ],
      "metadata": {
        "colab": {
          "base_uri": "https://localhost:8080/",
          "height": 75
        },
        "id": "ZXqgdB84S0xN",
        "outputId": "7f506091-d157-4207-ffd3-8795d1590f4d"
      },
      "execution_count": null,
      "outputs": [
        {
          "output_type": "execute_result",
          "data": {
            "text/plain": [
              "DecisionTreeClassifier()"
            ],
            "text/html": [
              "<style>#sk-container-id-4 {color: black;background-color: white;}#sk-container-id-4 pre{padding: 0;}#sk-container-id-4 div.sk-toggleable {background-color: white;}#sk-container-id-4 label.sk-toggleable__label {cursor: pointer;display: block;width: 100%;margin-bottom: 0;padding: 0.3em;box-sizing: border-box;text-align: center;}#sk-container-id-4 label.sk-toggleable__label-arrow:before {content: \"▸\";float: left;margin-right: 0.25em;color: #696969;}#sk-container-id-4 label.sk-toggleable__label-arrow:hover:before {color: black;}#sk-container-id-4 div.sk-estimator:hover label.sk-toggleable__label-arrow:before {color: black;}#sk-container-id-4 div.sk-toggleable__content {max-height: 0;max-width: 0;overflow: hidden;text-align: left;background-color: #f0f8ff;}#sk-container-id-4 div.sk-toggleable__content pre {margin: 0.2em;color: black;border-radius: 0.25em;background-color: #f0f8ff;}#sk-container-id-4 input.sk-toggleable__control:checked~div.sk-toggleable__content {max-height: 200px;max-width: 100%;overflow: auto;}#sk-container-id-4 input.sk-toggleable__control:checked~label.sk-toggleable__label-arrow:before {content: \"▾\";}#sk-container-id-4 div.sk-estimator input.sk-toggleable__control:checked~label.sk-toggleable__label {background-color: #d4ebff;}#sk-container-id-4 div.sk-label input.sk-toggleable__control:checked~label.sk-toggleable__label {background-color: #d4ebff;}#sk-container-id-4 input.sk-hidden--visually {border: 0;clip: rect(1px 1px 1px 1px);clip: rect(1px, 1px, 1px, 1px);height: 1px;margin: -1px;overflow: hidden;padding: 0;position: absolute;width: 1px;}#sk-container-id-4 div.sk-estimator {font-family: monospace;background-color: #f0f8ff;border: 1px dotted black;border-radius: 0.25em;box-sizing: border-box;margin-bottom: 0.5em;}#sk-container-id-4 div.sk-estimator:hover {background-color: #d4ebff;}#sk-container-id-4 div.sk-parallel-item::after {content: \"\";width: 100%;border-bottom: 1px solid gray;flex-grow: 1;}#sk-container-id-4 div.sk-label:hover label.sk-toggleable__label {background-color: #d4ebff;}#sk-container-id-4 div.sk-serial::before {content: \"\";position: absolute;border-left: 1px solid gray;box-sizing: border-box;top: 0;bottom: 0;left: 50%;z-index: 0;}#sk-container-id-4 div.sk-serial {display: flex;flex-direction: column;align-items: center;background-color: white;padding-right: 0.2em;padding-left: 0.2em;position: relative;}#sk-container-id-4 div.sk-item {position: relative;z-index: 1;}#sk-container-id-4 div.sk-parallel {display: flex;align-items: stretch;justify-content: center;background-color: white;position: relative;}#sk-container-id-4 div.sk-item::before, #sk-container-id-4 div.sk-parallel-item::before {content: \"\";position: absolute;border-left: 1px solid gray;box-sizing: border-box;top: 0;bottom: 0;left: 50%;z-index: -1;}#sk-container-id-4 div.sk-parallel-item {display: flex;flex-direction: column;z-index: 1;position: relative;background-color: white;}#sk-container-id-4 div.sk-parallel-item:first-child::after {align-self: flex-end;width: 50%;}#sk-container-id-4 div.sk-parallel-item:last-child::after {align-self: flex-start;width: 50%;}#sk-container-id-4 div.sk-parallel-item:only-child::after {width: 0;}#sk-container-id-4 div.sk-dashed-wrapped {border: 1px dashed gray;margin: 0 0.4em 0.5em 0.4em;box-sizing: border-box;padding-bottom: 0.4em;background-color: white;}#sk-container-id-4 div.sk-label label {font-family: monospace;font-weight: bold;display: inline-block;line-height: 1.2em;}#sk-container-id-4 div.sk-label-container {text-align: center;}#sk-container-id-4 div.sk-container {/* jupyter's `normalize.less` sets `[hidden] { display: none; }` but bootstrap.min.css set `[hidden] { display: none !important; }` so we also need the `!important` here to be able to override the default hidden behavior on the sphinx rendered scikit-learn.org. See: https://github.com/scikit-learn/scikit-learn/issues/21755 */display: inline-block !important;position: relative;}#sk-container-id-4 div.sk-text-repr-fallback {display: none;}</style><div id=\"sk-container-id-4\" class=\"sk-top-container\"><div class=\"sk-text-repr-fallback\"><pre>DecisionTreeClassifier()</pre><b>In a Jupyter environment, please rerun this cell to show the HTML representation or trust the notebook. <br />On GitHub, the HTML representation is unable to render, please try loading this page with nbviewer.org.</b></div><div class=\"sk-container\" hidden><div class=\"sk-item\"><div class=\"sk-estimator sk-toggleable\"><input class=\"sk-toggleable__control sk-hidden--visually\" id=\"sk-estimator-id-4\" type=\"checkbox\" checked><label for=\"sk-estimator-id-4\" class=\"sk-toggleable__label sk-toggleable__label-arrow\">DecisionTreeClassifier</label><div class=\"sk-toggleable__content\"><pre>DecisionTreeClassifier()</pre></div></div></div></div></div>"
            ]
          },
          "metadata": {},
          "execution_count": 203
        }
      ]
    },
    {
      "cell_type": "code",
      "source": [
        "print(\"Accuracy:\",dt.score(X_test, y_test)*100,\"%\\n\")\n",
        "y_predicted = dt.predict(X_test)\n",
        "from sklearn import metrics\n",
        "print(metrics.classification_report(y_test, y_predicted))"
      ],
      "metadata": {
        "colab": {
          "base_uri": "https://localhost:8080/"
        },
        "id": "XMzkksnqS34n",
        "outputId": "dfba5b5b-f1d4-4e21-e555-a93449de19ff"
      },
      "execution_count": null,
      "outputs": [
        {
          "output_type": "stream",
          "name": "stdout",
          "text": [
            "Accuracy: 97.88461538461539 %\n",
            "\n",
            "              precision    recall  f1-score   support\n",
            "\n",
            "         0.0       0.99      0.99      0.99       439\n",
            "         1.0       0.93      0.94      0.93        81\n",
            "\n",
            "    accuracy                           0.98       520\n",
            "   macro avg       0.96      0.96      0.96       520\n",
            "weighted avg       0.98      0.98      0.98       520\n",
            "\n"
          ]
        }
      ]
    },
    {
      "cell_type": "markdown",
      "source": [
        "# **5. Random Forest**"
      ],
      "metadata": {
        "id": "pOt94ECmS6ep"
      }
    },
    {
      "cell_type": "code",
      "source": [
        "from sklearn.ensemble import RandomForestClassifier\n",
        "rf = RandomForestClassifier(n_estimators=40)\n",
        "rf.fit(X_train, y_train)"
      ],
      "metadata": {
        "colab": {
          "base_uri": "https://localhost:8080/",
          "height": 75
        },
        "id": "cWdzD5M5S7pB",
        "outputId": "173e8c61-c2b3-4659-8bdd-46165d5584e9"
      },
      "execution_count": null,
      "outputs": [
        {
          "output_type": "execute_result",
          "data": {
            "text/plain": [
              "RandomForestClassifier(n_estimators=40)"
            ],
            "text/html": [
              "<style>#sk-container-id-5 {color: black;background-color: white;}#sk-container-id-5 pre{padding: 0;}#sk-container-id-5 div.sk-toggleable {background-color: white;}#sk-container-id-5 label.sk-toggleable__label {cursor: pointer;display: block;width: 100%;margin-bottom: 0;padding: 0.3em;box-sizing: border-box;text-align: center;}#sk-container-id-5 label.sk-toggleable__label-arrow:before {content: \"▸\";float: left;margin-right: 0.25em;color: #696969;}#sk-container-id-5 label.sk-toggleable__label-arrow:hover:before {color: black;}#sk-container-id-5 div.sk-estimator:hover label.sk-toggleable__label-arrow:before {color: black;}#sk-container-id-5 div.sk-toggleable__content {max-height: 0;max-width: 0;overflow: hidden;text-align: left;background-color: #f0f8ff;}#sk-container-id-5 div.sk-toggleable__content pre {margin: 0.2em;color: black;border-radius: 0.25em;background-color: #f0f8ff;}#sk-container-id-5 input.sk-toggleable__control:checked~div.sk-toggleable__content {max-height: 200px;max-width: 100%;overflow: auto;}#sk-container-id-5 input.sk-toggleable__control:checked~label.sk-toggleable__label-arrow:before {content: \"▾\";}#sk-container-id-5 div.sk-estimator input.sk-toggleable__control:checked~label.sk-toggleable__label {background-color: #d4ebff;}#sk-container-id-5 div.sk-label input.sk-toggleable__control:checked~label.sk-toggleable__label {background-color: #d4ebff;}#sk-container-id-5 input.sk-hidden--visually {border: 0;clip: rect(1px 1px 1px 1px);clip: rect(1px, 1px, 1px, 1px);height: 1px;margin: -1px;overflow: hidden;padding: 0;position: absolute;width: 1px;}#sk-container-id-5 div.sk-estimator {font-family: monospace;background-color: #f0f8ff;border: 1px dotted black;border-radius: 0.25em;box-sizing: border-box;margin-bottom: 0.5em;}#sk-container-id-5 div.sk-estimator:hover {background-color: #d4ebff;}#sk-container-id-5 div.sk-parallel-item::after {content: \"\";width: 100%;border-bottom: 1px solid gray;flex-grow: 1;}#sk-container-id-5 div.sk-label:hover label.sk-toggleable__label {background-color: #d4ebff;}#sk-container-id-5 div.sk-serial::before {content: \"\";position: absolute;border-left: 1px solid gray;box-sizing: border-box;top: 0;bottom: 0;left: 50%;z-index: 0;}#sk-container-id-5 div.sk-serial {display: flex;flex-direction: column;align-items: center;background-color: white;padding-right: 0.2em;padding-left: 0.2em;position: relative;}#sk-container-id-5 div.sk-item {position: relative;z-index: 1;}#sk-container-id-5 div.sk-parallel {display: flex;align-items: stretch;justify-content: center;background-color: white;position: relative;}#sk-container-id-5 div.sk-item::before, #sk-container-id-5 div.sk-parallel-item::before {content: \"\";position: absolute;border-left: 1px solid gray;box-sizing: border-box;top: 0;bottom: 0;left: 50%;z-index: -1;}#sk-container-id-5 div.sk-parallel-item {display: flex;flex-direction: column;z-index: 1;position: relative;background-color: white;}#sk-container-id-5 div.sk-parallel-item:first-child::after {align-self: flex-end;width: 50%;}#sk-container-id-5 div.sk-parallel-item:last-child::after {align-self: flex-start;width: 50%;}#sk-container-id-5 div.sk-parallel-item:only-child::after {width: 0;}#sk-container-id-5 div.sk-dashed-wrapped {border: 1px dashed gray;margin: 0 0.4em 0.5em 0.4em;box-sizing: border-box;padding-bottom: 0.4em;background-color: white;}#sk-container-id-5 div.sk-label label {font-family: monospace;font-weight: bold;display: inline-block;line-height: 1.2em;}#sk-container-id-5 div.sk-label-container {text-align: center;}#sk-container-id-5 div.sk-container {/* jupyter's `normalize.less` sets `[hidden] { display: none; }` but bootstrap.min.css set `[hidden] { display: none !important; }` so we also need the `!important` here to be able to override the default hidden behavior on the sphinx rendered scikit-learn.org. See: https://github.com/scikit-learn/scikit-learn/issues/21755 */display: inline-block !important;position: relative;}#sk-container-id-5 div.sk-text-repr-fallback {display: none;}</style><div id=\"sk-container-id-5\" class=\"sk-top-container\"><div class=\"sk-text-repr-fallback\"><pre>RandomForestClassifier(n_estimators=40)</pre><b>In a Jupyter environment, please rerun this cell to show the HTML representation or trust the notebook. <br />On GitHub, the HTML representation is unable to render, please try loading this page with nbviewer.org.</b></div><div class=\"sk-container\" hidden><div class=\"sk-item\"><div class=\"sk-estimator sk-toggleable\"><input class=\"sk-toggleable__control sk-hidden--visually\" id=\"sk-estimator-id-5\" type=\"checkbox\" checked><label for=\"sk-estimator-id-5\" class=\"sk-toggleable__label sk-toggleable__label-arrow\">RandomForestClassifier</label><div class=\"sk-toggleable__content\"><pre>RandomForestClassifier(n_estimators=40)</pre></div></div></div></div></div>"
            ]
          },
          "metadata": {},
          "execution_count": 205
        }
      ]
    },
    {
      "cell_type": "code",
      "source": [
        "print(\"Accuracy:\",rf.score(X_test, y_test)*100,\"%\\n\")\n",
        "y_predicted = rf.predict(X_test)\n",
        "from sklearn import metrics\n",
        "print(metrics.classification_report(y_test, y_predicted))"
      ],
      "metadata": {
        "colab": {
          "base_uri": "https://localhost:8080/"
        },
        "id": "vWCeEIlYS-Zh",
        "outputId": "8eb23590-40b4-4670-d385-1cbd3c0424c6"
      },
      "execution_count": null,
      "outputs": [
        {
          "output_type": "stream",
          "name": "stdout",
          "text": [
            "Accuracy: 99.03846153846155 %\n",
            "\n",
            "              precision    recall  f1-score   support\n",
            "\n",
            "         0.0       1.00      0.99      0.99       439\n",
            "         1.0       0.95      0.99      0.97        81\n",
            "\n",
            "    accuracy                           0.99       520\n",
            "   macro avg       0.98      0.99      0.98       520\n",
            "weighted avg       0.99      0.99      0.99       520\n",
            "\n"
          ]
        }
      ]
    },
    {
      "cell_type": "markdown",
      "source": [
        "# **ROC CURVE BASED ON MODELS:**\n",
        "\n"
      ],
      "metadata": {
        "id": "l_zQLmg2TUDn"
      }
    },
    {
      "cell_type": "code",
      "source": [
        "predictedProba_rf=rf.predict_proba(X_test)\n",
        "predictedProba_dtc=dt.predict_proba(X_test)\n",
        "predictedProba_knn=knn.predict_proba(X_test)\n",
        "\n",
        "\n"
      ],
      "metadata": {
        "id": "i5BEDW2qTW3u"
      },
      "execution_count": null,
      "outputs": []
    },
    {
      "cell_type": "code",
      "source": [
        "fpr1, tpr1, thresh1 = roc_curve(y_test, predictedProba_rf[:,1], pos_label=1)\n",
        "fpr2, tpr2, thresh2 = roc_curve(y_test, predictedProba_dtc[:,1], pos_label=1)\n",
        "fpr3, tpr3, thresh3 = roc_curve(y_test, predictedProba_knn[:,1], pos_label=1)\n",
        "fpr4, tpr4, thresh4 = roc_curve(y_test, predictedProba_lr[:,1], pos_label=1)\n",
        "\n"
      ],
      "metadata": {
        "id": "eOjmTvOCT0Ia"
      },
      "execution_count": null,
      "outputs": []
    },
    {
      "cell_type": "code",
      "source": [
        "random_probs = [0 for i in range(len(y_test))]\n",
        "p_fpr, p_tpr, _ = roc_curve(y_test, random_probs, pos_label=1)"
      ],
      "metadata": {
        "id": "XAXw7JfzT4Ql"
      },
      "execution_count": null,
      "outputs": []
    },
    {
      "cell_type": "code",
      "source": [
        "plt.figure(figsize=(10,6))\n",
        "plt.plot(fpr1, tpr1, linestyle='--',color='black', label='Random Forest')\n",
        "plt.plot(fpr2, tpr2, linestyle='--',color='green', label='Decision Tree')\n",
        "plt.plot(fpr3, tpr3, linestyle='--',color='blue', label='KNN')\n",
        "plt.plot(fpr4, tpr4, linestyle='--',color='purple', label='Logistic Regression')\n",
        "\n",
        "\n",
        "plt.plot(p_fpr, p_tpr, linestyle='--', color='blue')\n",
        "# title\n",
        "plt.title('ROC curve')\n",
        "# x label\n",
        "plt.xlabel('False Positive Rate')\n",
        "# y label\n",
        "plt.ylabel('True Positive rate')\n",
        "\n",
        "plt.legend(loc='best')\n",
        "plt.savefig('ROC',dpi=300)\n",
        "plt.show();"
      ],
      "metadata": {
        "colab": {
          "base_uri": "https://localhost:8080/",
          "height": 564
        },
        "id": "LKCxZshsT6Yu",
        "outputId": "28b1b59a-fdab-49dc-cc02-012ccd077df9"
      },
      "execution_count": null,
      "outputs": [
        {
          "output_type": "display_data",
          "data": {
            "text/plain": [
              "<Figure size 1000x600 with 1 Axes>"
            ],
            "image/png": "[encoded data removed]"
          },
          "metadata": {}
        }
      ]
    },
    {
      "cell_type": "code",
      "source": [
        "def macroAverageCurve(modelName, x):\n",
        "    n_classes=2\n",
        "    fpr = dict()\n",
        "    tpr = dict()\n",
        "    roc_auc = dict()\n",
        "\n",
        "    for i in range(n_classes):\n",
        "        fpr[i], tpr[i], _ = roc_curve(np.array(pd.get_dummies(y_test))[:, i], np.array(pd.get_dummies(modelName))[:,i])\n",
        "        roc_auc[i] = auc(fpr[i], tpr[i])\n",
        "\n",
        "\n",
        "    all_fpr = np.unique(np.concatenate([fpr[i] for i in range(n_classes)]))\n",
        "\n",
        "    mean_tpr = np.zeros_like(all_fpr)\n",
        "    for i in range(n_classes):\n",
        "        mean_tpr += interp(all_fpr, fpr[i], tpr[i])\n",
        "\n",
        "    mean_tpr /= n_classes\n",
        "\n",
        "    fpr[\"macro\"] = all_fpr\n",
        "    tpr[\"macro\"] = mean_tpr\n",
        "    roc_auc[\"macro\"] = auc(fpr[\"macro\"], tpr[\"macro\"])\n",
        "\n",
        "\n",
        "    plt.figure(figsize=(10,6))\n",
        "    plt.plot(fpr[\"macro\"], tpr[\"macro\"],label=x,color='green', linestyle=':', linewidth=3)\n",
        "\n",
        "    plt.plot([0, 1], [0, 1], 'k--',color='red')\n",
        "    plt.xlabel('False Positive Rate')\n",
        "    plt.ylabel('True Positive Rate')\n",
        "    plt.title('Micro-Average')\n",
        "    plt.legend(loc=\"lower right\")\n",
        "    plt.show()"
      ],
      "metadata": {
        "id": "5itzE-_DT_5J"
      },
      "execution_count": null,
      "outputs": []
    },
    {
      "cell_type": "markdown",
      "source": [
        "# **1.Macro Average Logistic Regration**"
      ],
      "metadata": {
        "id": "_Ug3-2zHUoQd"
      }
    },
    {
      "cell_type": "code",
      "source": [
        "macroAverageCurve(y_predicted, \"Logistic Regration\")"
      ],
      "metadata": {
        "colab": {
          "base_uri": "https://localhost:8080/",
          "height": 633
        },
        "id": "fT6CLwPuUp4N",
        "outputId": "ab17d4fa-fc3a-44e0-ce28-4023ffdf81db"
      },
      "execution_count": null,
      "outputs": [
        {
          "output_type": "stream",
          "name": "stderr",
          "text": [
            "<ipython-input-219-a72af846a26a>:16: DeprecationWarning: scipy.interp is deprecated and will be removed in SciPy 2.0.0, use numpy.interp instead\n",
            "  mean_tpr += interp(all_fpr, fpr[i], tpr[i])\n",
            "<ipython-input-219-a72af846a26a>:28: UserWarning: color is redundantly defined by the 'color' keyword argument and the fmt string \"k--\" (-> color='k'). The keyword argument will take precedence.\n",
            "  plt.plot([0, 1], [0, 1], 'k--',color='red')\n"
          ]
        },
        {
          "output_type": "display_data",
          "data": {
            "text/plain": [
              "<Figure size 1000x600 with 1 Axes>"
            ],
            "image/png": "[encoded data removed]"
          },
          "metadata": {}
        }
      ]
    },
    {
      "cell_type": "markdown",
      "source": [
        "# **2.Macro Average SVM**"
      ],
      "metadata": {
        "id": "utQpUgOzUtqe"
      }
    },
    {
      "cell_type": "code",
      "source": [
        "macroAverageCurve(y_predicted, 'SVM')"
      ],
      "metadata": {
        "colab": {
          "base_uri": "https://localhost:8080/",
          "height": 633
        },
        "id": "G1Kr3J-bUuuX",
        "outputId": "716a1b93-3fd1-414b-a7f5-0418007047c4"
      },
      "execution_count": null,
      "outputs": [
        {
          "output_type": "stream",
          "name": "stderr",
          "text": [
            "<ipython-input-219-a72af846a26a>:16: DeprecationWarning: scipy.interp is deprecated and will be removed in SciPy 2.0.0, use numpy.interp instead\n",
            "  mean_tpr += interp(all_fpr, fpr[i], tpr[i])\n",
            "<ipython-input-219-a72af846a26a>:28: UserWarning: color is redundantly defined by the 'color' keyword argument and the fmt string \"k--\" (-> color='k'). The keyword argument will take precedence.\n",
            "  plt.plot([0, 1], [0, 1], 'k--',color='red')\n"
          ]
        },
        {
          "output_type": "display_data",
          "data": {
            "text/plain": [
              "<Figure size 1000x600 with 1 Axes>"
            ],
            "image/png": "[encoded data removed]"
          },
          "metadata": {}
        }
      ]
    },
    {
      "cell_type": "markdown",
      "source": [
        "# **3.Macro Average KNN**"
      ],
      "metadata": {
        "id": "m9C1KwAoUjq5"
      }
    },
    {
      "cell_type": "code",
      "source": [
        "macroAverageCurve(y_predicted, \"KNN\")"
      ],
      "metadata": {
        "colab": {
          "base_uri": "https://localhost:8080/",
          "height": 633
        },
        "id": "gFU9bXByUkp5",
        "outputId": "cca2bd22-1bc1-46fb-d22a-3fac5f3a174a"
      },
      "execution_count": null,
      "outputs": [
        {
          "output_type": "stream",
          "name": "stderr",
          "text": [
            "<ipython-input-219-a72af846a26a>:16: DeprecationWarning: scipy.interp is deprecated and will be removed in SciPy 2.0.0, use numpy.interp instead\n",
            "  mean_tpr += interp(all_fpr, fpr[i], tpr[i])\n",
            "<ipython-input-219-a72af846a26a>:28: UserWarning: color is redundantly defined by the 'color' keyword argument and the fmt string \"k--\" (-> color='k'). The keyword argument will take precedence.\n",
            "  plt.plot([0, 1], [0, 1], 'k--',color='red')\n"
          ]
        },
        {
          "output_type": "display_data",
          "data": {
            "text/plain": [
              "<Figure size 1000x600 with 1 Axes>"
            ],
            "image/png": "[encoded data removed]"
          },
          "metadata": {}
        }
      ]
    },
    {
      "cell_type": "markdown",
      "source": [
        "# **4.Macro Average Decision Tree**"
      ],
      "metadata": {
        "id": "CANgmjBUUZi1"
      }
    },
    {
      "cell_type": "code",
      "source": [
        "macroAverageCurve(y_predicted, \"Decision Tree\")"
      ],
      "metadata": {
        "colab": {
          "base_uri": "https://localhost:8080/",
          "height": 633
        },
        "id": "sJpX3TwrUaoF",
        "outputId": "2b65fbbd-1ac8-46e9-a7d6-2bb7f9a2a3e3"
      },
      "execution_count": null,
      "outputs": [
        {
          "output_type": "stream",
          "name": "stderr",
          "text": [
            "<ipython-input-219-a72af846a26a>:16: DeprecationWarning: scipy.interp is deprecated and will be removed in SciPy 2.0.0, use numpy.interp instead\n",
            "  mean_tpr += interp(all_fpr, fpr[i], tpr[i])\n",
            "<ipython-input-219-a72af846a26a>:28: UserWarning: color is redundantly defined by the 'color' keyword argument and the fmt string \"k--\" (-> color='k'). The keyword argument will take precedence.\n",
            "  plt.plot([0, 1], [0, 1], 'k--',color='red')\n"
          ]
        },
        {
          "output_type": "display_data",
          "data": {
            "text/plain": [
              "<Figure size 1000x600 with 1 Axes>"
            ],
            "image/png": "[encoded data removed]"
          },
          "metadata": {}
        }
      ]
    },
    {
      "cell_type": "markdown",
      "source": [
        "# **5.Macro Average Random Forest**\n",
        "\n",
        "\n",
        "\n"
      ],
      "metadata": {
        "id": "3xDXb8zGUDvr"
      }
    },
    {
      "cell_type": "code",
      "source": [
        "macroAverageCurve(y_predicted, \"Random Forest\")"
      ],
      "metadata": {
        "colab": {
          "base_uri": "https://localhost:8080/",
          "height": 633
        },
        "id": "8SjhSHwOUFFb",
        "outputId": "9ac34b81-71f1-4ad0-d7bb-93e2b42ffcdc"
      },
      "execution_count": null,
      "outputs": [
        {
          "output_type": "stream",
          "name": "stderr",
          "text": [
            "<ipython-input-219-a72af846a26a>:16: DeprecationWarning: scipy.interp is deprecated and will be removed in SciPy 2.0.0, use numpy.interp instead\n",
            "  mean_tpr += interp(all_fpr, fpr[i], tpr[i])\n",
            "<ipython-input-219-a72af846a26a>:28: UserWarning: color is redundantly defined by the 'color' keyword argument and the fmt string \"k--\" (-> color='k'). The keyword argument will take precedence.\n",
            "  plt.plot([0, 1], [0, 1], 'k--',color='red')\n"
          ]
        },
        {
          "output_type": "display_data",
          "data": {
            "text/plain": [
              "<Figure size 1000x600 with 1 Axes>"
            ],
            "image/png": "[encoded data removed]"
          },
          "metadata": {}
        }
      ]
    }
  ]
}